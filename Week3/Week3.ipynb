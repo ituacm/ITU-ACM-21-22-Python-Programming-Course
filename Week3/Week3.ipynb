{
 "cells": [
  {
   "cell_type": "markdown",
   "metadata": {
    "id": "_asB5ulD4Y2v"
   },
   "source": [
    "# FONKSİYONLAR"
   ]
  },
  {
   "cell_type": "markdown",
   "metadata": {
    "id": "vcce0pVk4Y2y"
   },
   "source": [
    "### Fonksiyon Nedir?"
   ]
  },
  {
   "cell_type": "markdown",
   "metadata": {
    "id": "oxVPjH9j4Y2z"
   },
   "source": [
    "Fonksiyonlar kısaca belirli bir işlevi yapmak için oluşturulan komutlar kümesidir. Örneğin print() fonksiyonu ekrana çıktı vermemizi sağlayan işlevi yapmak için belirli komutlar bulundurur."
   ]
  },
  {
   "cell_type": "markdown",
   "metadata": {
    "id": "1dCTU2nQ4Y2z"
   },
   "source": [
    "### Neden Fonksiyon?"
   ]
  },
  {
   "cell_type": "markdown",
   "metadata": {
    "id": "dkYeGKDU4Y2z"
   },
   "source": [
    "Karmaşık programlar yazılmaya başlandığında ve kod uzunluğu arttığında aynı işlemlerin tekrar edilmesi gereken yerler olabilir. Bunları her seferinde tek tek yazmak kodun okunabilirliğini azaltır. \n",
    "\n",
    "Bu durumlarda oluşturulan fonksiyonlar işlem her yapılmak istendiğinde çağrılıp kullanılır. Böylece kod karmaşasından kurtulunur."
   ]
  },
  {
   "cell_type": "markdown",
   "metadata": {
    "id": "M016uCDf4Y20"
   },
   "source": [
    "Fonksiyonlar sayesinde:\n",
    "\n",
    "- Aynı kodu defalarca yazmak gerekmez. Dolayısıyla bellek (RAM) gereksiz yere dolmaz.\n",
    "- Programcıların aynı proje üzerinde beraber çalışmasını kolaylaştırır.\n",
    "- İşleri küçük birimlere bölmek, programlama hatalarını bulmayı (debugging) kolaylaştırır.\n",
    "- Programlama dilinin çekirdek tanımında bulunmayan üst seviye işlemleri tek komutla yapmayı sağlar.\n",
    "- Fonksiyon tanımları, oluşturulan modüller içerisinde saklanarak farklı programlarda da kullanılabilir.\n"
   ]
  },
  {
   "cell_type": "markdown",
   "metadata": {
    "id": "tPY7NOdN4Y20"
   },
   "source": [
    "## Fonksiyonlara Giriş"
   ]
  },
  {
   "cell_type": "markdown",
   "metadata": {
    "id": "4jPtn41m4Y21"
   },
   "source": [
    "Fonksiyonlar, matematikteki f(x) = y ifadelerindeki mantıkla düşünülebilir. Tek farkı girdi veya çıktı sayısının tek olmak zorunda olmayışıdır. Yani f(x, y, z, t) = a, b şeklinde fonksiyonlar da Python'da yazılabilir. Girdi olarak verilen değişkenler (eğer adrese referans etmiyorlar ise) stack adı verilen hazıfa bölmesine kopyalanır. Fonksiyon bu girdilerin değerlerini kullanabiliyor olmasına rağmen sonlandığında üzerlerinde bir değişime sebep olmaz.\n"
   ]
  },
  {
   "cell_type": "markdown",
   "metadata": {
    "id": "Hda-W1oG4Y22"
   },
   "source": [
    "Python'da bir fonksiyon tanımlanırken **def** ifadesi kullanılır. İngilizcedeki \"define\" kelimesinden gelmektedir. Bir fonksiyonun tanım satırı syntax'i şu şekildedir:\n",
    "\n",
    "<font color=blue>**def**</font> <font color=red>fonksiyonun_ismi</font>(<font color=green>fonksiyonun girdi parametreleri </font>(virgülle ayrılmış)):\n",
    "\n",
    "    ...\n",
    "    ...   fonksiyonun işlemleri...\n",
    "    ...\n",
    "    \n",
    "   <font color=blue>**return**</font> çıktı_parametre"
   ]
  },
  {
   "cell_type": "markdown",
   "metadata": {
    "id": "tnM4Iff-4Y23"
   },
   "source": [
    "Örneğin;"
   ]
  },
  {
   "cell_type": "code",
   "execution_count": null,
   "metadata": {
    "id": "oXe3EEAI4Y24"
   },
   "outputs": [],
   "source": [
    "def toplam(sayi_bir, sayi_iki):\n",
    "                                            # fonksiyonun içinde bir değişken oluşturduk\n",
    "    toplamlari = sayi_bir + sayi_iki        # aldığımız girdileri kullandık \n",
    "                                           \n",
    "    return toplamlari                       # çıktıyı döndürdük"
   ]
  },
  {
   "cell_type": "markdown",
   "metadata": {
    "id": "UWptfY8A4Y25"
   },
   "source": [
    "Yukarıdaki kod satırı tek başına hiçbir iş yapmamaktadır. Çünkü bir fonksiyonun çalışması için program içinde çağırılması gerekir."
   ]
  },
  {
   "cell_type": "code",
   "execution_count": null,
   "metadata": {
    "id": "iAgrTSOh4Y26",
    "outputId": "214a882b-27a6-4e6c-a76b-c3c49697b4c7"
   },
   "outputs": [
    {
     "name": "stdout",
     "output_type": "stream",
     "text": [
      "8\n"
     ]
    }
   ],
   "source": [
    "def toplam(sayi_bir, sayi_iki):              # bu\n",
    "                                             # kısım \n",
    "    toplamlari = sayi_bir + sayi_iki         # fonksiyon \n",
    "                                             # bloğudur\n",
    "    return toplamlari                        # \n",
    "\n",
    "a, b = 5, 3       # burada iki integer tanımladık\n",
    "c = toplam(a, b)  # burada fonksiyonu çağırıp girdi olarak a ve b yi kullandık,\n",
    "                  # fonksiyon çıktı olarak tek sayı return'leyeceğinden \n",
    "                  # tek bir sayıya fonksiyonun sonucunu atadık\n",
    "\n",
    "print(c)"
   ]
  },
  {
   "cell_type": "markdown",
   "metadata": {
    "id": "MUZjxCVj4Y26"
   },
   "source": [
    "Fonksiyonun çıktısını hiçbir değişkende tutmadan doğrudan da bastırabilirdik:"
   ]
  },
  {
   "cell_type": "code",
   "execution_count": null,
   "metadata": {
    "id": "oXd0pZKR4Y27",
    "outputId": "be72de4b-203e-49a2-9e9d-84978a91ab3b"
   },
   "outputs": [
    {
     "name": "stdout",
     "output_type": "stream",
     "text": [
      "8\n"
     ]
    }
   ],
   "source": [
    "def toplam(sayi_bir, sayi_iki):             \n",
    "    toplamlari = sayi_bir + sayi_iki          \n",
    "    return toplamlari                         \n",
    "\n",
    "a, b = 5, 3       \n",
    "print(toplam(a, b))"
   ]
  },
  {
   "cell_type": "markdown",
   "metadata": {
    "id": "XwOYpDu04Y27"
   },
   "source": [
    "Çoklu çıktılarda çıktı sayısıyla çıktıyı atama yaptığımız değişken sayısı eşit olmazsa fonksiyon tuple döndürür."
   ]
  },
  {
   "cell_type": "code",
   "execution_count": null,
   "metadata": {
    "id": "dZrIQp2i4Y27",
    "outputId": "86a1ace9-e2ec-46c6-cd03-83e6e85360ef"
   },
   "outputs": [
    {
     "name": "stdout",
     "output_type": "stream",
     "text": [
      "(12, -2)\n"
     ]
    }
   ],
   "source": [
    "def toplamfark(sayi_bir, sayi_iki):             \n",
    "    toplamlari = sayi_bir + sayi_iki\n",
    "    farklari = sayi_bir - sayi_iki\n",
    "    return toplamlari, farklari\n",
    "\n",
    "a, b = 5, 7\n",
    "\n",
    "c = toplamfark(a, b)\n",
    "print(c)"
   ]
  },
  {
   "cell_type": "markdown",
   "metadata": {
    "id": "IAhhuDUx4Y28"
   },
   "source": [
    "Ancak çıktı sayısı artınca atanan değer sayısının birden fazla olması hataya yol açar."
   ]
  },
  {
   "cell_type": "code",
   "execution_count": null,
   "metadata": {
    "id": "rYqQqxbC4Y28",
    "outputId": "4a671189-e988-4e56-cb03-370c02357d76"
   },
   "outputs": [
    {
     "name": "stdout",
     "output_type": "stream",
     "text": [
      "(12, -2, 35)\n"
     ]
    },
    {
     "ename": "ValueError",
     "evalue": "too many values to unpack (expected 2)",
     "output_type": "error",
     "traceback": [
      "\u001b[1;31m---------------------------------------------------------------------------\u001b[0m",
      "\u001b[1;31mValueError\u001b[0m                                Traceback (most recent call last)",
      "\u001b[1;32m<ipython-input-17-64fcd7942964>\u001b[0m in \u001b[0;36m<module>\u001b[1;34m\u001b[0m\n\u001b[0;32m     13\u001b[0m \u001b[0mprint\u001b[0m\u001b[1;33m(\u001b[0m\u001b[0mc\u001b[0m\u001b[1;33m)\u001b[0m\u001b[1;33m\u001b[0m\u001b[1;33m\u001b[0m\u001b[0m\n\u001b[0;32m     14\u001b[0m \u001b[1;33m\u001b[0m\u001b[0m\n\u001b[1;32m---> 15\u001b[1;33m \u001b[0mc\u001b[0m\u001b[1;33m,\u001b[0m \u001b[0md\u001b[0m \u001b[1;33m=\u001b[0m \u001b[0mtoplamfarkcarpim\u001b[0m\u001b[1;33m(\u001b[0m\u001b[0ma\u001b[0m\u001b[1;33m,\u001b[0m \u001b[0mb\u001b[0m\u001b[1;33m)\u001b[0m  \u001b[1;31m# bu satır hata verir\u001b[0m\u001b[1;33m\u001b[0m\u001b[1;33m\u001b[0m\u001b[0m\n\u001b[0m",
      "\u001b[1;31mValueError\u001b[0m: too many values to unpack (expected 2)"
     ]
    }
   ],
   "source": [
    "def toplamfarkcarpim(sayi_bir, sayi_iki):   \n",
    "    \n",
    "    toplamlari = sayi_bir + sayi_iki\n",
    "    farklari = sayi_bir - sayi_iki\n",
    "    carpimlari = sayi_bir * sayi_iki\n",
    "    \n",
    "    return toplamlari, farklari, carpimlari\n",
    "\n",
    "a, b = 5, 7\n",
    "\n",
    "c = toplamfarkcarpim(a, b)      # bu satır hata vermez \n",
    "                                # çünkü tek tuple değeri tamamen c ye atanır\n",
    "print(c)\n",
    "\n",
    "c, d = toplamfarkcarpim(a, b)  # bu satır hata verir"
   ]
  },
  {
   "cell_type": "markdown",
   "metadata": {
    "id": "fQLPk39eGV6F"
   },
   "source": [
    "Girdi parametreleri int, string gibi typelar olabildiği gibi list, tuple, dictionary, set gibi veri yapıları da olabilir."
   ]
  },
  {
   "cell_type": "code",
   "execution_count": null,
   "metadata": {
    "colab": {
     "base_uri": "https://localhost:8080/"
    },
    "id": "h_kbbb4OGetp",
    "outputId": "cd362333-7e38-426f-d5ec-7d6e682802d6"
   },
   "outputs": [
    {
     "name": "stdout",
     "output_type": "stream",
     "text": [
      "[1, 4, 9, 16]\n"
     ]
    }
   ],
   "source": [
    "def listsquare(thislist):\n",
    "    return [x**2 for x in thislist]\n",
    "\n",
    "list1 = [1, 2, 3, 4]\n",
    "list2 = listsquare(list1)\n",
    "print(list2)"
   ]
  },
  {
   "cell_type": "markdown",
   "metadata": {
    "id": "oOm5cLnf4Y28"
   },
   "source": [
    "Hiçbir değer döndürmeyen fonksiyonlar da olabilir:"
   ]
  },
  {
   "cell_type": "code",
   "execution_count": null,
   "metadata": {
    "id": "xdX_NYy-4Y28",
    "outputId": "6a41afc9-4505-4b89-e05b-bd12e0515d27",
    "scrolled": true
   },
   "outputs": [
    {
     "name": "stdout",
     "output_type": "stream",
     "text": [
      "[2, 3, 4]\n"
     ]
    }
   ],
   "source": [
    "def listeyi_arttirma(liste):\n",
    "    for i in range(len(liste)): # listenin her elemanını indexing methoduyla dolaşır\n",
    "        liste[i] += 1           # ve bir arttırır\n",
    "           \n",
    "liste = [1, 2, 3]\n",
    "\n",
    "listeyi_arttirma(liste)     # fonksiyon hiçbir çıktı vermeyeceğinden atama yapılmaz\n",
    "\n",
    "print(liste)"
   ]
  },
  {
   "cell_type": "markdown",
   "metadata": {
    "id": "zJqc22ld4Y29"
   },
   "source": [
    "Fonksiyonlar girdi almayabilirler:"
   ]
  },
  {
   "cell_type": "code",
   "execution_count": null,
   "metadata": {
    "id": "vm4waKwF4Y29",
    "outputId": "a2457091-99e8-40c3-d359-71f3d943f1fe"
   },
   "outputs": [
    {
     "name": "stdout",
     "output_type": "stream",
     "text": [
      "Hoşgeldiniz!\n",
      "\n",
      "Bakiyenizi öğrenmek için 1'i, yükleme yapmak için 2'yi, para çekmek için 3'ü, \n",
      "programdan çıkmak için 4'ü tuşlayınız.\n",
      "\n",
      "1\n",
      "Bakiyeniz: 500\n",
      "\n",
      "Bakiyenizi öğrenmek için 1'i, yükleme yapmak için 2'yi, para çekmek için 3'ü, \n",
      "programdan çıkmak için 4'ü tuşlayınız.\n",
      "\n",
      "2\n",
      "Lütfen yüklenecek miktarı giriniz: 300\n",
      "İşlem başarıyla gerçekleştirildi!\n",
      "\n",
      "Bakiyenizi öğrenmek için 1'i, yükleme yapmak için 2'yi, para çekmek için 3'ü, \n",
      "programdan çıkmak için 4'ü tuşlayınız.\n",
      "\n",
      "1\n",
      "Bakiyeniz: 800\n",
      "\n",
      "Bakiyenizi öğrenmek için 1'i, yükleme yapmak için 2'yi, para çekmek için 3'ü, \n",
      "programdan çıkmak için 4'ü tuşlayınız.\n",
      "\n",
      "3\n",
      "Lütfen çekmek istediğiniz miktarı giriniz: 900\n",
      "Lütfen bakiyenizi aşmayınız!\n",
      "Lütfen çekmek istediğiniz miktarı giriniz: 700\n",
      "İşlem başarıyla gerçekleştirildi!\n",
      "\n",
      "Bakiyenizi öğrenmek için 1'i, yükleme yapmak için 2'yi, para çekmek için 3'ü, \n",
      "programdan çıkmak için 4'ü tuşlayınız.\n",
      "\n",
      "1\n",
      "Bakiyeniz: 100\n",
      "\n",
      "Bakiyenizi öğrenmek için 1'i, yükleme yapmak için 2'yi, para çekmek için 3'ü, \n",
      "programdan çıkmak için 4'ü tuşlayınız.\n",
      "\n",
      "4\n",
      "Teşekkürler, iyi günler.\n"
     ]
    }
   ],
   "source": [
    "def talimatlar():                                # talimatları bastıran fonksiyon\n",
    "    print()\n",
    "    print(\"Bakiyenizi öğrenmek için 1'i, yükleme yapmak için 2'yi, para çekmek için 3'ü, \")\n",
    "    print(\"programdan çıkmak için 4'ü tuşlayınız.\")\n",
    "    print()\n",
    "\n",
    "def basarili():\n",
    "    print(\"İşlem başarıyla gerçekleştirildi!\")\n",
    "\n",
    "print(\"Hoşgeldiniz!\")    \n",
    "talimatlar()\n",
    "\n",
    "istek = int(input())\n",
    "bakiye = 500\n",
    "\n",
    "while (istek != 4):\n",
    "\n",
    "    if istek == 1:                    # talimatlardan 1 numara bakiyeyi bastırmak içindi\n",
    "        print(\"Bakiyeniz:\", bakiye)\n",
    "\n",
    "    elif istek == 2:                  # talimatlardan 2 numara bakiyeye ekleme yapmak içindi\n",
    "        \n",
    "        ekleme = int(input(\"Lütfen yüklenecek miktarı giriniz: \"))\n",
    "        \n",
    "        bakiye += ekleme\n",
    "        \n",
    "        basarili()\n",
    "\n",
    "    elif istek == 3:                  # talimatlardan 3 numara bakiyeyi eksiltmek içindi\n",
    "        \n",
    "        cekme = int(input(\"Lütfen çekmek istediğiniz miktarı giriniz: \"))\n",
    "        \n",
    "        while cekme > bakiye:        # bu döngüyle bakiyeden yüksek miktar girilmemesini sağlıyoruz\n",
    "            \n",
    "            print(\"Lütfen bakiyenizi aşmayınız!\")\n",
    "            \n",
    "            cekme = int(input(\"Lütfen çekmek istediğiniz miktarı giriniz: \"))\n",
    "            \n",
    "        # eğer yukarıdaki while döngüsünden çıkabilirse çekilmek istenen miktar bakiyeyi aşmıyordur\n",
    "        bakiye -= cekme \n",
    "        \n",
    "        basarili()\n",
    "        \n",
    "    else:\n",
    "        print(\"Lütfen talimatlar doğrultusunda bir sayı giriniz!\")\n",
    "\n",
    "    talimatlar()\n",
    "    istek = int(input())\n",
    "    \n",
    "print(\"Teşekkürler, iyi günler.\")"
   ]
  },
  {
   "cell_type": "markdown",
   "metadata": {
    "id": "kiUEgfRIJzOQ"
   },
   "source": [
    "### Boş Fonksiyon"
   ]
  },
  {
   "cell_type": "markdown",
   "metadata": {
    "id": "Lh5bwl-dJ2tx"
   },
   "source": [
    "Fonksiyon tanımları normalde boş olmaz fakat bir nedenden ötürü boş bir fonksiyona ihtiyacınız varsa **pass** ifadesiyle oluşturabilirsiniz."
   ]
  },
  {
   "cell_type": "code",
   "execution_count": null,
   "metadata": {
    "id": "3J77iZwaJ3_A"
   },
   "outputs": [],
   "source": [
    "liste = [1, 2, 3, 4]\n",
    "\n",
    "def empty(bir_liste):\n",
    "    pass\n",
    "\n",
    "empty(liste)"
   ]
  },
  {
   "cell_type": "markdown",
   "metadata": {
    "id": "0bshsAT-L67_"
   },
   "source": [
    "# Lambda"
   ]
  },
  {
   "cell_type": "markdown",
   "metadata": {
    "id": "-W8QzPHTNyZt"
   },
   "source": [
    "Lambda, fonksiyon tanımlamanın bir yoludur. Normal fonksiyonlardan farkı ise anonim olmalarıdır. Lambda fonksiyonları, isimlendirilmek zorunda değildirler."
   ]
  },
  {
   "cell_type": "markdown",
   "metadata": {
    "id": "oERyklJEOSZT"
   },
   "source": [
    "Normal bir fonksiyonun gereksiz olduğu durumlarda kullanılan; küçük, bir satırlık (bir ifadelik) fonksiyonlardır. "
   ]
  },
  {
   "cell_type": "markdown",
   "metadata": {
    "id": "SLvEPKoWO9U1"
   },
   "source": [
    "Yazımı *lambda argümanlar : ifadeler* şeklindedir"
   ]
  },
  {
   "cell_type": "code",
   "execution_count": null,
   "metadata": {
    "colab": {
     "base_uri": "https://localhost:8080/"
    },
    "id": "o1pp4ZdhPStP",
    "outputId": "fa6695e8-ec50-4f19-b2b8-7358abd376c6"
   },
   "outputs": [
    {
     "name": "stdout",
     "output_type": "stream",
     "text": [
      "10\n"
     ]
    }
   ],
   "source": [
    "def iki_kat(x):\n",
    "  return x * 2\n",
    "\n",
    "print(iki_kat(5))"
   ]
  },
  {
   "cell_type": "markdown",
   "metadata": {
    "id": "VeHTGzh-PsnU"
   },
   "source": [
    "Bunun yerine lambda kullanılabilir:"
   ]
  },
  {
   "cell_type": "code",
   "execution_count": null,
   "metadata": {
    "colab": {
     "base_uri": "https://localhost:8080/"
    },
    "id": "MqS6d9sJPoVp",
    "outputId": "12c40c5d-42d0-4958-b210-0aadf71ff67c"
   },
   "outputs": [
    {
     "name": "stdout",
     "output_type": "stream",
     "text": [
      "10\n"
     ]
    }
   ],
   "source": [
    "iki_kat = lambda x: x*2\n",
    "\n",
    "print(iki_kat(5))"
   ]
  },
  {
   "cell_type": "markdown",
   "metadata": {
    "id": "2y1EmQUbP3ie"
   },
   "source": [
    "Lambda fonksiyonunu bir isme atamak zorunda değilsiniz:"
   ]
  },
  {
   "cell_type": "code",
   "execution_count": null,
   "metadata": {
    "colab": {
     "base_uri": "https://localhost:8080/"
    },
    "id": "s277DuMUP8R7",
    "outputId": "9aac3ac4-e619-4605-b505-93f0d5a780d7"
   },
   "outputs": [
    {
     "name": "stdout",
     "output_type": "stream",
     "text": [
      "10\n"
     ]
    }
   ],
   "source": [
    "print((lambda x: x*2)(5))"
   ]
  },
  {
   "cell_type": "markdown",
   "metadata": {
    "id": "vPNhc4vpQNnR"
   },
   "source": [
    "Lambda fonksiyonu herhani bir ifade alabilir(sadece bir tane almak koşuluyla)."
   ]
  },
  {
   "cell_type": "code",
   "execution_count": null,
   "metadata": {
    "colab": {
     "base_uri": "https://localhost:8080/"
    },
    "id": "8DKb53GqQc_g",
    "outputId": "ed8178ab-fe6d-456b-b50f-6566d403c36b"
   },
   "outputs": [
    {
     "name": "stdout",
     "output_type": "stream",
     "text": [
      "tek\n"
     ]
    }
   ],
   "source": [
    "çift_tek = lambda x: \"çift\" if x%2 == 0 else \"tek\"\n",
    "\n",
    "print(çift_tek(23))"
   ]
  },
  {
   "cell_type": "markdown",
   "metadata": {
    "id": "XOR-4n84Q3U5"
   },
   "source": [
    "Birden fazla argüman alabilir."
   ]
  },
  {
   "cell_type": "code",
   "execution_count": null,
   "metadata": {
    "colab": {
     "base_uri": "https://localhost:8080/"
    },
    "id": "S9yErC7vQ5mi",
    "outputId": "ecb5aba5-04c6-4446-b868-f897326279f3"
   },
   "outputs": [
    {
     "name": "stdout",
     "output_type": "stream",
     "text": [
      "2\n"
     ]
    }
   ],
   "source": [
    "min = lambda x, y: x if x < y else y\n",
    "\n",
    "print(min(2,11))"
   ]
  },
  {
   "cell_type": "markdown",
   "metadata": {
    "id": "VR3jzV_lRMh-"
   },
   "source": [
    "Argüman anahtarına değer atanabilir."
   ]
  },
  {
   "cell_type": "code",
   "execution_count": null,
   "metadata": {
    "colab": {
     "base_uri": "https://localhost:8080/"
    },
    "id": "4lEEqjDjRU-4",
    "outputId": "61a92942-d215-4cc2-cca1-23a0c21aa237"
   },
   "outputs": [
    {
     "name": "stdout",
     "output_type": "stream",
     "text": [
      "3 2 5\n"
     ]
    }
   ],
   "source": [
    "yazdır = lambda x, y, z: print(x, y, z)\n",
    "\n",
    "yazdır(z=5, x=3, y=2)"
   ]
  },
  {
   "cell_type": "markdown",
   "metadata": {
    "id": "Zqb8-dAxWneH"
   },
   "source": [
    "İfade olarak **list comprehension** kullanılabilir."
   ]
  },
  {
   "cell_type": "code",
   "execution_count": null,
   "metadata": {
    "colab": {
     "base_uri": "https://localhost:8080/"
    },
    "id": "KUD8H1vjXwD6",
    "outputId": "ef1c1d3d-c236-4cce-e78c-40ee5a08e811"
   },
   "outputs": [
    {
     "name": "stdout",
     "output_type": "stream",
     "text": [
      "[1, 2, 3, 4, 5, 6, 7, 8, 9]\n"
     ]
    }
   ],
   "source": [
    "list_merge = lambda içiçe_liste: [x for liste in içiçe_liste for x in liste]\n",
    "\n",
    "nested_list = [[1, 2], [3, 4, 5], [6, 7], [8], [9]]\n",
    "print(list_merge(nested_list))"
   ]
  },
  {
   "cell_type": "markdown",
   "metadata": {
    "id": "afzNzsdP4Y2-"
   },
   "source": [
    "### Recursion Kavramı"
   ]
  },
  {
   "cell_type": "markdown",
   "metadata": {
    "id": "mQCydKl34Y2-"
   },
   "source": [
    "Bir fonksiyon kendi kendini çağırıyorsa o fonksiyona **recursive** denir. Ancak fonksiyonun şartları ve bitiş sınırları iyi belirlenmelidir yoksa fonksiyon sonsuz döngüye girebilir ve RecursionError hatası ile karşılaşılır. Bu hatanın oluşma sebebi tekrar tekrar çağırılan tüm fonksiyonlar ve yerel değişkenler için alan ayrılmasıdır."
   ]
  },
  {
   "cell_type": "code",
   "execution_count": null,
   "metadata": {},
   "outputs": [],
   "source": [
    "def count_down_wError(n):\n",
    "    \n",
    "    print(n) # n yazdırılır\n",
    "\n",
    "    count_down_wError(n-1) # n-1 ile fonksiyon tekrar çağrılır\n",
    "\n",
    "count_down_wError(5)"
   ]
  },
  {
   "cell_type": "markdown",
   "metadata": {
    "id": "t-2ZErVDTLjP"
   },
   "source": [
    "Bu fonksiyonda n'in 0 a eşit olduğu durumdan itibaren fonksiyon çağrıları sırayla sonlandırılır ve RecursionError'dan kaçınılabilir."
   ]
  },
  {
   "cell_type": "code",
   "execution_count": 6,
   "metadata": {
    "colab": {
     "base_uri": "https://localhost:8080/"
    },
    "executionInfo": {
     "elapsed": 501,
     "status": "ok",
     "timestamp": 1633807784800,
     "user": {
      "displayName": "Kevser Günaydın",
      "photoUrl": "https://lh3.googleusercontent.com/a/default-user=s64",
      "userId": "15310268187696357188"
     },
     "user_tz": -180
    },
    "id": "m7kl_t7COMsx",
    "outputId": "4523440c-2016-4eb1-9f27-d1274230f021"
   },
   "outputs": [
    {
     "name": "stdout",
     "output_type": "stream",
     "text": [
      "5\n",
      "4\n",
      "3\n",
      "2\n",
      "1\n",
      "0\n"
     ]
    }
   ],
   "source": [
    "def count_down(n):\n",
    "    \n",
    "    print(n) # n yazdırılır\n",
    "    \n",
    "    if n == 0: # sıfır koşulu kontrol edilir\n",
    "      return\n",
    "    \n",
    "    count_down(n-1) # n-1 ile fonksiyon tekrar çağrılır\n",
    "  \n",
    "count_down(5)"
   ]
  },
  {
   "cell_type": "code",
   "execution_count": 7,
   "metadata": {
    "id": "PlXNoomB4Y2-",
    "outputId": "b879b944-69f3-4b38-eb21-27e8da4a4307"
   },
   "outputs": [
    {
     "name": "stdout",
     "output_type": "stream",
     "text": [
      "8\n"
     ]
    }
   ],
   "source": [
    "def fibonacci(a):\n",
    "    \n",
    "    if a == 1 or a == 0:      # fibonacci dizisinin 0 ıncı ve 1 inci indexinde 1 elemanı vardır\n",
    "        return 1\n",
    "    \n",
    "    return fibonacci(a - 1) + fibonacci(a - 2)\n",
    "\n",
    "print(fibonacci(5))           # 1 1 2 3 5 8"
   ]
  },
  {
   "cell_type": "code",
   "execution_count": 10,
   "metadata": {},
   "outputs": [
    {
     "name": "stdout",
     "output_type": "stream",
     "text": [
      "[1, 1, 2, 3, 5]\n",
      "[5, 3, 2, 1, 1]\n"
     ]
    }
   ],
   "source": [
    "def fibonacci(a):\n",
    "    \n",
    "    if a == 1 or a == 0:\n",
    "        return 1\n",
    "    \n",
    "    return fibonacci(a - 1) + fibonacci(a - 2)\n",
    "\n",
    "a = [fibonacci(x) for x in range(5)]  #range(5) 0'dan 4'e kadardır, 5 dahil değldir\n",
    "print(a)                              #böylece 5 sayı output olarak verildi\n",
    "\n",
    "b = [fibonacci(x) for x in range(4, -1, -1)]\n",
    "print(b)"
   ]
  },
  {
   "cell_type": "markdown",
   "metadata": {},
   "source": [
    "# UNUTMA"
   ]
  },
  {
   "cell_type": "markdown",
   "metadata": {
    "id": "f3fpoZUNRUBK"
   },
   "source": [
    "Recursion yapısı gereği, iç içe girmiş veri yapıları üzerindeki işlemlerde kolaylık sağlar. Fakat çoğu problem recursion kullanmadan daha hızlı çözülebilir."
   ]
  },
  {
   "cell_type": "code",
   "execution_count": 9,
   "metadata": {
    "colab": {
     "base_uri": "https://localhost:8080/"
    },
    "executionInfo": {
     "elapsed": 1100,
     "status": "ok",
     "timestamp": 1633807869912,
     "user": {
      "displayName": "Kevser Günaydın",
      "photoUrl": "https://lh3.googleusercontent.com/a/default-user=s64",
      "userId": "15310268187696357188"
     },
     "user_tz": -180
    },
    "id": "zzU0MbRYOL3U",
    "outputId": "890d4c88-a987-451f-bc0d-775a13bc5688"
   },
   "outputs": [
    {
     "name": "stdout",
     "output_type": "stream",
     "text": [
      "Recursive:  1307674368000 \n",
      "\n",
      "CPU times: user 1.85 ms, sys: 0 ns, total: 1.85 ms\n",
      "Wall time: 2.19 ms\n",
      "------------------------------------------------\n",
      "Iterative :  1307674368000 \n",
      "\n",
      "CPU times: user 848 µs, sys: 0 ns, total: 848 µs\n",
      "Wall time: 1.16 ms\n"
     ]
    }
   ],
   "source": [
    "def factorial_recursive(n):\n",
    "  return 1  if n == 0 else n * factorial_recursive(n - 1)\n",
    "\n",
    "%time print(\"Recursive: \",factorial_recursive(15), '\\n')\n",
    "\n",
    "print(\"------------------------------------------------\")\n",
    "\n",
    "def factorial_iterative(n):\n",
    "  fact = 1\n",
    "  for i in range (1, n + 1):\n",
    "    fact *= i\n",
    "  return fact\n",
    "\n",
    "%time print(\"Iterative : \",factorial_iterative(15), '\\n')"
   ]
  },
  {
   "cell_type": "markdown",
   "metadata": {
    "id": "KRzHDARf4Y2-"
   },
   "source": [
    "### Kütüphane Fonksiyonları"
   ]
  },
  {
   "cell_type": "markdown",
   "metadata": {
    "id": "g8mW-rbC4Y2-"
   },
   "source": [
    "Kütüphane, belirli bir işlev için hazırlanan fonksiyonlar topluluğudur. Bir kütüphane matematik fonksiyonlarını toplarken başka bir kütüphane kelime işleme, bir başkası ağ iletişimi, bir başkası oyun modülleri barındırıyor olabilir. Kütüphaneler bir dilin resmi tanımına dahil olabilir (bu durumda onlara standart kütüphane denir) veya üçüncü kişiler tarafından hazırlanmış olabilir. "
   ]
  },
  {
   "cell_type": "markdown",
   "metadata": {
    "id": "ASaiS-Ya4Y2_"
   },
   "source": [
    "Örneğin: Python'da math kütüphanesi.\n",
    "Kütüphaneyi kullanmak için import math ifadesi kullanılır. Daha sonrasında math ile birlikte gelen fonksiyonlar math.fonksiyon_adi(girdiler) şeklinde kullanılabilir."
   ]
  },
  {
   "cell_type": "code",
   "execution_count": 2,
   "metadata": {
    "colab": {
     "base_uri": "https://localhost:8080/"
    },
    "executionInfo": {
     "elapsed": 413,
     "status": "ok",
     "timestamp": 1633805488368,
     "user": {
      "displayName": "Kevser Günaydın",
      "photoUrl": "https://lh3.googleusercontent.com/a/default-user=s64",
      "userId": "15310268187696357188"
     },
     "user_tz": -180
    },
    "id": "lVI7exS44Y2_",
    "outputId": "0cfaaf4a-2838-4d39-eee8-66d213db27f2"
   },
   "outputs": [
    {
     "name": "stdout",
     "output_type": "stream",
     "text": [
      "1.7320508075688772\n",
      "1.0\n"
     ]
    }
   ],
   "source": [
    "import math\n",
    "print(math.sqrt(3)) \n",
    "print(math.sin(math.pi / 2))"
   ]
  },
  {
   "cell_type": "markdown",
   "metadata": {
    "id": "SimYj_AdXY1y"
   },
   "source": [
    "help(modül.fonksiyon) kullanılarak dokümantasyon bilgilerine erişilebilir."
   ]
  },
  {
   "cell_type": "code",
   "execution_count": null,
   "metadata": {
    "colab": {
     "base_uri": "https://localhost:8080/"
    },
    "executionInfo": {
     "elapsed": 329,
     "status": "ok",
     "timestamp": 1633701652470,
     "user": {
      "displayName": "Kevser Günaydın",
      "photoUrl": "https://lh3.googleusercontent.com/a/default-user=s64",
      "userId": "15310268187696357188"
     },
     "user_tz": -180
    },
    "id": "I2I1d5qEM-0j",
    "outputId": "52cdb37f-00d8-4365-c68c-6d2e5cf09075"
   },
   "outputs": [
    {
     "name": "stdout",
     "output_type": "stream",
     "text": [
      "Help on built-in function acosh in module math:\n",
      "\n",
      "acosh(x, /)\n",
      "    Return the inverse hyperbolic cosine of x.\n",
      "\n"
     ]
    }
   ],
   "source": [
    "help(math.acosh)"
   ]
  },
  {
   "cell_type": "markdown",
   "metadata": {
    "id": "nd5NyQdhIGwc"
   },
   "source": [
    "math.pow(taban, üs) şeklinde parametre alır ve ** kullanımına eşdeğerdir."
   ]
  },
  {
   "cell_type": "code",
   "execution_count": null,
   "metadata": {
    "colab": {
     "base_uri": "https://localhost:8080/"
    },
    "executionInfo": {
     "elapsed": 301,
     "status": "ok",
     "timestamp": 1633700813474,
     "user": {
      "displayName": "Kevser Günaydın",
      "photoUrl": "https://lh3.googleusercontent.com/a/default-user=s64",
      "userId": "15310268187696357188"
     },
     "user_tz": -180
    },
    "id": "MvPocCRsHiaz",
    "outputId": "698ce239-c6a4-4a66-b59f-c09407a2bc49"
   },
   "outputs": [
    {
     "name": "stdout",
     "output_type": "stream",
     "text": [
      "True\n"
     ]
    }
   ],
   "source": [
    "print(6 ** 13 == pow(6, 13))"
   ]
  },
  {
   "cell_type": "markdown",
   "metadata": {
    "id": "NKtX4GzNJSlf"
   },
   "source": [
    "math.exp(üs) : e = 2.718281… tabanının parametre kadar üssünü alır ve pow(e, x) ya da e \\*\\*x 'e göre daha kesin bir sonuca sahiptir."
   ]
  },
  {
   "cell_type": "code",
   "execution_count": null,
   "metadata": {
    "colab": {
     "base_uri": "https://localhost:8080/"
    },
    "executionInfo": {
     "elapsed": 376,
     "status": "ok",
     "timestamp": 1633700599631,
     "user": {
      "displayName": "Kevser Günaydın",
      "photoUrl": "https://lh3.googleusercontent.com/a/default-user=s64",
      "userId": "15310268187696357188"
     },
     "user_tz": -180
    },
    "id": "L5Gu6yCiIz4u",
    "outputId": "d74ec766-f337-405c-f15b-3fa1ffdeb956"
   },
   "outputs": [
    {
     "name": "stdout",
     "output_type": "stream",
     "text": [
      "2.718281828459045\n"
     ]
    }
   ],
   "source": [
    "print(math.exp(1))"
   ]
  },
  {
   "cell_type": "markdown",
   "metadata": {
    "id": "CEKNmvHiKSzQ"
   },
   "source": [
    "math.floor(x) ve math.ceil(x) resyonel bir sayıyı sırasıyla içinde bulunduğu aralığın minimum ve maksimum değerlerine atarlar. Bu sebeple sonuçları eşit olmaz. round(x) ise  rasyonel sayıları yakınlıklarına ve virgülden sonra istenen rakam miktarına göre atar."
   ]
  },
  {
   "cell_type": "code",
   "execution_count": 4,
   "metadata": {
    "colab": {
     "base_uri": "https://localhost:8080/"
    },
    "executionInfo": {
     "elapsed": 420,
     "status": "ok",
     "timestamp": 1633805555143,
     "user": {
      "displayName": "Kevser Günaydın",
      "photoUrl": "https://lh3.googleusercontent.com/a/default-user=s64",
      "userId": "15310268187696357188"
     },
     "user_tz": -180
    },
    "id": "qk4AC4pjLPcg",
    "outputId": "3c181c98-3c2d-4d40-d570-1d2c56b97e61"
   },
   "outputs": [
    {
     "name": "stdout",
     "output_type": "stream",
     "text": [
      "17.285714285714285\n",
      "Ceil: 18\n",
      "Floor: 17\n",
      "Round: 17\n",
      "Round (,3): 17.286\n"
     ]
    }
   ],
   "source": [
    "rasyonel_sayı = 121/7\n",
    "print(rasyonel_sayı)\n",
    "print(\"Ceil:\" ,math.ceil(rasyonel_sayı))\n",
    "print(\"Floor:\" ,math.floor(rasyonel_sayı))\n",
    "print(\"Round:\" ,round(rasyonel_sayı))\n",
    "print(\"Round (,3):\" ,round(rasyonel_sayı, 3))"
   ]
  },
  {
   "cell_type": "markdown",
   "metadata": {
    "id": "gSFvWV2pZ2Pu"
   },
   "source": [
    "Python kütüphanelerine ait dökümantasyonlara ulaşabilir ve içerdikleri fonksiyonlara ait örnekleri inceleyebilirsiniz. Örneğin [python.math](https://docs.python.org/3/library/math.html) bağlantısı"
   ]
  },
  {
   "cell_type": "markdown",
   "metadata": {
    "id": "mDF6Aldsf63k"
   },
   "source": [
    "### Scope"
   ]
  },
  {
   "cell_type": "markdown",
   "metadata": {
    "id": "Q9KvZNKMf9I4"
   },
   "source": [
    "Bir değişken sadece tanımlandığı alan içerisinde kullanılabilir ve gerçerli olduğu bu aralığa scope denir."
   ]
  },
  {
   "cell_type": "markdown",
   "metadata": {
    "id": "lasJYUX2gXlk"
   },
   "source": [
    "#### Local Scope"
   ]
  },
  {
   "cell_type": "markdown",
   "metadata": {
    "id": "3fpDb9fHgatG"
   },
   "source": [
    "Bir fonksiyon içerisinde oluşturulan değişken, fonksiyonun local scope'una aittir ve sadece burada kullanılabilir."
   ]
  },
  {
   "cell_type": "code",
   "execution_count": 15,
   "metadata": {
    "colab": {
     "base_uri": "https://localhost:8080/",
     "height": 195
    },
    "executionInfo": {
     "elapsed": 527,
     "status": "error",
     "timestamp": 1633810607966,
     "user": {
      "displayName": "Kevser Günaydın",
      "photoUrl": "https://lh3.googleusercontent.com/a/default-user=s64",
      "userId": "15310268187696357188"
     },
     "user_tz": -180
    },
    "id": "o6SlZlgWimx6",
    "outputId": "8d649ef5-094d-4e45-d8a1-453f91c718a0"
   },
   "outputs": [
    {
     "ename": "NameError",
     "evalue": "ignored",
     "output_type": "error",
     "traceback": [
      "\u001b[0;31m---------------------------------------------------------------------------\u001b[0m",
      "\u001b[0;31mNameError\u001b[0m                                 Traceback (most recent call last)",
      "\u001b[0;32m<ipython-input-15-b154bf016add>\u001b[0m in \u001b[0;36m<module>\u001b[0;34m()\u001b[0m\n\u001b[1;32m      8\u001b[0m   \u001b[0miç_fonksiyon\u001b[0m\u001b[0;34m(\u001b[0m\u001b[0;34m)\u001b[0m \u001b[0;31m#iç fonksiyon çağrılır\u001b[0m\u001b[0;34m\u001b[0m\u001b[0;34m\u001b[0m\u001b[0m\n\u001b[1;32m      9\u001b[0m \u001b[0;34m\u001b[0m\u001b[0m\n\u001b[0;32m---> 10\u001b[0;31m \u001b[0mprint\u001b[0m\u001b[0;34m(\u001b[0m\u001b[0myerel_değişken\u001b[0m\u001b[0;34m)\u001b[0m \u001b[0;31m#fonksiyon, local scope dışında çağrılır.\u001b[0m\u001b[0;34m\u001b[0m\u001b[0;34m\u001b[0m\u001b[0m\n\u001b[0m",
      "\u001b[0;31mNameError\u001b[0m: name 'yerel_değişken' is not defined"
     ]
    }
   ],
   "source": [
    "def fonksiyon():\n",
    "\n",
    "  yerel_değişken = input(\"Değişken: \") #fonksiyonun local scope'u içerisinde bir değişken oluşturulur.\n",
    "  \n",
    "  def iç_fonksiyon():\n",
    "    print(yerel_değişken) #bu yerel değişkeni kullanan bir iç fonksiyon tanımlanır. \n",
    "  \n",
    "  iç_fonksiyon() #iç fonksiyon çağrılır\n",
    "\n",
    "print(yerel_değişken) #fonksiyon, local scope dışında çağrılır."
   ]
  },
  {
   "cell_type": "markdown",
   "metadata": {
    "id": "m8D4tMM-tSQH"
   },
   "source": [
    "Yukarıda görüldüğü gibi yerel_değişken fonksiyon dışında erişilemez. Fakat yine fonksiyonun local scope'unda yer alan iç_fonksiyon tarafından kullanabilir."
   ]
  },
  {
   "cell_type": "code",
   "execution_count": 16,
   "metadata": {
    "colab": {
     "base_uri": "https://localhost:8080/"
    },
    "executionInfo": {
     "elapsed": 3575,
     "status": "ok",
     "timestamp": 1633810635095,
     "user": {
      "displayName": "Kevser Günaydın",
      "photoUrl": "https://lh3.googleusercontent.com/a/default-user=s64",
      "userId": "15310268187696357188"
     },
     "user_tz": -180
    },
    "id": "FDQCUntjlwVG",
    "outputId": "35bc7cfd-f6e2-4965-d997-b54c2c543c7f"
   },
   "outputs": [
    {
     "name": "stdout",
     "output_type": "stream",
     "text": [
      "Değişken: deneme\n",
      "deneme\n"
     ]
    }
   ],
   "source": [
    "fonksiyon() #fonksiyon çağrıldığında ise local_var'ın kullanılabildiği görülür."
   ]
  },
  {
   "cell_type": "markdown",
   "metadata": {
    "id": "cKnIW2pQtKOf"
   },
   "source": [
    "#### Global Scope\n",
    "Python kodunun ana hattı içerisinde oluşturulan değişkenler global scope'a aittir ve tüm fonksiyonlar tarafından kullanılabilirler."
   ]
  },
  {
   "cell_type": "code",
   "execution_count": 19,
   "metadata": {
    "colab": {
     "base_uri": "https://localhost:8080/"
    },
    "executionInfo": {
     "elapsed": 527,
     "status": "ok",
     "timestamp": 1633812666505,
     "user": {
      "displayName": "Kevser Günaydın",
      "photoUrl": "https://lh3.googleusercontent.com/a/default-user=s64",
      "userId": "15310268187696357188"
     },
     "user_tz": -180
    },
    "id": "0hKqlTMSzUQv",
    "outputId": "8e9d8bc1-1e1b-44ef-def6-505c1cc512d7"
   },
   "outputs": [
    {
     "name": "stdout",
     "output_type": "stream",
     "text": [
      "100\n",
      "---\n",
      "100\n"
     ]
    }
   ],
   "source": [
    "global_değişken = 100 #global değişken tanımlanır\n",
    "\n",
    "def fonksiyon_2():\n",
    "  print(global_değişken) #fonksiyon içinde ve dışında kullanılır\n",
    "\n",
    "fonksiyon_2()\n",
    "print(\"---\")\n",
    "print(global_değişken)"
   ]
  },
  {
   "cell_type": "markdown",
   "metadata": {
    "id": "qzAv_a8UvYL7"
   },
   "source": [
    "Eğer global scope'a ait bir değişken ismi, local scope içinde tekrar kullanılırsa Python bunları farklı değişkenler olarak yorumlar."
   ]
  },
  {
   "cell_type": "code",
   "execution_count": 23,
   "metadata": {
    "colab": {
     "base_uri": "https://localhost:8080/"
    },
    "executionInfo": {
     "elapsed": 397,
     "status": "ok",
     "timestamp": 1633813322892,
     "user": {
      "displayName": "Kevser Günaydın",
      "photoUrl": "https://lh3.googleusercontent.com/a/default-user=s64",
      "userId": "15310268187696357188"
     },
     "user_tz": -180
    },
    "id": "BXOIKVRc2rYp",
    "outputId": "fc9f0849-7118-45b6-9e3f-1173edb6142e"
   },
   "outputs": [
    {
     "name": "stdout",
     "output_type": "stream",
     "text": [
      "local değişken\n",
      "---\n",
      "global değişken\n"
     ]
    }
   ],
   "source": [
    "x = \"global değişken\"\n",
    "\n",
    "def fonksiyon_3():\n",
    "  x = \"local değişken\"\n",
    "  print(x)\n",
    "\n",
    "fonksiyon_3() #local scope içindeki x kullanılır\n",
    "\n",
    "print(\"---\") \n",
    "\n",
    "print(x)      #global scope içindeki x kullanılır"
   ]
  },
  {
   "cell_type": "markdown",
   "metadata": {
    "id": "Zkc4VcKB1OaR"
   },
   "source": [
    "**global** anahtar kelimesi kullanılarak local scope içinde tanımlanan bir değişken, global scope'a ait olur. "
   ]
  },
  {
   "cell_type": "code",
   "execution_count": 22,
   "metadata": {
    "colab": {
     "base_uri": "https://localhost:8080/"
    },
    "executionInfo": {
     "elapsed": 402,
     "status": "ok",
     "timestamp": 1633813175732,
     "user": {
      "displayName": "Kevser Günaydın",
      "photoUrl": "https://lh3.googleusercontent.com/a/default-user=s64",
      "userId": "15310268187696357188"
     },
     "user_tz": -180
    },
    "id": "N4x9He1L2GgE",
    "outputId": "1e6c7551-f279-47c5-da2b-2260a2b6d55b"
   },
   "outputs": [
    {
     "name": "stdout",
     "output_type": "stream",
     "text": [
      "500\n",
      "---\n",
      "500\n"
     ]
    }
   ],
   "source": [
    "def fonksiyon_4():\n",
    "  global değişken\n",
    "  değişken = 500\n",
    "  print(değişken)\n",
    "\n",
    "fonksiyon_4()\n",
    "\n",
    "print(\"---\")\n",
    "\n",
    "print(değişken)"
   ]
  },
  {
   "cell_type": "markdown",
   "metadata": {
    "id": "1AVHpzfe4D0s"
   },
   "source": [
    "Global scope'a ait bir değişkenin değeri bir fonksiyonda değiştirilmek isteniyorsa, local scope içinde yeni bir değişkenin oluşturulmasını önlemek için de **global** anahtar kelimesi kullanılmalıdır.\n"
   ]
  },
  {
   "cell_type": "code",
   "execution_count": 1,
   "metadata": {
    "colab": {
     "base_uri": "https://localhost:8080/"
    },
    "executionInfo": {
     "elapsed": 424,
     "status": "ok",
     "timestamp": 1633813650881,
     "user": {
      "displayName": "Kevser Günaydın",
      "photoUrl": "https://lh3.googleusercontent.com/a/default-user=s64",
      "userId": "15310268187696357188"
     },
     "user_tz": -180
    },
    "id": "Nd2BSgpT4Wr5",
    "outputId": "a961b246-4940-4e53-ae55-9716faa876be"
   },
   "outputs": [
    {
     "name": "stdout",
     "output_type": "stream",
     "text": [
      "500\n",
      "500\n"
     ]
    }
   ],
   "source": [
    "değişken = 400\n",
    "\n",
    "def fonksiyon_4():\n",
    "  global değişken\n",
    "  değişken = 500\n",
    "  print(değişken)\n",
    "\n",
    "fonksiyon_4() #global değişkeni kullandığı için değerini 500 olarak değiştirdi.\n",
    "print(değişken)"
   ]
  }
 ],
 "metadata": {
  "colab": {
   "collapsed_sections": [],
   "name": "nweek3.ipynb",
   "provenance": []
  },
  "kernelspec": {
   "display_name": "Python 3 (ipykernel)",
   "language": "python",
   "name": "python3"
  },
  "language_info": {
   "codemirror_mode": {
    "name": "ipython",
    "version": 3
   },
   "file_extension": ".py",
   "mimetype": "text/x-python",
   "name": "python",
   "nbconvert_exporter": "python",
   "pygments_lexer": "ipython3",
   "version": "3.9.7"
  }
 },
 "nbformat": 4,
 "nbformat_minor": 1
}
