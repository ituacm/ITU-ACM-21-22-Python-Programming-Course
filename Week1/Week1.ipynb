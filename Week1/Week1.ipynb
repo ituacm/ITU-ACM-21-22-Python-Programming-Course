{
 "cells": [
  {
   "cell_type": "markdown",
   "metadata": {
    "id": "YlXUaeO6OdSU"
   },
   "source": [
    "# Print() Fonksiyonu"
   ]
  },
  {
   "cell_type": "markdown",
   "metadata": {
    "id": "WkJvMG6rOtXj"
   },
   "source": [
    "Bir programın en temel fonksiyonlarından birisi ekrana çıktı vermektir. Python'da ekrana output bastırmak için print() fonksiyonu kullanılır:"
   ]
  },
  {
   "cell_type": "markdown",
   "metadata": {
    "id": "yhOQB2cWOxJ0"
   },
   "source": [
    "print() fonksiyonu aracılığıyla ekrana farklı veri tipleri bastırılabilir. Bunlardan en sık kullanılanı stringlerdir. print() fonksiyonu ile ekrana string bastırmak için bastırılacak stringin \" \" işaretleri arasına yazılması gerekmektedir."
   ]
  },
  {
   "cell_type": "code",
   "execution_count": null,
   "metadata": {
    "colab": {
     "base_uri": "https://localhost:8080/",
     "height": 34
    },
    "id": "6NrxslAHOyRc",
    "outputId": "f1d9f9c7-2052-4272-9e8e-50dc7d0e88b8"
   },
   "outputs": [
    {
     "name": "stdout",
     "output_type": "stream",
     "text": [
      "Hello World!\n"
     ]
    }
   ],
   "source": [
    "print(\"Hello World!\")"
   ]
  },
  {
   "cell_type": "markdown",
   "metadata": {
    "id": "N-Oa5BN4PGbl"
   },
   "source": [
    "print() fonksiyonu ile aynı zamanda matematiksel işlemlerin sonucu da bastırılabilir:"
   ]
  },
  {
   "cell_type": "code",
   "execution_count": null,
   "metadata": {
    "colab": {
     "base_uri": "https://localhost:8080/",
     "height": 34
    },
    "id": "EAzvkuOwPIYM",
    "outputId": "f00f45d6-738a-4e33-8390-3963c3b2fb2d"
   },
   "outputs": [
    {
     "name": "stdout",
     "output_type": "stream",
     "text": [
      "8\n"
     ]
    }
   ],
   "source": [
    "print(3+5)"
   ]
  },
  {
   "cell_type": "markdown",
   "metadata": {},
   "source": [
    "Python'da print() fonksiyonu yeni satır karakteriyle biter. Eğer print(x) kullanırsanız otomatik olarak yeni bir satıra geçecektir (Burada x \"Hello\" gibi herhangi bir şey olabilir)."
   ]
  },
  {
   "cell_type": "code",
   "execution_count": 1,
   "metadata": {},
   "outputs": [
    {
     "name": "stdout",
     "output_type": "stream",
     "text": [
      "Hello\n",
      "World\n"
     ]
    }
   ],
   "source": [
    "print(\"Hello\")\n",
    "print(\"World\")"
   ]
  },
  {
   "cell_type": "markdown",
   "metadata": {},
   "source": [
    "Aynı satıra yazdırmak istersek:"
   ]
  },
  {
   "cell_type": "code",
   "execution_count": 4,
   "metadata": {},
   "outputs": [
    {
     "name": "stdout",
     "output_type": "stream",
     "text": [
      "Hello World\n"
     ]
    }
   ],
   "source": [
    "print(\"Hello\", end =\" \")\n",
    "print(\"World\")"
   ]
  },
  {
   "cell_type": "markdown",
   "metadata": {},
   "source": [
    "end =\"x\", print() fonksiyonunda verilen outputun sonuna gelecek olan değerdir."
   ]
  },
  {
   "cell_type": "code",
   "execution_count": 9,
   "metadata": {},
   "outputs": [
    {
     "name": "stdout",
     "output_type": "stream",
     "text": [
      "Hello World\n"
     ]
    }
   ],
   "source": [
    "print(\"Hello\", \"World\", sep=\" \")"
   ]
  },
  {
   "cell_type": "markdown",
   "metadata": {},
   "source": [
    "sep=\"x\", output olarak verilmesini istediğimiz değerlerin ayıracıdır. sep=\" \" varsayılan olarak tanımlı olduğu için yukarıdaki gibi belirtilmesi gerekli değildir."
   ]
  },
  {
   "cell_type": "code",
   "execution_count": 3,
   "metadata": {},
   "outputs": [
    {
     "name": "stdout",
     "output_type": "stream",
     "text": [
      "Hello World\n"
     ]
    }
   ],
   "source": [
    "print(\"Hello\", \"World\")"
   ]
  },
  {
   "cell_type": "code",
   "execution_count": 10,
   "metadata": {},
   "outputs": [
    {
     "name": "stdout",
     "output_type": "stream",
     "text": [
      "Hello * World\n",
      "Hello * World\n"
     ]
    }
   ],
   "source": [
    "print(\"Hello\", end =\" * \")\n",
    "print(\"World\")\n",
    "print(\"Hello\", \"World\", sep=\" * \")"
   ]
  },
  {
   "cell_type": "markdown",
   "metadata": {
    "id": "ZDN2Qxs-QvDd"
   },
   "source": [
    "# Yorum Satırı"
   ]
  },
  {
   "cell_type": "markdown",
   "metadata": {
    "id": "SyH6yK6XRWFt"
   },
   "source": [
    "Programlamada okunabilirlik kadar yorum satırları da çok önemli bir husustur. Yorum satırları, yazılan kodun bir başkası tarafından anlaşılmasına yardımcı olan açıklamalardır. Hatta bazen kodun yazarının bile kafa karışıklığını gidermeye yarayabilir."
   ]
  },
  {
   "cell_type": "markdown",
   "metadata": {
    "id": "bUkw4iTvR10V"
   },
   "source": [
    "### Nasıl Kullanılır"
   ]
  },
  {
   "cell_type": "markdown",
   "metadata": {
    "id": "ECp-597SR_F9"
   },
   "source": [
    "Python \"#\" işaretini gördüğü satırlarda \"#\" işaretinden sonraki kısmı yorum satırı olarak algılar ve işlemez. "
   ]
  },
  {
   "cell_type": "code",
   "execution_count": null,
   "metadata": {
    "colab": {
     "base_uri": "https://localhost:8080/",
     "height": 34
    },
    "id": "M8-P9XxTSShh",
    "outputId": "da4da4f7-0dae-4d57-9faf-165866589a0c"
   },
   "outputs": [
    {
     "name": "stdout",
     "output_type": "stream",
     "text": [
      "Hello World!\n"
     ]
    }
   ],
   "source": [
    "#Burda \"Hello World!\" yazısını ekrana yazdırdık.\n",
    "print(\"Hello World!\")"
   ]
  },
  {
   "cell_type": "code",
   "execution_count": null,
   "metadata": {
    "colab": {
     "base_uri": "https://localhost:8080/",
     "height": 34
    },
    "id": "DCiK65CGSjy1",
    "outputId": "fef7ba12-6f9a-491d-a5e2-7ee35c07e490"
   },
   "outputs": [
    {
     "name": "stdout",
     "output_type": "stream",
     "text": [
      "8\n"
     ]
    }
   ],
   "source": [
    "print(3+5) # Burda 3 ve 5'in toplamını ekrana yazdırdık."
   ]
  },
  {
   "cell_type": "markdown",
   "metadata": {},
   "source": [
    "Çok satırlı bir yorum eklemek için her satıra bir tane # ekleyebilirsiniz."
   ]
  },
  {
   "cell_type": "code",
   "execution_count": 1,
   "metadata": {},
   "outputs": [],
   "source": [
    "#Burada\n",
    "#çok satırlı\n",
    "#yorum kullanıldı"
   ]
  },
  {
   "cell_type": "markdown",
   "metadata": {},
   "source": [
    "Python, bir değişkene atanmamış stringleri yok sayacağından, kodunuza çok satırlı bir string (üçlü tırnak) ekleyebilir ve yorum satırı olarak kullanabilirsiniz"
   ]
  },
  {
   "cell_type": "code",
   "execution_count": null,
   "metadata": {},
   "outputs": [],
   "source": [
    "\"\"\"Burada\n",
    "çok satırlı\n",
    "yorum kullanıldı\"\"\""
   ]
  },
  {
   "cell_type": "markdown",
   "metadata": {
    "id": "twzt_jURPLFU"
   },
   "source": [
    "### Değişkenler"
   ]
  },
  {
   "cell_type": "markdown",
   "metadata": {
    "id": "95CnzUfXP430"
   },
   "source": [
    "Programlama yaparken her zaman verilerin kesin değerlerini kullanarak işlemler yapmayız. Bazı veriler değişkendir, mesela hava sıcaklığı. Örneğin Celcius biriminden alınan hava sıcaklığını Kelvin birimine dönüştüren bir program yazıyorsak burada değişkenleri kullanırız. Çünkü hava sıcaklığı değişkendir ve bizim değişkenler üzerinden yazacağımız kod da bu değişkene göre sonuçlar alacaktır."
   ]
  },
  {
   "cell_type": "markdown",
   "metadata": {
    "id": "1m0ff83WQRHs"
   },
   "source": [
    "#### Değişken Tanımlama"
   ]
  },
  {
   "cell_type": "markdown",
   "metadata": {
    "id": "x-C9TTyOQhP0"
   },
   "source": [
    "Değişken tanımlarken dikkat etmemiz gereken birtakım kurallar var. Öncelikle basit bir değişken tanımlama örneği gösterelim."
   ]
  },
  {
   "cell_type": "code",
   "execution_count": null,
   "metadata": {
    "id": "uq4mfX0kQmy9"
   },
   "outputs": [],
   "source": [
    "a = 15 # Burda a değişkenine 15 değerini atadık."
   ]
  },
  {
   "cell_type": "code",
   "execution_count": null,
   "metadata": {
    "colab": {
     "base_uri": "https://localhost:8080/",
     "height": 34
    },
    "id": "pQFXVNbJQqBO",
    "outputId": "d93f8f57-e913-4142-94a4-92303102f4c6"
   },
   "outputs": [
    {
     "name": "stdout",
     "output_type": "stream",
     "text": [
      "15\n"
     ]
    }
   ],
   "source": [
    "print(a) # Burda a değerini yazdırdık."
   ]
  },
  {
   "cell_type": "markdown",
   "metadata": {
    "id": "WfaUzxiIZSR3"
   },
   "source": [
    "**Değişkenin adı = Değişkenin alacağı değer**"
   ]
  },
  {
   "cell_type": "markdown",
   "metadata": {
    "id": "nFo8jTuiZeZ-"
   },
   "source": [
    "Değişken tanımlamayı bu şekilde özetleyebiliriz. Bu aşamada değişkenimize vereceğimiz ad konusunda dikkatli ve açık olmalıyız. Bu konuda da bazı kurallar mevcut:"
   ]
  },
  {
   "cell_type": "markdown",
   "metadata": {
    "id": "9UopH2bXZhyG"
   },
   "source": [
    "1) Değişken adının içinde boşluk bulunamaz."
   ]
  },
  {
   "cell_type": "code",
   "execution_count": 9,
   "metadata": {
    "colab": {
     "base_uri": "https://localhost:8080/",
     "height": 128
    },
    "id": "rS8mWlSJZibP",
    "outputId": "057c9625-603f-4682-a8b3-0ecb3612b2bd"
   },
   "outputs": [
    {
     "ename": "SyntaxError",
     "evalue": "ignored",
     "output_type": "error",
     "traceback": [
      "\u001b[0;36m  File \u001b[0;32m\"<ipython-input-9-ad46b0ee513e>\"\u001b[0;36m, line \u001b[0;32m1\u001b[0m\n\u001b[0;31m    hava sıcaklığı = 34\u001b[0m\n\u001b[0m                 ^\u001b[0m\n\u001b[0;31mSyntaxError\u001b[0m\u001b[0;31m:\u001b[0m invalid syntax\n"
     ]
    }
   ],
   "source": [
    "hava sıcaklığı = 34\n",
    "\n",
    "print(hava sıcaklığı)"
   ]
  },
  {
   "cell_type": "markdown",
   "metadata": {
    "id": "fjJQ1rOaZl8O"
   },
   "source": [
    "Bu şekilde adlandırılmış bir değişken çalışmayıp hata verecektir."
   ]
  },
  {
   "cell_type": "markdown",
   "metadata": {
    "id": "MzdisdodZoSO"
   },
   "source": [
    "Birden fazla kelimeden oluşmasını istediğiniz değişken adlarını bitişik olacak biçimde yazmak durumundasınız."
   ]
  },
  {
   "cell_type": "code",
   "execution_count": 10,
   "metadata": {
    "colab": {
     "base_uri": "https://localhost:8080/",
     "height": 34
    },
    "id": "U9hOG17PZrm-",
    "outputId": "c8899b6a-932c-4bea-d57c-32d4758d6a79"
   },
   "outputs": [
    {
     "name": "stdout",
     "output_type": "stream",
     "text": [
      "34\n"
     ]
    }
   ],
   "source": [
    "havasıcaklığı = 34\n",
    "\n",
    "print(havasıcaklığı)"
   ]
  },
  {
   "cell_type": "markdown",
   "metadata": {
    "id": "zAdGbNMWZt8u"
   },
   "source": [
    "Burda kelimeleri bitişik yazdığımızda oluşabilecek kargaşayı önlemek için iki farklı yönteme başvurabiliriz"
   ]
  },
  {
   "cell_type": "code",
   "execution_count": 2,
   "metadata": {
    "colab": {
     "base_uri": "https://localhost:8080/",
     "height": 34
    },
    "id": "8-umvC-yaS0B",
    "outputId": "5a4b5030-a97a-4034-aade-86c89de1135f"
   },
   "outputs": [
    {
     "name": "stdout",
     "output_type": "stream",
     "text": [
      "34\n"
     ]
    }
   ],
   "source": [
    "havaSıcaklığı = 34 # Python'da büyük-küçük harf duyarlılığı vardır.\n",
    "\n",
    "print(havaSıcaklığı)"
   ]
  },
  {
   "cell_type": "code",
   "execution_count": 12,
   "metadata": {
    "colab": {
     "base_uri": "https://localhost:8080/",
     "height": 34
    },
    "id": "5ghJJFpBaUS2",
    "outputId": "9f305e4c-9071-404e-864d-a680e8b2f62d"
   },
   "outputs": [
    {
     "name": "stdout",
     "output_type": "stream",
     "text": [
      "34\n"
     ]
    }
   ],
   "source": [
    "hava_sıcaklığı = 34 # Kelimelerin arasına noktalama işareti koyularak karışıklık azaltılabilir.\n",
    "\n",
    "print(hava_sıcaklığı)"
   ]
  },
  {
   "cell_type": "code",
   "execution_count": 4,
   "metadata": {},
   "outputs": [
    {
     "name": "stdout",
     "output_type": "stream",
     "text": [
      "15\n",
      "30\n"
     ]
    }
   ],
   "source": [
    "a = 15 #Python'da büyük-küçük harf duyarlılığı vardır.\n",
    "A = 30 #a ve A farklı değişkenlerdir.\n",
    "\n",
    "print(a)\n",
    "print(A)"
   ]
  },
  {
   "cell_type": "markdown",
   "metadata": {
    "id": "KKlMRTa3aXbe"
   },
   "source": [
    "2) Değişken adı konurken anahtar kelimeler kullanamazsınız."
   ]
  },
  {
   "cell_type": "code",
   "execution_count": 13,
   "metadata": {
    "colab": {
     "base_uri": "https://localhost:8080/",
     "height": 128
    },
    "id": "7B5epFDiaVlD",
    "outputId": "e3d8c0a2-6481-40dc-ba33-ff5797f68eff"
   },
   "outputs": [
    {
     "ename": "SyntaxError",
     "evalue": "ignored",
     "output_type": "error",
     "traceback": [
      "\u001b[0;36m  File \u001b[0;32m\"<ipython-input-13-4badb502b60f>\"\u001b[0;36m, line \u001b[0;32m1\u001b[0m\n\u001b[0;31m    and = \"ve\" # Burda and adında bir değişkene \"ve\" string değerine atamaya çalışıyoruz.\u001b[0m\n\u001b[0m      ^\u001b[0m\n\u001b[0;31mSyntaxError\u001b[0m\u001b[0;31m:\u001b[0m invalid syntax\n"
     ]
    }
   ],
   "source": [
    "and = \"ve\" # Burda and adında bir değişkene \"ve\" string değerine atamaya çalışıyoruz.\n",
    "\n",
    "#Kodumuzu bu haliyle çalıştıralım."
   ]
  },
  {
   "cell_type": "markdown",
   "metadata": {
    "id": "J97FMJqmahHv"
   },
   "source": [
    "Burda and Python programlama dilinin anahtar kelimelerinden biri olduğundan hata verdi."
   ]
  },
  {
   "cell_type": "markdown",
   "metadata": {
    "id": "kvJIlivjakwG"
   },
   "source": [
    "3) Değişkenler adlarının içinde sayı bulunabilir fakat değişken adları sayı ile başlayamaz."
   ]
  },
  {
   "cell_type": "code",
   "execution_count": 16,
   "metadata": {
    "colab": {
     "base_uri": "https://localhost:8080/",
     "height": 34
    },
    "id": "A2caJcR3aaCY",
    "outputId": "60d3e0d9-fc74-40d4-a436-600e08d6bb74"
   },
   "outputs": [
    {
     "name": "stdout",
     "output_type": "stream",
     "text": [
      "18\n"
     ]
    }
   ],
   "source": [
    "sayı1 = 18\n",
    "\n",
    "print(sayı1)"
   ]
  },
  {
   "cell_type": "code",
   "execution_count": 17,
   "metadata": {
    "colab": {
     "base_uri": "https://localhost:8080/",
     "height": 128
    },
    "id": "oKl9hZCAarS1",
    "outputId": "159d3cea-1b46-409c-8ea9-31297cee8289",
    "scrolled": false
   },
   "outputs": [
    {
     "ename": "SyntaxError",
     "evalue": "ignored",
     "output_type": "error",
     "traceback": [
      "\u001b[0;36m  File \u001b[0;32m\"<ipython-input-17-6c8d18513032>\"\u001b[0;36m, line \u001b[0;32m1\u001b[0m\n\u001b[0;31m    1sayı = 18\u001b[0m\n\u001b[0m        ^\u001b[0m\n\u001b[0;31mSyntaxError\u001b[0m\u001b[0;31m:\u001b[0m invalid syntax\n"
     ]
    }
   ],
   "source": [
    "1sayı = 18\n",
    "\n",
    "print(1sayı)"
   ]
  },
  {
   "cell_type": "markdown",
   "metadata": {
    "id": "z0xt9Cv7anjl"
   },
   "source": [
    "Değişkenler tanımlanırken işlemler de yapılabilir. Mesela bir değişkene iki sayının toplamını atayabiliriz."
   ]
  },
  {
   "cell_type": "code",
   "execution_count": 18,
   "metadata": {
    "colab": {
     "base_uri": "https://localhost:8080/",
     "height": 34
    },
    "id": "A7wTN741a0F2",
    "outputId": "5e3fbeed-e730-4b5d-9d29-0c8399a2f73a"
   },
   "outputs": [
    {
     "name": "stdout",
     "output_type": "stream",
     "text": [
      "8\n"
     ]
    }
   ],
   "source": [
    "islem = 3+5\n",
    "\n",
    "print(islem)"
   ]
  },
  {
   "cell_type": "markdown",
   "metadata": {
    "id": "_aoh64t7a4FX"
   },
   "source": [
    "İstersek diğer değişkenler ile yaptığımız işlemlerin sonucunu da bir değişkene atayabiliriz."
   ]
  },
  {
   "cell_type": "code",
   "execution_count": 19,
   "metadata": {
    "colab": {
     "base_uri": "https://localhost:8080/",
     "height": 34
    },
    "id": "3YF-rxRya5kL",
    "outputId": "56712b46-197e-48f1-ec42-053876cf4cbe"
   },
   "outputs": [
    {
     "name": "stdout",
     "output_type": "stream",
     "text": [
      "25\n"
     ]
    }
   ],
   "source": [
    "a = 12\n",
    "b = 13\n",
    "\n",
    "c = a+b\n",
    "\n",
    "print(c)"
   ]
  },
  {
   "cell_type": "markdown",
   "metadata": {
    "id": "x9DiyEEUbO_G"
   },
   "source": [
    "Hatta karışık işlemler bile yapabiliriz."
   ]
  },
  {
   "cell_type": "code",
   "execution_count": 20,
   "metadata": {
    "colab": {
     "base_uri": "https://localhost:8080/",
     "height": 34
    },
    "id": "F1x7JDuXbIWW",
    "outputId": "92475a1c-cfe9-488b-ae5c-173041ae36c0"
   },
   "outputs": [
    {
     "name": "stdout",
     "output_type": "stream",
     "text": [
      "6\n"
     ]
    }
   ],
   "source": [
    "a = 4\n",
    "b = 6\n",
    "\n",
    "c = 3*(a+b) - a*b\n",
    "\n",
    "print(c)"
   ]
  },
  {
   "cell_type": "markdown",
   "metadata": {
    "id": "DaJISIYQbSfW"
   },
   "source": [
    "Değişkenlere stringler de atayabiliriz."
   ]
  },
  {
   "cell_type": "code",
   "execution_count": null,
   "metadata": {
    "id": "5Wn9ulkzbQfr"
   },
   "outputs": [],
   "source": [
    "isim = \"Hüseyin\"\n",
    "\n",
    "print(isim)"
   ]
  },
  {
   "cell_type": "markdown",
   "metadata": {
    "id": "gpca4uY9bi3Q"
   },
   "source": [
    "Stringleri birleştirmek için de toplama işaretini kullanabiliriz."
   ]
  },
  {
   "cell_type": "code",
   "execution_count": 21,
   "metadata": {
    "colab": {
     "base_uri": "https://localhost:8080/",
     "height": 34
    },
    "id": "qjpMBBKWbjNG",
    "outputId": "0956424d-45d9-4f4a-86f3-61894d1f80a9"
   },
   "outputs": [
    {
     "name": "stdout",
     "output_type": "stream",
     "text": [
      "HüseyinAverbek\n"
     ]
    }
   ],
   "source": [
    "isim = \"Hüseyin\"\n",
    "soyisim = \"Averbek\"\n",
    "\n",
    "kişi = isim + soyisim\n",
    "\n",
    "print(kişi)"
   ]
  },
  {
   "cell_type": "markdown",
   "metadata": {
    "id": "FAXAa9q-boqW"
   },
   "source": [
    "Burda \"Hüseyin\" stringinin sonunda ve \"Averbek\" stringinin başında boşluk bulunmadığı için ismi ve soyismi bitişik yazdırdı. Bu duruma karşılık da şöyle bir çözüm getirilebilir:"
   ]
  },
  {
   "cell_type": "code",
   "execution_count": 22,
   "metadata": {
    "colab": {
     "base_uri": "https://localhost:8080/",
     "height": 34
    },
    "id": "CzcMGUcvbmQ4",
    "outputId": "2597c2c6-0f6b-44ad-fed6-0fd8ea30af24"
   },
   "outputs": [
    {
     "name": "stdout",
     "output_type": "stream",
     "text": [
      "Hüseyin Averbek\n"
     ]
    }
   ],
   "source": [
    "isim = \"Hüseyin\"\n",
    "soyisim = \"Averbek\"\n",
    "\n",
    "kişi = isim + \" \" + soyisim\n",
    "\n",
    "print(kişi)"
   ]
  },
  {
   "cell_type": "markdown",
   "metadata": {
    "id": "lDYiSGHmbyn3"
   },
   "source": [
    "**Uyarı**: Tırnak işareti kullanılmadan yazılan sayılar ile stringler toplama işaretiyle birleştirilemez!"
   ]
  },
  {
   "cell_type": "code",
   "execution_count": 23,
   "metadata": {
    "colab": {
     "base_uri": "https://localhost:8080/",
     "height": 229
    },
    "id": "btmCSbTfbwBe",
    "outputId": "df2561bf-4ae1-461e-efaa-acfbd23a7cc5"
   },
   "outputs": [
    {
     "ename": "TypeError",
     "evalue": "ignored",
     "output_type": "error",
     "traceback": [
      "\u001b[0;31m---------------------------------------------------------------------------\u001b[0m",
      "\u001b[0;31mTypeError\u001b[0m                                 Traceback (most recent call last)",
      "\u001b[0;32m<ipython-input-23-44cd13e20d0a>\u001b[0m in \u001b[0;36m<module>\u001b[0;34m()\u001b[0m\n\u001b[1;32m      2\u001b[0m \u001b[0myaş\u001b[0m \u001b[0;34m=\u001b[0m \u001b[0;36m21\u001b[0m\u001b[0;34m\u001b[0m\u001b[0;34m\u001b[0m\u001b[0m\n\u001b[1;32m      3\u001b[0m \u001b[0;34m\u001b[0m\u001b[0m\n\u001b[0;32m----> 4\u001b[0;31m \u001b[0misim_yaş\u001b[0m \u001b[0;34m=\u001b[0m \u001b[0misim\u001b[0m \u001b[0;34m+\u001b[0m \u001b[0;34m\" \"\u001b[0m \u001b[0;34m+\u001b[0m \u001b[0myaş\u001b[0m\u001b[0;34m\u001b[0m\u001b[0;34m\u001b[0m\u001b[0m\n\u001b[0m\u001b[1;32m      5\u001b[0m \u001b[0;34m\u001b[0m\u001b[0m\n\u001b[1;32m      6\u001b[0m \u001b[0mprint\u001b[0m\u001b[0;34m(\u001b[0m\u001b[0misim_yaş\u001b[0m\u001b[0;34m)\u001b[0m\u001b[0;34m\u001b[0m\u001b[0;34m\u001b[0m\u001b[0m\n",
      "\u001b[0;31mTypeError\u001b[0m: must be str, not int"
     ]
    }
   ],
   "source": [
    "isim = \"Hüseyin\"\n",
    "yaş = 21\n",
    "\n",
    "isim_yaş = isim + \" \" + yaş\n",
    "\n",
    "print(isim_yaş)"
   ]
  },
  {
   "cell_type": "markdown",
   "metadata": {
    "id": "BRuatK_4cMZN"
   },
   "source": [
    "\n",
    "Yukarıdaki hatayı almamızın sebebi [ isim_yaş = isim + \" \" + yaş ] satırında bir stringle bir tam sayıyı toplamaya çalışmamız. Bu durumun önüne geçmek için tamsayı değerimiz tırnak içine alınabilir. Böylelikle 2 stringi birleştirebiliriz:"
   ]
  },
  {
   "cell_type": "code",
   "execution_count": 25,
   "metadata": {
    "colab": {
     "base_uri": "https://localhost:8080/",
     "height": 34
    },
    "id": "wQEvb2Ffb4GF",
    "outputId": "fbf8a69d-2a96-4223-f173-c8c2b4c85445"
   },
   "outputs": [
    {
     "name": "stdout",
     "output_type": "stream",
     "text": [
      "Hüseyin 21\n"
     ]
    }
   ],
   "source": [
    "isim = \"Hüseyin\"\n",
    "yaş = \"21\"\n",
    "\n",
    "isim_yaş = isim + \" \" + yaş\n",
    "\n",
    "print(isim_yaş)"
   ]
  },
  {
   "cell_type": "markdown",
   "metadata": {},
   "source": [
    "Tek satırda birden çok değişken tanımlanabilir:"
   ]
  },
  {
   "cell_type": "code",
   "execution_count": 6,
   "metadata": {},
   "outputs": [
    {
     "name": "stdout",
     "output_type": "stream",
     "text": [
      "Ayşe\n",
      "Zeynep\n",
      "Subaşı\n"
     ]
    }
   ],
   "source": [
    "a, b, c = \"Ayşe\", \"Zeynep\", \"Subaşı\"\n",
    "print(a)\n",
    "print(b)\n",
    "print(c)"
   ]
  },
  {
   "cell_type": "markdown",
   "metadata": {},
   "source": [
    "Aynı değere sahip birden çok değişken tanımlamak için:"
   ]
  },
  {
   "cell_type": "code",
   "execution_count": 9,
   "metadata": {
    "scrolled": true
   },
   "outputs": [
    {
     "name": "stdout",
     "output_type": "stream",
     "text": [
      "Ayşe\n",
      "Ayşe\n",
      "Ayşe\n"
     ]
    }
   ],
   "source": [
    "a = b = c = \"Ayşe\"\n",
    "print(a)\n",
    "print(b)\n",
    "print(c)"
   ]
  },
  {
   "cell_type": "markdown",
   "metadata": {
    "id": "B_ppa01RcvP-"
   },
   "source": [
    "## Veri Tipleri"
   ]
  },
  {
   "cell_type": "markdown",
   "metadata": {
    "id": "h0TjU6KQc0Rv"
   },
   "source": [
    "\n",
    "Python'da farklı verileri tutmak için farklı veri tiplerinde değişkenler kullanılır. En sık kullanılanları harfleri tutmak için string (str), tamsayıları tutmak için integer (int), ve rasyonel sayıları tutmak için float'tır (float)."
   ]
  },
  {
   "cell_type": "markdown",
   "metadata": {
    "id": "4CdE7rOic5GH"
   },
   "source": [
    "#### type() Fonksiyonu"
   ]
  },
  {
   "cell_type": "markdown",
   "metadata": {
    "id": "3ZmN1bPhc7hT"
   },
   "source": [
    "Python'da bir değişkenin veya ifadenin hangi veri tipinden olduğunu görmek için type() fonksiyonu kullanılır."
   ]
  },
  {
   "cell_type": "code",
   "execution_count": 26,
   "metadata": {
    "colab": {
     "base_uri": "https://localhost:8080/",
     "height": 34
    },
    "id": "ne7M-sW1cK3w",
    "outputId": "3d714038-68ed-42b8-e138-8db49c4e3559"
   },
   "outputs": [
    {
     "name": "stdout",
     "output_type": "stream",
     "text": [
      "<class 'int'>\n"
     ]
    }
   ],
   "source": [
    "a = 3\n",
    "print(type(a))"
   ]
  },
  {
   "cell_type": "markdown",
   "metadata": {
    "id": "PCp6QAuiqLfh"
   },
   "source": [
    "\n",
    "type() fonksiyonunun değeri değişkene atanmadan da print() fonksiyonu içinde kullanılabilir. Python matematikteki bileşke fonksiyon mantığıyla içten dışa fonksiyonların işlevini yerine getirir. g [f(x)] = (g o f) (x)"
   ]
  },
  {
   "cell_type": "code",
   "execution_count": 27,
   "metadata": {
    "colab": {
     "base_uri": "https://localhost:8080/",
     "height": 34
    },
    "id": "Zd1mslGlqH0p",
    "outputId": "7674760a-08fb-4abd-e182-1d32f32649ba"
   },
   "outputs": [
    {
     "name": "stdout",
     "output_type": "stream",
     "text": [
      "<class 'str'>\n"
     ]
    }
   ],
   "source": [
    "b = \"merhaba\"\n",
    "print(type(b))"
   ]
  },
  {
   "cell_type": "code",
   "execution_count": 28,
   "metadata": {
    "colab": {
     "base_uri": "https://localhost:8080/",
     "height": 34
    },
    "id": "NTDXFrEHqP_f",
    "outputId": "d433b735-22c7-401c-dbd5-00c45531e508"
   },
   "outputs": [
    {
     "name": "stdout",
     "output_type": "stream",
     "text": [
      "<class 'float'>\n"
     ]
    }
   ],
   "source": [
    "c = 12.5\n",
    "print(type(c))"
   ]
  },
  {
   "cell_type": "markdown",
   "metadata": {
    "id": "FZtfkggErCcJ"
   },
   "source": [
    "# Input() Fonksiyonu"
   ]
  },
  {
   "cell_type": "markdown",
   "metadata": {
    "id": "iLaZuixQrHhC"
   },
   "source": [
    "Bir programın en önemli fonksiyonlarından bir diğeri ise kullanıcıyla iletişime geçebilmesidir. Python'da kullanıcıdan değer girmesini talep etmek için input() fonksiyonu kullanılır."
   ]
  },
  {
   "cell_type": "markdown",
   "metadata": {
    "id": "9mJuUmCfrK4R"
   },
   "source": [
    "input() fonksiyonu ile programa dışarıdan veri alınır. Alınan bu veri programda daha sonra kullanılmak üzere bir değişkene atanır. Input() fonksiyonuna parametre olarak girilen değer kullanıcıdan input almadan önce ekrana bastırılır:"
   ]
  },
  {
   "cell_type": "code",
   "execution_count": 1,
   "metadata": {
    "colab": {
     "base_uri": "https://localhost:8080/",
     "height": 50
    },
    "id": "dnko_NlprF_V",
    "outputId": "dd002f2d-10f1-47f9-f1d9-857150536d4a"
   },
   "outputs": [
    {
     "name": "stdout",
     "output_type": "stream",
     "text": [
      "Lütfen bir sayı giriniz:10\n",
      "10\n"
     ]
    }
   ],
   "source": [
    "n = input(\"Lütfen bir sayı giriniz:\")\n",
    "print(n)"
   ]
  },
  {
   "cell_type": "code",
   "execution_count": 30,
   "metadata": {
    "colab": {
     "base_uri": "https://localhost:8080/",
     "height": 50
    },
    "id": "76e6EbsdrnCz",
    "outputId": "3dfb677e-785a-491f-a8f6-06697aa81e01"
   },
   "outputs": [
    {
     "name": "stdout",
     "output_type": "stream",
     "text": [
      "Lütfen bir string giriniz:ITU ACM Python Kursu\n",
      "ITU ACM Python Kursu\n"
     ]
    }
   ],
   "source": [
    "n = input(\"Lütfen bir string giriniz:\")\n",
    "print(n)"
   ]
  },
  {
   "cell_type": "markdown",
   "metadata": {
    "id": "WUbvaNvcsCvh"
   },
   "source": [
    "Input fonksiyonuna herhangi bir parametre vermeden de çalıştırabiliriz. Bu durumda kullanıcının ekranın bir bilgilendirme mesajı belirmeyecektir:"
   ]
  },
  {
   "cell_type": "code",
   "execution_count": 2,
   "metadata": {
    "colab": {
     "base_uri": "https://localhost:8080/",
     "height": 50
    },
    "id": "eNXtrPsSr9rQ",
    "outputId": "1128ba13-db36-4b65-cd02-bccdd79d21e8"
   },
   "outputs": [
    {
     "name": "stdout",
     "output_type": "stream",
     "text": [
      "15\n",
      "15\n"
     ]
    }
   ],
   "source": [
    "girilenDeger = input()\n",
    "print(girilenDeger)"
   ]
  },
  {
   "cell_type": "code",
   "execution_count": 32,
   "metadata": {
    "colab": {
     "base_uri": "https://localhost:8080/",
     "height": 50
    },
    "id": "CCucLbmksImu",
    "outputId": "1043e066-6a44-4da6-a5d1-7eb7c7b38ee2"
   },
   "outputs": [
    {
     "name": "stdout",
     "output_type": "stream",
     "text": [
      "15\n",
      "<class 'str'>\n"
     ]
    }
   ],
   "source": [
    "girilenDeger = input()\n",
    "print(type(girilenDeger))"
   ]
  },
  {
   "cell_type": "markdown",
   "metadata": {
    "id": "LENtzWYzsU35"
   },
   "source": [
    "\n",
    "Burada görüldüğü gibi input fonksiyonu aldığı inputları her zaman string türünde alır. Yukarıdaki örnekte de görüldüğü gibi girdiğimiz değer bir tamsayı olan 5 olmasına rağmen program bu değerin tipini string olarak algıladı. Tamsayıları, rasyonel sayıları ve stringleri birbirinden ayırmanın yolu ise type casting yöntemidir."
   ]
  },
  {
   "cell_type": "markdown",
   "metadata": {
    "id": "eAmuw5NKsddR"
   },
   "source": [
    "### Type Casting"
   ]
  },
  {
   "cell_type": "markdown",
   "metadata": {
    "id": "E_HE8dV_tJ7x"
   },
   "source": [
    "Python'da input halinde gelen değerleri farklı veri tiplerine çevirmek için kullanılır. int(), float(), ve str(); input() fonksiyonundan gelen veriyi istenen veri tipine çevirmek için kullanılır. Type casting yapmadan aldığımız inputları stringten istediğimiz veri tipine dönüştüremeyiz ve bu durumda istenilen işlemleri yaparken hata alabiliriz."
   ]
  },
  {
   "cell_type": "code",
   "execution_count": 33,
   "metadata": {
    "colab": {
     "base_uri": "https://localhost:8080/",
     "height": 50
    },
    "id": "pz2NP5H0sQIE",
    "outputId": "ca260bfc-0d8d-431a-f2f5-a6c1a5a38927"
   },
   "outputs": [
    {
     "name": "stdout",
     "output_type": "stream",
     "text": [
      "15\n",
      "<class 'int'>\n"
     ]
    }
   ],
   "source": [
    "n = int(input())\n",
    "print(type(n))"
   ]
  },
  {
   "cell_type": "markdown",
   "metadata": {
    "id": "ZJR5sFAMtazp"
   },
   "source": [
    "\n",
    "Casting yapmadığımız takdirde karşılaşabileceğimiz sorunlara örnek vermek gerekirse:"
   ]
  },
  {
   "cell_type": "code",
   "execution_count": 34,
   "metadata": {
    "colab": {
     "base_uri": "https://localhost:8080/",
     "height": 67
    },
    "id": "geyT6LChtWcX",
    "outputId": "3e6749cc-fdca-46b9-8238-8d4804fdbce4"
   },
   "outputs": [
    {
     "name": "stdout",
     "output_type": "stream",
     "text": [
      "Birinci sayı:3\n",
      "İkinci sayı:5\n",
      "35\n"
     ]
    }
   ],
   "source": [
    "a = input(\"Birinci sayı:\")\n",
    "b = input(\"İkinci sayı:\")\n",
    "\n",
    "toplam = a + b\n",
    "print(toplam)"
   ]
  },
  {
   "cell_type": "markdown",
   "metadata": {
    "id": "owpGscdbubOi"
   },
   "source": [
    "\n",
    "Yukarıda da görüldüğü gibi toplama işlemi yapmak istediğimiz halde aldığımız inputları int (tam sayı) veri tipine dönüştürmediğimiz için string birleştirme işlemi gerçekleştirdik. Bu durumun önüne geçmek için önce aldığımız inputları int veri tipine dönüştürmemiz gerekir:"
   ]
  },
  {
   "cell_type": "code",
   "execution_count": 35,
   "metadata": {
    "colab": {
     "base_uri": "https://localhost:8080/",
     "height": 67
    },
    "id": "hJ4oJVcStt6s",
    "outputId": "2f78f6d0-1612-483c-aa4c-1392c0b3833a"
   },
   "outputs": [
    {
     "name": "stdout",
     "output_type": "stream",
     "text": [
      "Birinci sayı:3\n",
      "İkinci sayı:5\n",
      "8\n"
     ]
    }
   ],
   "source": [
    "a = int(input(\"Birinci sayı:\"))\n",
    "b = int(input(\"İkinci sayı:\"))\n",
    "\n",
    "toplam = a + b\n",
    "print(toplam)"
   ]
  },
  {
   "cell_type": "markdown",
   "metadata": {
    "id": "2xaOwa2uui8Q"
   },
   "source": [
    "\n",
    "Burada dikkat edilmesi gereken önemli nokta veri tiplerini karıştırmamaktır. Aksi takdirde hatayla karşılaşabiliriz:"
   ]
  },
  {
   "cell_type": "code",
   "execution_count": 36,
   "metadata": {
    "colab": {
     "base_uri": "https://localhost:8080/",
     "height": 195
    },
    "id": "DhqNi6c3ufK5",
    "outputId": "18897fab-5396-4371-d620-e29e36581d36"
   },
   "outputs": [
    {
     "name": "stdout",
     "output_type": "stream",
     "text": [
      "Python3\n"
     ]
    },
    {
     "ename": "ValueError",
     "evalue": "ignored",
     "output_type": "error",
     "traceback": [
      "\u001b[0;31m---------------------------------------------------------------------------\u001b[0m",
      "\u001b[0;31mValueError\u001b[0m                                Traceback (most recent call last)",
      "\u001b[0;32m<ipython-input-36-93ddc6c45b1a>\u001b[0m in \u001b[0;36m<module>\u001b[0;34m()\u001b[0m\n\u001b[0;32m----> 1\u001b[0;31m \u001b[0mn\u001b[0m \u001b[0;34m=\u001b[0m \u001b[0mint\u001b[0m\u001b[0;34m(\u001b[0m\u001b[0minput\u001b[0m\u001b[0;34m(\u001b[0m\u001b[0;34m)\u001b[0m\u001b[0;34m)\u001b[0m\u001b[0;34m\u001b[0m\u001b[0;34m\u001b[0m\u001b[0m\n\u001b[0m\u001b[1;32m      2\u001b[0m \u001b[0mprint\u001b[0m\u001b[0;34m(\u001b[0m\u001b[0mn\u001b[0m\u001b[0;34m)\u001b[0m\u001b[0;34m\u001b[0m\u001b[0;34m\u001b[0m\u001b[0m\n",
      "\u001b[0;31mValueError\u001b[0m: invalid literal for int() with base 10: 'Python3'"
     ]
    }
   ],
   "source": [
    "n = int(input())\n",
    "print(n)"
   ]
  },
  {
   "cell_type": "markdown",
   "metadata": {
    "id": "S2FgkNySvlia"
   },
   "source": [
    "## Max-Min Functions"
   ]
  },
  {
   "cell_type": "markdown",
   "metadata": {
    "id": "G3JDSetQw_tr"
   },
   "source": [
    "max() fonksiyonu, en yüksek değere sahip öğeyi döndürür.\n",
    "\n",
    "Değerler string ise alfabetik sıralamaya göre en sonda olan öğeyi döndürür."
   ]
  },
  {
   "cell_type": "code",
   "execution_count": 39,
   "metadata": {
    "colab": {
     "base_uri": "https://localhost:8080/",
     "height": 34
    },
    "id": "zhcBiyQiurB6",
    "outputId": "7f4957bf-37a5-4470-be4e-60498d1f5f74"
   },
   "outputs": [
    {
     "name": "stdout",
     "output_type": "stream",
     "text": [
      "5\n"
     ]
    }
   ],
   "source": [
    "print(max(3,5))"
   ]
  },
  {
   "cell_type": "code",
   "execution_count": 40,
   "metadata": {
    "colab": {
     "base_uri": "https://localhost:8080/",
     "height": 34
    },
    "id": "zLSA9qmcxf76",
    "outputId": "9980e71c-e3b3-407f-dd6a-8a64b330a9ef"
   },
   "outputs": [
    {
     "name": "stdout",
     "output_type": "stream",
     "text": [
      "5\n"
     ]
    }
   ],
   "source": [
    "maksimum = max(3,5)\n",
    "\n",
    "print(maksimum)"
   ]
  },
  {
   "cell_type": "code",
   "execution_count": 45,
   "metadata": {
    "colab": {
     "base_uri": "https://localhost:8080/",
     "height": 34
    },
    "id": "u0LEGxjBxily",
    "outputId": "51a53cb5-bb16-45b9-8584-3d2871cd5828"
   },
   "outputs": [
    {
     "name": "stdout",
     "output_type": "stream",
     "text": [
      "Mersin\n"
     ]
    }
   ],
   "source": [
    "print(max(\"Adana\",\"Mersin\"))"
   ]
  },
  {
   "cell_type": "markdown",
   "metadata": {
    "id": "ZYwry2JSyQea"
   },
   "source": [
    "max() ve min() fonksiyonlarına istenildiği kadar öğe eklenebilir:"
   ]
  },
  {
   "cell_type": "code",
   "execution_count": 42,
   "metadata": {
    "colab": {
     "base_uri": "https://localhost:8080/",
     "height": 34
    },
    "id": "ga9PiF9OyJ5d",
    "outputId": "9c8a9f68-98fa-4958-e6a0-e2e2e2e54c1b"
   },
   "outputs": [
    {
     "name": "stdout",
     "output_type": "stream",
     "text": [
      "9\n"
     ]
    }
   ],
   "source": [
    "maksimum = max(6,2,3,5,6,7,9,1,4,2,8)\n",
    "\n",
    "print(maksimum)"
   ]
  },
  {
   "cell_type": "markdown",
   "metadata": {
    "id": "X7Gjux6FzaZK"
   },
   "source": [
    "min() fonksiyonu, en düşük değere sahip öğeyi döndürür.\n",
    "\n",
    "Değerler string ise alfabetik sıralamaya göre en önce olan öğeyi döndürür."
   ]
  },
  {
   "cell_type": "code",
   "execution_count": 43,
   "metadata": {
    "colab": {
     "base_uri": "https://localhost:8080/",
     "height": 34
    },
    "id": "cubB2r39zaq2",
    "outputId": "89f47937-76eb-4c90-983a-157ac39dad99"
   },
   "outputs": [
    {
     "name": "stdout",
     "output_type": "stream",
     "text": [
      "3\n"
     ]
    }
   ],
   "source": [
    "print(min(3,5))"
   ]
  },
  {
   "cell_type": "code",
   "execution_count": 44,
   "metadata": {
    "colab": {
     "base_uri": "https://localhost:8080/",
     "height": 34
    },
    "id": "6HyChOR4zeTq",
    "outputId": "add4ae15-0280-47ff-fdaf-daf5bd130a1a"
   },
   "outputs": [
    {
     "name": "stdout",
     "output_type": "stream",
     "text": [
      "5\n"
     ]
    }
   ],
   "source": [
    "minimum = max(3,5)\n",
    "\n",
    "print(minimum)"
   ]
  },
  {
   "cell_type": "code",
   "execution_count": 46,
   "metadata": {
    "colab": {
     "base_uri": "https://localhost:8080/",
     "height": 34
    },
    "id": "tKNrImerziY5",
    "outputId": "6e63dd4b-cec6-49f5-f057-cdb6c4e0dfd2"
   },
   "outputs": [
    {
     "name": "stdout",
     "output_type": "stream",
     "text": [
      "Adana\n"
     ]
    }
   ],
   "source": [
    "print(min(\"Adana\",\"Mersin\"))"
   ]
  },
  {
   "cell_type": "code",
   "execution_count": 48,
   "metadata": {
    "colab": {
     "base_uri": "https://localhost:8080/",
     "height": 34
    },
    "id": "4EM1GKVrzo76",
    "outputId": "1a0f5014-9774-4795-caff-d64a365d1795"
   },
   "outputs": [
    {
     "name": "stdout",
     "output_type": "stream",
     "text": [
      "1\n"
     ]
    }
   ],
   "source": [
    "minimum = min(6,2,3,5,6,7,9,1,4,2,8)\n",
    "\n",
    "print(minimum)"
   ]
  },
  {
   "cell_type": "markdown",
   "metadata": {},
   "source": [
    "## String İşlemleri\n"
   ]
  },
  {
   "cell_type": "markdown",
   "metadata": {},
   "source": [
    "print() fonksiyonuyla stringleri görüntüleyebilirsiniz."
   ]
  },
  {
   "cell_type": "code",
   "execution_count": 2,
   "metadata": {
    "scrolled": true
   },
   "outputs": [
    {
     "name": "stdout",
     "output_type": "stream",
     "text": [
      "Hello\n"
     ]
    }
   ],
   "source": [
    "print(\"Hello\")"
   ]
  },
  {
   "cell_type": "markdown",
   "metadata": {},
   "source": [
    "stringleri değişkene atayabilirsiniz."
   ]
  },
  {
   "cell_type": "code",
   "execution_count": 3,
   "metadata": {},
   "outputs": [
    {
     "name": "stdout",
     "output_type": "stream",
     "text": [
      "Hello\n"
     ]
    }
   ],
   "source": [
    "a = \"Hello\"\n",
    "print(a)"
   ]
  },
  {
   "cell_type": "markdown",
   "metadata": {},
   "source": [
    "Üç tırnak kullanarak bir değişkene çok satırlı bir string atayabilirsiniz"
   ]
  },
  {
   "cell_type": "code",
   "execution_count": 10,
   "metadata": {},
   "outputs": [
    {
     "name": "stdout",
     "output_type": "stream",
     "text": [
      "Hello World,\n",
      "I'm Ayşe\n",
      "Zeynep Subaşı.\n"
     ]
    }
   ],
   "source": [
    "a = \"\"\"Hello World,\n",
    "I'm Ayşe\n",
    "Zeynep Subaşı.\"\"\"\n",
    "print(a)"
   ]
  },
  {
   "cell_type": "markdown",
   "metadata": {},
   "source": [
    "string elemanlarına ulaşmak için köşeli parantez kullanılabilir."
   ]
  },
  {
   "cell_type": "code",
   "execution_count": 5,
   "metadata": {},
   "outputs": [
    {
     "name": "stdout",
     "output_type": "stream",
     "text": [
      "e\n"
     ]
    }
   ],
   "source": [
    "a = \"Hello, World!\"\n",
    "print(a[1])"
   ]
  },
  {
   "cell_type": "markdown",
   "metadata": {},
   "source": [
    "Yukarıda a[1] stringin ikinci karakterini vermiştir. Stringlerde ilk karakterin pozisyonu sıfırdır."
   ]
  },
  {
   "cell_type": "code",
   "execution_count": 6,
   "metadata": {
    "scrolled": true
   },
   "outputs": [
    {
     "name": "stdout",
     "output_type": "stream",
     "text": [
      "H\n"
     ]
    }
   ],
   "source": [
    "print(a[0])"
   ]
  },
  {
   "cell_type": "markdown",
   "metadata": {},
   "source": [
    "len() fonksiyonu stringin uzunluğunu döner"
   ]
  },
  {
   "cell_type": "code",
   "execution_count": 8,
   "metadata": {},
   "outputs": [
    {
     "name": "stdout",
     "output_type": "stream",
     "text": [
      "4\n"
     ]
    }
   ],
   "source": [
    "a = \"Ayşe\"\n",
    "print(len(a))"
   ]
  },
  {
   "cell_type": "markdown",
   "metadata": {},
   "source": [
    "Stringlerde ilk karaktein pozisyonu 0 olduğu için son karakterin pozisyonuna string_uzunluğu-1 şeklinde ulaşılabilir."
   ]
  },
  {
   "cell_type": "code",
   "execution_count": 9,
   "metadata": {},
   "outputs": [
    {
     "name": "stdout",
     "output_type": "stream",
     "text": [
      "e\n"
     ]
    }
   ],
   "source": [
    "a = \"Ayşe\"\n",
    "uzunluk = len(a)\n",
    "print(a[uzunluk-1])"
   ]
  },
  {
   "cell_type": "markdown",
   "metadata": {},
   "source": [
    "Bir stringin belirli bir bölümünü dönmek için köşeli parantez içine başlangıç ve bitiş pozisyonlarını noktalı virgülle ayırarak yazabilirsiniz(başlangıç pozisyonu dahil, bitiş poziyonu dahil değil)."
   ]
  },
  {
   "cell_type": "code",
   "execution_count": 28,
   "metadata": {},
   "outputs": [
    {
     "name": "stdout",
     "output_type": "stream",
     "text": [
      "el\n"
     ]
    }
   ],
   "source": [
    "a = \"Hello World\"\n",
    "print(a[1:3])"
   ]
  },
  {
   "cell_type": "code",
   "execution_count": 13,
   "metadata": {
    "scrolled": true
   },
   "outputs": [
    {
     "name": "stdout",
     "output_type": "stream",
     "text": [
      "lo World\n"
     ]
    }
   ],
   "source": [
    "print(a[3:]) #3. pozisyon dahil olmak üzere stringin sonuna kadar"
   ]
  },
  {
   "cell_type": "code",
   "execution_count": 14,
   "metadata": {},
   "outputs": [
    {
     "name": "stdout",
     "output_type": "stream",
     "text": [
      "Hello W\n"
     ]
    }
   ],
   "source": [
    "print(a[:7]) #başlangıçtan 7. pozisyona kadar (7 dahil değil)"
   ]
  },
  {
   "cell_type": "markdown",
   "metadata": {},
   "source": [
    "Negatif pozisyon kullanarak da belirli bir bölümü dönebilir"
   ]
  },
  {
   "cell_type": "code",
   "execution_count": 31,
   "metadata": {
    "scrolled": true
   },
   "outputs": [
    {
     "name": "stdout",
     "output_type": "stream",
     "text": [
      "o Wo\n"
     ]
    }
   ],
   "source": [
    "print(a[-7:-3])#son harfin pozisyonu -1\n",
    "               #-7 dahil, -3 değil"
   ]
  },
  {
   "cell_type": "markdown",
   "metadata": {},
   "source": [
    "**in** anahtar kelimesi sayesinde bir kelime veya karakerin string içinde olup olmadığını kontrol edebiliriz."
   ]
  },
  {
   "cell_type": "code",
   "execution_count": 11,
   "metadata": {
    "scrolled": true
   },
   "outputs": [
    {
     "name": "stdout",
     "output_type": "stream",
     "text": [
      "True\n",
      "True\n"
     ]
    }
   ],
   "source": [
    "a = \"Ayşe Zeynep\"\n",
    "print(\"Ayşe\" in a)\n",
    "print(\"ayşe\" not in a)"
   ]
  },
  {
   "cell_type": "markdown",
   "metadata": {},
   "source": [
    "iki veya daha fazla stringi birleştirmek için + operatörünü kullanabilirsiniz."
   ]
  },
  {
   "cell_type": "code",
   "execution_count": 17,
   "metadata": {},
   "outputs": [
    {
     "name": "stdout",
     "output_type": "stream",
     "text": [
      "Hello,World\n"
     ]
    }
   ],
   "source": [
    "a = \"Hello\"\n",
    "b = \",\"\n",
    "c = \"World\"\n",
    "print(a + b + c)"
   ]
  },
  {
   "cell_type": "markdown",
   "metadata": {},
   "source": [
    "UYARI: Stringler arasında toplama işlemi yapılabilir ve bu, iki stiringin birbirine kaldığı yerden eklenmesini sağlar."
   ]
  },
  {
   "cell_type": "code",
   "execution_count": 1,
   "metadata": {
    "scrolled": true
   },
   "outputs": [
    {
     "name": "stdout",
     "output_type": "stream",
     "text": [
      "Hoşgeldiniz!Bir içecek alır mıydınız?\n",
      "Hoşgeldiniz! Bir içecek alır mıydınız?\n"
     ]
    }
   ],
   "source": [
    "selam = \"Hoşgeldiniz!\"\n",
    "soru = \"Bir içecek alır mıydınız?\"\n",
    "print(selam + soru)\n",
    "print(selam + \" \" + soru)"
   ]
  },
  {
   "cell_type": "markdown",
   "metadata": {},
   "source": [
    "stringleri belirli bir sayıda tekraralamak için * operatörü kullanabilirsiniz."
   ]
  },
  {
   "cell_type": "code",
   "execution_count": 41,
   "metadata": {},
   "outputs": [
    {
     "name": "stdout",
     "output_type": "stream",
     "text": [
      "hello hello hello \n"
     ]
    }
   ],
   "source": [
    "print(\"hello \" * 3)"
   ]
  },
  {
   "cell_type": "markdown",
   "metadata": {},
   "source": [
    "### String Fonksiyonları"
   ]
  },
  {
   "cell_type": "markdown",
   "metadata": {},
   "source": [
    "Aşağıda bazı string fonksiyonlarına ve kullanımlarına yer verilmiştir."
   ]
  },
  {
   "cell_type": "markdown",
   "metadata": {},
   "source": [
    "| Fonksiyon  | Tanım  | Örnek | Örnek Çıktı |\n",
    "|:---:|:---:|:---:|:---:|\n",
    "|str.capitalize() | str'in ilk harfi büyük versiyonunu döndürür | \"python\".capitalize() | \"Python\" | \n",
    "|str.count(item) | str'in içinde item stringinden ne kadar geçtiğini bulur|\"uzuunbistring\".count(\"u\") | 3 |\n",
    "| str.isalnum() | str() <a href=\"https://tr.wikipedia.org/wiki/Alfan%C3%BCmerik\">**alfanumerik**</a> ise True, değilse False döndürür|\"Python3\".isalnum() |True |\n",
    "| str.isalpha()| str **harflerden** oluşuyor ise True, değilse False döndürür|\"Python3\".isalnum() |False |\n",
    "| str.isnumeric()| str **sayılardan** ifadelerden oluşuyor ise True, değilse False döndürür|\"Python3\".isalnum() |False |\n",
    "| str.islower()| str **küçük** harflerden oluşuyor ise True, değilse False döndürür|\"Aaa\".islower() |False |\n",
    "| str.lower()|str'ın tüm harflerini küçük halde döndürür | \"Python3\".lower()|\"python3\"|\n",
    "| str.isupper()| str **büyük** harflerden oluşuyor ise True, değilse False döndürür|\"Aaa\".islower() |False |\n",
    "| str.upper()|str'ın tüm harflerini büyük halde döndürür | \"Python3\".upper()|\"PYTHON3\"|\n",
    "| len(str)| str'in uzunluğunu döndürür|len(\"Python3\") |7 |\n",
    "| max(str)| str'in içindeki alfabetik en büyük karakteri döndürür |max(\"Python3\") |\"y\" |\n",
    "| min(str)| str'in içindeki alfabetik en küçük karakteri döndürür|min(\"Python3\") |\"3\" |\n",
    "| str.replace(x, y)| str'in içindeki tüm x'leri y'ye çevirir |\"Python3\".replace(\"3\", \" 3.9.0\") |\"Python 3.9.0\" |\n",
    "| str.swapcase()| str'in içindeki tüm harfleri zıt case'ine dönüştürür |\"Python3\".swapcase() |\"pYTHON3\" |\n",
    "\n"
   ]
  },
  {
   "cell_type": "markdown",
   "metadata": {},
   "source": [
    "# Koşullu Durumlar"
   ]
  },
  {
   "cell_type": "markdown",
   "metadata": {},
   "source": [
    "Koşul ifadeleri, programlamada en çok başvurulan ifadelerden biridir. Koşul ifadelerinin programın içerisindeki fonksiyonu programın takip edeceği yola karar vermek olarak özetlenebilir. "
   ]
  },
  {
   "cell_type": "markdown",
   "metadata": {},
   "source": [
    "Bazı durumlarda programın içerisinde iki veya daha fazla değişkenin veya durumun karşılaştırılması gerekebilir. Örneğin email hesabımıza giriş yaparken e-postamızı ve şifremizi gireriz. Şifre girişi yapıldıktan sonra girilen şifre sistemde kayıtlı olan şifreyle karşılaştırılır ve iki şifrenin eşleşmesi durumunda e-posta hesabına erişim sağlanır fakat şifrelerin eşleşmediği durumda hata mesajıyla karşılaşırız. Kendisine verilen ifadelerin doğruluğunu kontrol edip gerçek hayattan örnek vermek gerekirse program içerisinde yol ayrımı yaratan programlama yapılarına __koşullu durumlar__ denir."
   ]
  },
  {
   "cell_type": "markdown",
   "metadata": {},
   "source": [
    "Python dilinde ise koşullu durum yapısını kurmak için __if-else-elif__ anahtar kelimeleri kullanılır."
   ]
  },
  {
   "cell_type": "markdown",
   "metadata": {},
   "source": [
    "Bu ifadeleri görmeden önce karşılaştırma operatörlerini aşağıdaki tablo üzerinde inceleyelim: "
   ]
  },
  {
   "cell_type": "markdown",
   "metadata": {},
   "source": [
    "<center><img src = \"https://raw.githubusercontent.com/ituitis-averbek18/images/master/week2_table1.png\", width = 550, height = 600></center>"
   ]
  },
  {
   "cell_type": "markdown",
   "metadata": {},
   "source": [
    "# if Bloğu"
   ]
  },
  {
   "cell_type": "code",
   "execution_count": 3,
   "metadata": {
    "scrolled": true
   },
   "outputs": [
    {
     "name": "stdout",
     "output_type": "stream",
     "text": [
      "Bir sayı giriniz: 5\n",
      "n 10'dan küçüktür.\n"
     ]
    }
   ],
   "source": [
    "n = int(input(\"Bir sayı giriniz: \"))\n",
    "\n",
    "if n < 10:                                #Eğer sayı 10'dan küçükse,\n",
    "    print(\"n 10'dan küçüktür.\")"
   ]
  },
  {
   "cell_type": "markdown",
   "metadata": {},
   "source": [
    "Python, kodun kapsamını tanımlamak için girinti(white space) kullanır. Aşağıdaki örnekte görüldüğü gibi if'in içine girilirse çalıştırılacak olan kod yani if ifadesinin kapsamı bu şekilde belirlenmiştir. Girintisiz ifade ise hata oluşturur:"
   ]
  },
  {
   "cell_type": "code",
   "execution_count": 1,
   "metadata": {},
   "outputs": [
    {
     "ename": "IndentationError",
     "evalue": "expected an indented block (Temp/ipykernel_4348/1397221102.py, line 4)",
     "output_type": "error",
     "traceback": [
      "\u001b[1;36m  File \u001b[1;32m\"C:\\Users\\azyne\\AppData\\Local\\Temp/ipykernel_4348/1397221102.py\"\u001b[1;36m, line \u001b[1;32m4\u001b[0m\n\u001b[1;33m    print(\"n 10'dan küçüktür.\")\u001b[0m\n\u001b[1;37m    ^\u001b[0m\n\u001b[1;31mIndentationError\u001b[0m\u001b[1;31m:\u001b[0m expected an indented block\n"
     ]
    }
   ],
   "source": [
    "n = int(input(\"Bir sayı giriniz: \"))\n",
    "\n",
    "if n < 10:\n",
    "print(\"n 10'dan küçüktür.\")"
   ]
  },
  {
   "cell_type": "markdown",
   "metadata": {},
   "source": [
    "<center> <img src = \"https://raw.githubusercontent.com/ituitis-averbek18/images/master/flow1_1.png\", width = 750, height = 1000> </center>\n",
    "\n",
    "<strong><center>If kullanım algoritması</center></strong>"
   ]
  },
  {
   "cell_type": "markdown",
   "metadata": {},
   "source": [
    "Yukarıdaki şemada da görüldüğü üzere if'in şartı olarak yazılan \"n<10\" ifadesinin sağlanması durumunda __if__ bloğunun içindeki kod satırı çalıştırılır. Söz konusu koşulun sağlanmadığı durumda ise program __if__ bloğunu görmezden gelir."
   ]
  },
  {
   "cell_type": "markdown",
   "metadata": {},
   "source": [
    "###  Örn:"
   ]
  },
  {
   "cell_type": "code",
   "execution_count": 4,
   "metadata": {},
   "outputs": [
    {
     "name": "stdout",
     "output_type": "stream",
     "text": [
      "Yaşınızı giriniz: 4\n",
      "Yaşınız 18'den küçük. Ehliyet alamazsınız\n"
     ]
    }
   ],
   "source": [
    "yaş = int(input(\"Yaşınızı giriniz: \")) # Kullanıcı burada yaşını girer.\n",
    "\n",
    "if yaş < 18:                                           # Program yaşın 18 den küçük olup olmadığını kontrol eder.\n",
    "    print(\"Yaşınız 18'den küçük. Ehliyet alamazsınız\") # yaş 18'den küçükse bu çıktıyı verir."
   ]
  },
  {
   "cell_type": "markdown",
   "metadata": {},
   "source": [
    "Yukarıdaki örneğe baktığımızda __if__ ifadesinin koşulunun yaş değişkenin 18'den küçük olması olduğunu görüyoruz. Yaş değişkeninin değerinin 18'den küçük olması durumunda program ekrana \"Yaşınız 18'den küçük. Ehliyet alamazsınız\" çıktısını verir. Fakat 18 veya 18'den büyük bir input girildiği takdirde hiçbir işlem gerçekleşmez."
   ]
  },
  {
   "cell_type": "markdown",
   "metadata": {},
   "source": [
    "İkinci bir __if__ bloğu yazarak bu durumda da bir işlem gerçekleşmesi sağlanabilir:"
   ]
  },
  {
   "cell_type": "code",
   "execution_count": 5,
   "metadata": {},
   "outputs": [
    {
     "name": "stdout",
     "output_type": "stream",
     "text": [
      "Yaşınızı giriniz: 18\n",
      "Yaşınız uygun. Ehliyet alabilirsiniz.\n"
     ]
    }
   ],
   "source": [
    "yaş = int(input(\"Yaşınızı giriniz: \")) # Kullanıcı burada yaşını girer.\n",
    "\n",
    "if yaş < 18: # Program yaşın 18 den küçük olup olmadığını kontrol eder.\n",
    "    print(\"Yaşınız 18'den küçük. Ehliyet alamazsınız\") # yaş 18'den küçükse bu çıktıyı verir.\n",
    "\n",
    "if yaş >= 18:\n",
    "    print(\"Yaşınız uygun. Ehliyet alabilirsiniz.\")"
   ]
  },
  {
   "cell_type": "markdown",
   "metadata": {},
   "source": [
    "Fakat burda iki if bloğunun içindeki şart da doğru olsaydı ikisinin içindeki işlemler de gerçekleştirilirdi.\n",
    "Örneğin:"
   ]
  },
  {
   "cell_type": "code",
   "execution_count": 6,
   "metadata": {},
   "outputs": [
    {
     "name": "stdout",
     "output_type": "stream",
     "text": [
      "n 10'dan küçüktür\n",
      "n 15'ten küçüktür\n"
     ]
    }
   ],
   "source": [
    "n = 5\n",
    "\n",
    "if n < 10:\n",
    "    print(\"n 10'dan küçüktür\")\n",
    "\n",
    "if n < 15:\n",
    "    print(\"n 15'ten küçüktür\")"
   ]
  },
  {
   "cell_type": "markdown",
   "metadata": {},
   "source": [
    "# else Bloğu"
   ]
  },
  {
   "cell_type": "code",
   "execution_count": 7,
   "metadata": {},
   "outputs": [
    {
     "name": "stdout",
     "output_type": "stream",
     "text": [
      "Bir sayı giriniz: 3\n",
      "n 10'dan küçüktür\n"
     ]
    }
   ],
   "source": [
    "n = int(input(\"Bir sayı giriniz: \"))\n",
    "\n",
    "if n < 10:\n",
    "    print(\"n 10'dan küçüktür\")\n",
    "else:\n",
    "    print(\"n 10'dan küçük değildir\")"
   ]
  },
  {
   "attachments": {
    "image.png": {
     "image/png": "[encoded data removed]"
    }
   },
   "cell_type": "markdown",
   "metadata": {},
   "source": [
    "![image.png](attachment:image.png)"
   ]
  },
  {
   "cell_type": "markdown",
   "metadata": {},
   "source": [
    "Yukarıdaki şemada da görüldüğü üzere şartın sağlanması durumunda __if__ bloğunun içinde bulunan __print(\"n 10'dan küçüktür\")__ satırı çalıştırılır. Eğer şart sağlanmıyorsa __else__ bloğunun içindeki __print(\"n 10'dan küçük değildir\")__ satırı çalıştırılır."
   ]
  },
  {
   "cell_type": "markdown",
   "metadata": {},
   "source": [
    "Örneğin bir parola kontrol aşamasını aşağıdaki kod üzerinde inceleyelim:"
   ]
  },
  {
   "cell_type": "code",
   "execution_count": 8,
   "metadata": {},
   "outputs": [
    {
     "name": "stdout",
     "output_type": "stream",
     "text": [
      "Parolanızı giriniz: 123456\n",
      "Parola doğru. Giriş gerçekleştiriliyor...\n"
     ]
    }
   ],
   "source": [
    "parola = \"123456\" # Örnek bir parola değişkeni atandı.\n",
    " \n",
    "girdi = input(\"Parolanızı giriniz: \") # Kullanıcıdan parolayı girmesi istendi.\n",
    "\n",
    "if girdi == parola: # Parolanın doğruluğu kontrol ediliyor\n",
    "    print(\"Parola doğru. Giriş gerçekleştiriliyor...\") # Parola doğruysa bu çıktı ekrana yazdırılır.\n",
    "else:\n",
    "    print(\"Parola yanlış\") # Parola doğru değilse bu çıktı ekrana yazdırılır."
   ]
  },
  {
   "cell_type": "markdown",
   "metadata": {},
   "source": [
    "Yukarıda da görüldüğü üzere **else** ifadesinin yanına herhangi bir şart ifadesi yazılmaz. "
   ]
  },
  {
   "cell_type": "markdown",
   "metadata": {},
   "source": [
    "__*Soru: else bloğunun içine yeni bir if bloğu yazılabilir mi?*__"
   ]
  },
  {
   "cell_type": "markdown",
   "metadata": {},
   "source": [
    "# elif Bloğu"
   ]
  },
  {
   "cell_type": "code",
   "execution_count": 17,
   "metadata": {},
   "outputs": [
    {
     "name": "stdout",
     "output_type": "stream",
     "text": [
      "Bir sayı giriniz: 13\n",
      "n 10 ile 15 arasındadır\n"
     ]
    }
   ],
   "source": [
    "n = int(input(\"Bir sayı giriniz: \"))\n",
    "\n",
    "if n < 10:\n",
    "    print(\"n 10'dan küçüktür.\")\n",
    "elif n < 15:\n",
    "    print(\"n 10 ile 15 arasındadır\")"
   ]
  },
  {
   "cell_type": "markdown",
   "metadata": {},
   "source": [
    "<center><img src = \"https://raw.githubusercontent.com/ituitis-averbek18/images/master/flow3_1.png\", width = 750, height = 700></center>\n",
    "<strong><center>elif kullanım algoritması</center></strong>"
   ]
  },
  {
   "cell_type": "markdown",
   "metadata": {},
   "source": [
    "Elif bloğu aşağıda olduğu gibi de yazılabilir: "
   ]
  },
  {
   "cell_type": "code",
   "execution_count": 10,
   "metadata": {},
   "outputs": [
    {
     "name": "stdout",
     "output_type": "stream",
     "text": [
      "n 10'dur\n"
     ]
    }
   ],
   "source": [
    "n = 10\n",
    "\n",
    "if n < 5:\n",
    "    print(\"n 5'ten küçüktür\")\n",
    "else:\n",
    "    if n == 10:   \n",
    "        print(\"n 10'dur\")"
   ]
  },
  {
   "cell_type": "markdown",
   "metadata": {},
   "source": [
    "Fakat bu yaklaşımda sadece bir elif bloğu bu şekilde yazılabilir çünkü bir __if__ bloğuna yalnızca bir __else__ bloğu tekabül edebilir. Python programlama dilinde bu karışıklığı önleme amacıyla **elif** anahtar kelimesi kullanılmaktadır:"
   ]
  },
  {
   "cell_type": "code",
   "execution_count": 11,
   "metadata": {},
   "outputs": [
    {
     "name": "stdout",
     "output_type": "stream",
     "text": [
      "n 10'dur\n"
     ]
    }
   ],
   "source": [
    "n = 10\n",
    "\n",
    "if n < 5:\n",
    "    print(\"n 5'ten küçüktür\")\n",
    "elif n == 10:\n",
    "    print(\"n 10'dur\")"
   ]
  },
  {
   "cell_type": "markdown",
   "metadata": {},
   "source": [
    "__elif__ ifadesi birden fazla olabilir:"
   ]
  },
  {
   "cell_type": "code",
   "execution_count": 12,
   "metadata": {},
   "outputs": [
    {
     "name": "stdout",
     "output_type": "stream",
     "text": [
      "n 20 ile 25 arasındadır\n"
     ]
    }
   ],
   "source": [
    "n = 21\n",
    "\n",
    "if n < 5:\n",
    "    print(\"n 5'ten küçüktür\")\n",
    "elif n < 10:\n",
    "    print(\"n 5 ile 10 arasındadır\")\n",
    "elif n < 15:\n",
    "    print(\"n 10 ile 15 arasındadır\")\n",
    "elif n < 20:\n",
    "    print(\"n 15 ile 20 arasındadır\")\n",
    "elif n < 25:\n",
    "    print(\"n 20 ile 25 arasındadır\")\n",
    "elif n < 30:\n",
    "    print(\"n 25 ile 30 arasındadır\")"
   ]
  },
  {
   "cell_type": "markdown",
   "metadata": {},
   "source": [
    "Birden fazla koşulun sağlandığı bir durumu inceleyecek olursak:"
   ]
  },
  {
   "cell_type": "code",
   "execution_count": 13,
   "metadata": {},
   "outputs": [
    {
     "name": "stdout",
     "output_type": "stream",
     "text": [
      "n 5'ten büyüktür\n"
     ]
    }
   ],
   "source": [
    "n = 20\n",
    "\n",
    "if n > 5:\n",
    "    print(\"n 5'ten büyüktür\")\n",
    "elif n > 10:\n",
    "    print(\"n 10'dan büyüktür\")\n",
    "elif n > 15:\n",
    "    print(\"n 15'ten büyüktür\")"
   ]
  },
  {
   "cell_type": "markdown",
   "metadata": {},
   "source": [
    "__Bunun nedeni programın, şartın sağlandığı yerdeki bloğun içine girip diğer şartları kontrol etmemesidir.__"
   ]
  },
  {
   "cell_type": "markdown",
   "metadata": {},
   "source": [
    "__if-elif-else__ bloklarının hepsi birbiriyle ilişkili şekilde de kullanabilir:"
   ]
  },
  {
   "cell_type": "code",
   "execution_count": 14,
   "metadata": {
    "scrolled": true
   },
   "outputs": [
    {
     "name": "stdout",
     "output_type": "stream",
     "text": [
      "n 15'den küçük değildir\n"
     ]
    }
   ],
   "source": [
    "n = 16\n",
    "\n",
    "if n < 5:\n",
    "    print(\"n 5'ten küçüktür.\")\n",
    "elif n < 10:\n",
    "    print(\"n 5 ile 10  arasındadır\")\n",
    "elif n < 15:\n",
    "    print(\"n 10 ile 15 arasındadır\")\n",
    "else:\n",
    "    print(\"n 15'den küçük değildir\")"
   ]
  },
  {
   "cell_type": "markdown",
   "metadata": {},
   "source": [
    "**UYARI:** İlk koşul bloğunda asla elif deyimi kullanılamaz. Bu deyimin kullanılabilmesi için kendisinden önce en az bir adet if bloğu olmalıdır. Yani Python’da koşullu durumları ifade ederken ilk koşul bloğumuz her zaman if deyimi ile başlamalıdır."
   ]
  },
  {
   "cell_type": "markdown",
   "metadata": {},
   "source": [
    "# İç İçe İf"
   ]
  },
  {
   "cell_type": "markdown",
   "metadata": {},
   "source": [
    "Bir if ifadesi içinde başka bir if ifadesi kullanabilirsiniz."
   ]
  },
  {
   "cell_type": "code",
   "execution_count": 23,
   "metadata": {},
   "outputs": [
    {
     "name": "stdout",
     "output_type": "stream",
     "text": [
      "13\n"
     ]
    }
   ],
   "source": [
    "#en büyük sayı\n",
    "l, n, m = 4, 10, 13\n",
    "\n",
    "if l > n:\n",
    "    if l > m:\n",
    "        print(l)\n",
    "    else:\n",
    "        print(m)\n",
    "else:\n",
    "    if n > m:\n",
    "        print(n)\n",
    "    else:\n",
    "        print(m)"
   ]
  },
  {
   "cell_type": "markdown",
   "metadata": {},
   "source": [
    "# Kısa If... Else"
   ]
  },
  {
   "cell_type": "markdown",
   "metadata": {},
   "source": [
    "Eğer if ve else içinde çalıştırmanız gereken sadece birer ifade varsa, tek bir satırda ifade edebilirsiniz."
   ]
  },
  {
   "cell_type": "code",
   "execution_count": 4,
   "metadata": {},
   "outputs": [
    {
     "name": "stdout",
     "output_type": "stream",
     "text": [
      "4\n"
     ]
    }
   ],
   "source": [
    "#küçük olan sayıyı output olarak verme\n",
    "n = 4\n",
    "m = 10\n",
    "\n",
    "if n < m:\n",
    "    print(n)\n",
    "else:\n",
    "    print(m)"
   ]
  },
  {
   "cell_type": "code",
   "execution_count": 5,
   "metadata": {
    "scrolled": true
   },
   "outputs": [
    {
     "name": "stdout",
     "output_type": "stream",
     "text": [
      "4\n"
     ]
    }
   ],
   "source": [
    "n = 4\n",
    "m = 10\n",
    "print(n) if n < m else print(m)"
   ]
  },
  {
   "cell_type": "markdown",
   "metadata": {},
   "source": [
    "Birden çok else kullanarak da yazabilirsiniz:"
   ]
  },
  {
   "cell_type": "code",
   "execution_count": 7,
   "metadata": {},
   "outputs": [
    {
     "name": "stdout",
     "output_type": "stream",
     "text": [
      "4\n"
     ]
    }
   ],
   "source": [
    "n = 4\n",
    "m = 10\n",
    "\n",
    "if n < m:\n",
    "    print(n)\n",
    "elif n == m:\n",
    "    print(\"==\")\n",
    "else:\n",
    "    print(m)"
   ]
  },
  {
   "cell_type": "code",
   "execution_count": 9,
   "metadata": {},
   "outputs": [
    {
     "name": "stdout",
     "output_type": "stream",
     "text": [
      "==\n"
     ]
    }
   ],
   "source": [
    "n = 4\n",
    "m = 4\n",
    "\n",
    "print(n) if n < m else print(\"==\") if n == m else print(m)"
   ]
  },
  {
   "cell_type": "markdown",
   "metadata": {},
   "source": [
    "#  Boolean Değerler ve İfadeler"
   ]
  },
  {
   "cell_type": "markdown",
   "metadata": {},
   "source": [
    "Python'da doğru ve yanlış değerleri saklamak için kullanılan veri tipine bool adı verilmektedir. Boole cebiri tüm modern bilgisayar aritmetiğinin temelidir.\n",
    "\n",
    "Sadece iki boolean değer vardır: True(doğru) ve False(yanlış). Python case sensitive (büyük-küçük harfe duyarlı) bir dil olduğundan büyük harfle başlamaları önemlidir. true ve false boolean değerler değildir."
   ]
  },
  {
   "cell_type": "code",
   "execution_count": 15,
   "metadata": {},
   "outputs": [
    {
     "name": "stdout",
     "output_type": "stream",
     "text": [
      "<class 'bool'>\n"
     ]
    }
   ],
   "source": [
    "print(type(False))"
   ]
  },
  {
   "cell_type": "code",
   "execution_count": 16,
   "metadata": {},
   "outputs": [
    {
     "ename": "NameError",
     "evalue": "name 'true' is not defined",
     "output_type": "error",
     "traceback": [
      "\u001b[1;31m---------------------------------------------------------------------------\u001b[0m",
      "\u001b[1;31mNameError\u001b[0m                                 Traceback (most recent call last)",
      "\u001b[1;32m<ipython-input-16-1c2838cf1bc6>\u001b[0m in \u001b[0;36m<module>\u001b[1;34m\u001b[0m\n\u001b[1;32m----> 1\u001b[1;33m \u001b[0mprint\u001b[0m\u001b[1;33m(\u001b[0m\u001b[0mtype\u001b[0m\u001b[1;33m(\u001b[0m\u001b[0mtrue\u001b[0m\u001b[1;33m)\u001b[0m\u001b[1;33m)\u001b[0m\u001b[1;33m\u001b[0m\u001b[1;33m\u001b[0m\u001b[0m\n\u001b[0m",
      "\u001b[1;31mNameError\u001b[0m: name 'true' is not defined"
     ]
    }
   ],
   "source": [
    "print(type(true))"
   ]
  },
  {
   "cell_type": "markdown",
   "metadata": {},
   "source": [
    "Boolean ifadeler, sonucu boolean değer olan ve boolean değer olarak değerlendirilen deyimlerdir. \n",
    "\n",
    "\"==\" gibi koşullu durumlar, girdiğimiz bilgilerin doğruluğunu kontrol edip sonuçlar verirler. Verdikleri sonuçlar ise bool tipindedir."
   ]
  },
  {
   "cell_type": "code",
   "execution_count": 11,
   "metadata": {},
   "outputs": [
    {
     "name": "stdout",
     "output_type": "stream",
     "text": [
      "<class 'bool'>\n"
     ]
    }
   ],
   "source": [
    "print(type(1 == 2))"
   ]
  },
  {
   "cell_type": "code",
   "execution_count": 12,
   "metadata": {},
   "outputs": [
    {
     "name": "stdout",
     "output_type": "stream",
     "text": [
      "True\n"
     ]
    }
   ],
   "source": [
    "print(5 == 5)"
   ]
  },
  {
   "cell_type": "code",
   "execution_count": 13,
   "metadata": {},
   "outputs": [
    {
     "name": "stdout",
     "output_type": "stream",
     "text": [
      "True\n"
     ]
    }
   ],
   "source": [
    "print(5 != 6)"
   ]
  },
  {
   "cell_type": "markdown",
   "metadata": {},
   "source": [
    "İlk cümlede, karşılaştırılan iki sayı birbirine eşittir, bu yüzden ifade True sonucunu üretir; ikinci cümlede ise 5, 6'ya eşit değildir, bu sebeple False sonucu elde edilir."
   ]
  },
  {
   "cell_type": "markdown",
   "metadata": {},
   "source": [
    "Python'da 1 rakamı boolean olarak True değeriyle eşdeğerdir. Aynı şekilde de 0 rakamı False boolean değeriyle eşdeğer kabul edilir."
   ]
  },
  {
   "cell_type": "code",
   "execution_count": 14,
   "metadata": {},
   "outputs": [
    {
     "name": "stdout",
     "output_type": "stream",
     "text": [
      "True\n"
     ]
    }
   ],
   "source": [
    "print(1 == True)"
   ]
  },
  {
   "cell_type": "code",
   "execution_count": 15,
   "metadata": {},
   "outputs": [
    {
     "name": "stdout",
     "output_type": "stream",
     "text": [
      "True\n"
     ]
    }
   ],
   "source": [
    "print(0 == False)"
   ]
  },
  {
   "cell_type": "code",
   "execution_count": 16,
   "metadata": {
    "scrolled": true
   },
   "outputs": [
    {
     "name": "stdout",
     "output_type": "stream",
     "text": [
      "True\n"
     ]
    }
   ],
   "source": [
    "x, y = 3, 2\n",
    "\n",
    "print(x >= y)             # Eğer x, y'ye eşit ise True değeri üretir."
   ]
  },
  {
   "cell_type": "code",
   "execution_count": 17,
   "metadata": {
    "scrolled": false
   },
   "outputs": [
    {
     "data": {
      "text/plain": [
       "True"
      ]
     },
     "execution_count": 17,
     "metadata": {},
     "output_type": "execute_result"
    }
   ],
   "source": [
    "x != y               # x, y'ye eşit değil ise True değeri üretir."
   ]
  },
  {
   "cell_type": "code",
   "execution_count": 18,
   "metadata": {},
   "outputs": [
    {
     "data": {
      "text/plain": [
       "True"
      ]
     },
     "execution_count": 18,
     "metadata": {},
     "output_type": "execute_result"
    }
   ],
   "source": [
    "x > y                # x, y'den büyük ise True değeri üretir."
   ]
  },
  {
   "cell_type": "code",
   "execution_count": 19,
   "metadata": {},
   "outputs": [
    {
     "data": {
      "text/plain": [
       "False"
      ]
     },
     "execution_count": 19,
     "metadata": {},
     "output_type": "execute_result"
    }
   ],
   "source": [
    "x < y                # x, y'den küçük iseTrue değeri üretir."
   ]
  },
  {
   "cell_type": "code",
   "execution_count": 20,
   "metadata": {},
   "outputs": [
    {
     "data": {
      "text/plain": [
       "True"
      ]
     },
     "execution_count": 20,
     "metadata": {},
     "output_type": "execute_result"
    }
   ],
   "source": [
    "x >= y               # x, y'den büyük veya eşit ise True değeri üretir."
   ]
  },
  {
   "cell_type": "code",
   "execution_count": 21,
   "metadata": {},
   "outputs": [
    {
     "data": {
      "text/plain": [
       "False"
      ]
     },
     "execution_count": 21,
     "metadata": {},
     "output_type": "execute_result"
    }
   ],
   "source": [
    "x <= y               # x, y'den küçük veya eşit ise True değeri üretir."
   ]
  },
  {
   "cell_type": "markdown",
   "metadata": {},
   "source": [
    "Dolayısıyla aslında if-elif-else koşullu ifadelerinin algoritmalarında yapı şu şekildedir:\n",
    "\n",
    "if \"koşullu bir ifade\":\n",
    "1. İfadesinde koşula bakılır. \n",
    "2. Koşul doğruysa \"koşullu bir ifade\", True olarak kabul edilir. \n",
    "3. Şartın True boolean değerine geldiğini gören program o şartın sonucunu gerçekleştirmek için o if koşulunun içine girer.\n",
    "4. Koşul yanlışsa \"koşullu bir ifade\", False olarak kabul edilir. \n",
    "5. Şartın False boolean değerine geldiğini gören program o şartın sonucunu gerçekleştirmemek için o if koşulunun içine girmez, devam eder.\n",
    "6. Aşağıdaki muhtemel elif ve else ifadelerinin yanındaki koşullar için birinci aşamadan tekrar kontrol başlar.\n"
   ]
  },
  {
   "cell_type": "code",
   "execution_count": null,
   "metadata": {},
   "outputs": [],
   "source": [
    "if 1 == 2:                       # 1 == 2 ifadesi kontrol -> yanlış olduğuna karar verildi -> \n",
    "    print(\"1, 2'ye eşittir.\")    # bu şart satırına geçilmeden devam edildi\n",
    "    \n",
    "elif 1 == 1:                    # 1 == 1 ifadesi kontrol -> doğru olduğuna karar verildi -> \n",
    "    print(\"1, 1'e eşittir.\")    # bu şart satırına geçildi ve içinde verilen görev gerçekleştirildi."
   ]
  },
  {
   "cell_type": "markdown",
   "metadata": {},
   "source": [
    "Takip eden girintili cümlelere yani iç içe if, elif veya else kullanımına blok adı verilir. İlk girintisiz koşullu ifade bloğun sonunu belirler."
   ]
  },
  {
   "cell_type": "code",
   "execution_count": null,
   "metadata": {},
   "outputs": [],
   "source": [
    "yas = int(input(\"Lütfen yaşınızı giriniz: \"))\n",
    "dogum_tarihi = str(input(\"Lütfen doğum tarihinizi gg.aa şeklinde giriniz: \"))\n",
    "\n",
    "bugunun_tarihi = \"21.09\"\n",
    "\n",
    "if yas < 18:               # yas<18 boolean olarak True ya eşit değilse bu kod bloğu yok sayılır, eşitse bu bloğa girilir\n",
    "    print(\"Maalesef ehliyet alamıyorsunuz!\")                      \n",
    "    print(\"Lütfen bir sonraki sene tekrar deneyiniz!\")                 \n",
    "           \n",
    "else:                                                   \n",
    "    print(\"Ehliyet alabilirsiniz!\")\n",
    "\n",
    "if dogum_tarihi == bugunun_tarihi:                    \n",
    "        print(\"Doğum gününüz kutlu olsun!\") "
   ]
  },
  {
   "cell_type": "markdown",
   "metadata": {},
   "source": [
    "# İç İçe Koşullu İfadeler ve Mantık Operatörleri\n"
   ]
  },
  {
   "cell_type": "markdown",
   "metadata": {},
   "source": [
    "Python'da tek if satırında birdan fazla koşulu kontrol etmek için mantık operatörleri kullanılır. Üç adet mantıksal operatör vardır: and (ve), or (veya) ve not (değil). Bu basit Boolean deyimlerini kullanarak, daha karmaşık Boolean ifadeleri üretebiliriz. Bu operatörlerin anlamları, parantez içinde yazılmış olan Türkçe anlamlarıyla benzerdir. Örneğin, x > 0 ve x < 10 ifadesi, \"x ifadesi 0’dan büyük ve aynı zamanda x 10’dan küçük olduğunda\" doğrudur."
   ]
  },
  {
   "cell_type": "markdown",
   "metadata": {},
   "source": [
    "Aşağıdaki tabloda __and__ ve __or__ operatörlerinin doğruluk tablosu verilmiştir:"
   ]
  },
  {
   "cell_type": "markdown",
   "metadata": {},
   "source": [
    "### or Operatörü"
   ]
  },
  {
   "cell_type": "markdown",
   "metadata": {},
   "source": [
    "<center><img src = \"https://raw.githubusercontent.com/ituitis-averbek18/images/master/week2_table3.png\", width = 450, height = 500></center>"
   ]
  },
  {
   "cell_type": "markdown",
   "metadata": {},
   "source": [
    "### and Operatörü"
   ]
  },
  {
   "cell_type": "markdown",
   "metadata": {},
   "source": [
    "<center><img src = \"https://raw.githubusercontent.com/ituitis-averbek18/images/master/week2_table4.png\", width = 450, height = 500></center>"
   ]
  },
  {
   "cell_type": "code",
   "execution_count": null,
   "metadata": {},
   "outputs": [],
   "source": [
    "x = int(input(\"Lütfen bir sayı giriniz: \"))\n",
    "\n",
    "if x > 0 and x < 10:\n",
    "    print(\"x sayısı 0 ile 10 arasındadır.\")\n",
    "elif x < 0 or x > 10:\n",
    "    print(\"x sayısı 10 dan büyük VEYA 0 dan küçüktür.\")"
   ]
  },
  {
   "cell_type": "code",
   "execution_count": null,
   "metadata": {},
   "outputs": [],
   "source": [
    "yas = int(input(\"Lütfen bir sayı giriniz: \"))\n",
    "\n",
    "if yas < 0:\n",
    "    print(\"Henüz doğmadınız\")\n",
    "elif yas >= 0 and yas < 18:\n",
    "    print(\"Üzgünüm, henüz ehliyet alamazsınız\")\n",
    "else:\n",
    "    print(\"Ehliyet alabilirsiniz!\")"
   ]
  },
  {
   "cell_type": "markdown",
   "metadata": {},
   "source": [
    "Daha karmaşık ifadeler de yazabilir ve önceliklerine göre parantezlere alabiliriz:"
   ]
  },
  {
   "cell_type": "code",
   "execution_count": null,
   "metadata": {},
   "outputs": [],
   "source": [
    "x = int(input(\"Lütfen bir sayı giriniz: \"))\n",
    "istenmeyen_sayi = int(input(\"Lütfen istenmeyen bir sayı giriniz: \"))\n",
    "    \n",
    "if (x > 0 and x < 10) and (not (x == istenmeyen_sayi)):\n",
    "    print(\"x, 0 ile 10 arasındadır ve\", istenmeyen_sayi, \"ile x eşit değildir.\")"
   ]
  },
  {
   "cell_type": "markdown",
   "metadata": {},
   "source": [
    "#### UYARI: not operatörü önüne geldiği her şeyin doğruluk değerini tersine çevirmekle görevlidir."
   ]
  },
  {
   "cell_type": "code",
   "execution_count": 27,
   "metadata": {},
   "outputs": [
    {
     "data": {
      "text/plain": [
       "False"
      ]
     },
     "execution_count": 27,
     "metadata": {},
     "output_type": "execute_result"
    }
   ],
   "source": [
    "not True"
   ]
  },
  {
   "cell_type": "code",
   "execution_count": 28,
   "metadata": {},
   "outputs": [
    {
     "data": {
      "text/plain": [
       "True"
      ]
     },
     "execution_count": 28,
     "metadata": {},
     "output_type": "execute_result"
    }
   ],
   "source": [
    "not 0"
   ]
  },
  {
   "cell_type": "markdown",
   "metadata": {},
   "source": [
    "İki sayı aralığını __and__ ile ayrılmış iki ifade olarak yazmak yerine tek bir ifadede gösterebilirsiniz:"
   ]
  },
  {
   "cell_type": "code",
   "execution_count": 25,
   "metadata": {},
   "outputs": [
    {
     "name": "stdout",
     "output_type": "stream",
     "text": [
      "x sayısı 0 ile 10 arasındadır.\n"
     ]
    }
   ],
   "source": [
    "x = 5\n",
    "\n",
    "if 10 > x > 0:\n",
    "    print(\"x sayısı 0 ile 10 arasındadır.\")"
   ]
  },
  {
   "cell_type": "markdown",
   "metadata": {},
   "source": [
    "# Matematiksel Operatörler"
   ]
  },
  {
   "cell_type": "markdown",
   "metadata": {},
   "source": [
    "Python'da kullanılabilen matematiksel operatörler ve karşılıkları aşağıdaki tabloda verilmiştir.\n"
   ]
  },
  {
   "cell_type": "markdown",
   "metadata": {},
   "source": [
    "<center><img src = \"https://raw.githubusercontent.com/ituitis-averbek18/images/master/week2_table2.png\", width = 650, height = 750></center>"
   ]
  },
  {
   "cell_type": "code",
   "execution_count": 26,
   "metadata": {},
   "outputs": [
    {
     "name": "stdout",
     "output_type": "stream",
     "text": [
      "13\n",
      "5\n",
      "36\n",
      "2.25\n",
      "2\n",
      "1\n",
      "6561\n"
     ]
    }
   ],
   "source": [
    "# Matematiksel Operatör Örnekleri\n",
    "a = 9\n",
    "b = 4\n",
    "\n",
    "ekle = a + b # Toplama işlemi\n",
    "\n",
    "cikar = a - b # Çıkarma işlemi \n",
    "\n",
    "carp = a * b # Çarpma İşlemi\n",
    "\n",
    "bol1 = a / b # Bölme işlemi\n",
    "\n",
    "bol2 = a // b # İnteger bölmesi işlemi \n",
    "\n",
    "mod = a % b # mod alma işlemi\n",
    "\n",
    "ussu = a ** b \n",
    "\n",
    "print(ekle) \n",
    "print(cikar) \n",
    "print(carp) \n",
    "print(bol1) \n",
    "print(bol2) \n",
    "print(mod)\n",
    "print(ussu)"
   ]
  },
  {
   "cell_type": "markdown",
   "metadata": {},
   "source": [
    "## Matematiksel Fonksiyonlar"
   ]
  },
  {
   "cell_type": "markdown",
   "metadata": {},
   "source": [
    "Aşağıda sık kullanılan matematiksel fonksiyonlara yer verilmiştir. Bazı fonksiyonlar math kütüphanesine dahil olduklarından kullanımları math.fonksiyon_adı(fonksiyon_parametreleri) şeklindedir. Bu fonksiyonları kullanmadan önce programın başına\n",
    " <pre><code class=\"python\">\n",
    "    import math\n",
    "    </code></pre>\n",
    " kodu eklenmelidir."
   ]
  },
  {
   "cell_type": "markdown",
   "metadata": {},
   "source": [
    "| Fonksiyon  | Tanım  | Girdi-1  |  Çıktı-1 | Girdi-2  | Çıktı-2 |\n",
    "|:---:|:---:|:---:|:---:|:---:|:---:|\n",
    "| abs(x)  |  x'in mutlak değeri | -5  |  5 |  3  |  3 |\n",
    "| ceil(x)  | x'ten büyük eşit en küçük tamsayıyı döndürür | 5,1323  | 6  |  5  | 5  | \n",
    "| floor(x)  | x'ten küçük eşit en büyük tamsayıyı döndürür | 5,9323  | 5  |  5  | 5 |\n",
    "| cmp(x, y)  |  $ x < y$ ise $ -1 $, $x = y$ ise 0, $x>y$ ise 1 döndürür | 20,  40   | -1 |  3, 3 |  0 |\n",
    "| exp(x)  |   $e^x $ 'i döndürür  | 0  |  1.0 |  1  |  2.718281828459045 |\n",
    "| log(x)  | x'in e tabanında logaritmasını döndürür | 1  |  0.0 |  2.718281828459045  | 1.0 |\n",
    "| log10(x)  |  $\\log_{10}(x)$ döndürür | 100  |  2.0 |  0.1  | -1.0 |\n",
    "| max(x1, x2, x3...)  | Elemanlardan en büyük olanı döndürür | 1, 2, 3  | 3  |  -18329, -387, -1  | -1 |\n",
    "| min(x1, x2, x3...)  | Elemanlardan en küçük olanı döndürür | 1, 2, 3  | 1  |  -18329, -387, -1  | -18329 |\n",
    "| pow(x, y)  | $x^y$ döndürür | 3, 2  | 9  |  0, 0  | 1 |\n",
    "| round(x, y)  | x'in virgülden y basamak ilerisinin yuvarlanmış halini döndürür. |  10.38925, 2 | 10.39  |  10.35525, 1  | 10.4 |\n",
    "|sqrt(x)|x'in karekökünü döndürür, $ 0 \\le x$ olmalıdır|100|10.0|-1|ValueError|\n",
    "\n",
    "\n"
   ]
  },
  {
   "cell_type": "markdown",
   "metadata": {},
   "source": [
    "# Döngüler"
   ]
  },
  {
   "cell_type": "markdown",
   "metadata": {},
   "source": [
    "Python'da if-elif-else gibi ifadeleri kullanırken program, yapmasını istediğimiz görevi bir kez yaptıktan sonra sonlanır. Aynı şekilde input-print fonksiyonlarını kullanırken de almak istediğimiz her girdi için ayrı bir input fonksiyonu, yaptığımız her ayrı işlemin çıktısını görmek için de ayrı bir print fonksiyonu kullanılır. \n",
    "\n",
    "Örneğin verilen 4 ayrı sayının toplamı istendiğinde Python'da aşağıdaki gibi bir kod kullanılabilir:"
   ]
  },
  {
   "cell_type": "code",
   "execution_count": null,
   "metadata": {},
   "outputs": [],
   "source": [
    "birinci_sayi = int(input(\"Lütfen 1. sayıyı giriniz: \"))\n",
    "ikinci_sayi = int(input(\"Lütfen 2. sayıyı giriniz: \"))\n",
    "ucuncu_sayi = int(input(\"Lütfen 3. sayıyı giriniz: \"))\n",
    "dorduncu_sayi = int(input(\"Lütfen 4. sayıyı giriniz: \"))\n",
    "\n",
    "print(\"Sayıların toplamı: \", birinci_sayi + ikinci_sayi + ucuncu_sayi + dorduncu_sayi)"
   ]
  },
  {
   "cell_type": "markdown",
   "metadata": {},
   "source": [
    "Buradaki örnekte yapılacak işlem sayısı belli ve azdır. Ancak yapılacak işlem sayısı arttıkça (örneğin 100 sayı verilip toplamı istendiğinde) aynı işlemleri bu şekilde yapmak programcı için vakit alır.\n",
    "\n",
    "\n",
    "Veya örneğin kullanıcıdan tuttuğumuz sayıyı tahmin etmesini isteyen bir program yazalım:\n"
   ]
  },
  {
   "cell_type": "code",
   "execution_count": null,
   "metadata": {},
   "outputs": [],
   "source": [
    "tutulan_sayi = 5\n",
    "tahmin = int(input(\"Lütfen 1 ile 10 arasında bir sayı giriniz: \"))\n",
    "\n",
    "\n",
    "if tahmin == tutulan_sayi:\n",
    "    print(\"Tebrikler, doğru tahmin!\")\n",
    "else:\n",
    "    print(\"Üzgünüz, tekrar deneyin!\")"
   ]
  },
  {
   "cell_type": "markdown",
   "metadata": {},
   "source": [
    "Burada ise kullanıcı doğru tahmini girerse program tebrik mesajı verecek fakat yanlış girdiğinde ikinci bir tahmin hakkı olmayacaktır. Program tekrar kullanılmak istenirse baştan başlatılmalıdır. Halbuki program tahmin sonucu doğru gelene kadar çalışabilse baştan başlatmaya gerek kalmaz. \n",
    "\n",
    "Örneklerde gördüldüğü gibi şimdiye kadar yazdığımız programlar bir defa çalışıyor ve sona eriyordu. Ancak biz çoğu zaman programlarımızın belli koşullarda çalışmasını sürekli devam ettirmesini ve işlemlerini tekrar etmesini isteriz.\n",
    "\n",
    "#### Bu gibi belirli bir şarta kadar (sayı veya durum) çalışması istenen programlar yazmak için Python'da döngüler kullanılır.\n"
   ]
  },
  {
   "cell_type": "markdown",
   "metadata": {},
   "source": [
    "# while Döngüsü"
   ]
  },
  {
   "cell_type": "markdown",
   "metadata": {},
   "source": [
    "![title](https://raw.githubusercontent.com/ituitis-averbek18/images/master/week3_whilechart.png)\n",
    "\n",
    "<strong><center>while kullanım algoritması</center></strong>"
   ]
  },
  {
   "cell_type": "markdown",
   "metadata": {},
   "source": [
    "While döngüsü, içine aldığı kod bölümünün tekrarlanmasını \n",
    "sağlar. While döngüsünde kod istenen şart sağlandığı sürece döner. \n",
    "While'ın yapısı:"
   ]
  },
  {
   "cell_type": "code",
   "execution_count": null,
   "metadata": {},
   "outputs": [],
   "source": [
    "#while (koşul):\n",
    "      #işlem1\n",
    "      #İşlem2\n",
    "      #..."
   ]
  },
  {
   "cell_type": "markdown",
   "metadata": {},
   "source": [
    "  şeklindedir. Basit bir örnek olarak:"
   ]
  },
  {
   "cell_type": "code",
   "execution_count": 29,
   "metadata": {},
   "outputs": [
    {
     "name": "stdout",
     "output_type": "stream",
     "text": [
      "1'den 5'e kadar olan rakamların toplamı: 10\n"
     ]
    }
   ],
   "source": [
    "n = 1\n",
    "toplam = 0\n",
    "\n",
    "while n < 5:  #döngü; n'in 1, 2, 3 ve 4 değerleri için döner.\n",
    "    toplam += n\n",
    "    n += 1\n",
    "    \n",
    "print(\"1'den 5'e kadar olan rakamların toplamı: \"+str(toplam))"
   ]
  },
  {
   "cell_type": "markdown",
   "metadata": {},
   "source": [
    " Bu örnekte döngünün şartı n değişkeninin 5'ten küçük olmasıdır. İlk olarak döngü şartının sağlanıp sağlanmadığını kontrol edilir ve şart sağlanıyorsa döngünün içine girilir, döngüde n değişkeni önce toplam değişkeniyle toplanır sonrasında da değeri 1 arttırılır ardından başa dönülür ve şart sağlanmayana kadar bu şekilde devam eder."
   ]
  },
  {
   "cell_type": "markdown",
   "metadata": {},
   "source": [
    "While döngülerinde sağlanması istenen şarta ve şartı sağlayan değişkenin değerinin değişip değişmediğine dikkat edilmelidir. Bunlardaki bir yanlışlık yüzünden sonsuz döngüye girilebilir veya döngü hiç \n",
    "çalışmayabilir: "
   ]
  },
  {
   "cell_type": "code",
   "execution_count": null,
   "metadata": {},
   "outputs": [],
   "source": [
    "n = 0\n",
    "\n",
    "while n < 5:\n",
    "    print(n)"
   ]
  },
  {
   "cell_type": "code",
   "execution_count": null,
   "metadata": {},
   "outputs": [],
   "source": [
    "tutulan_sayi = 5\n",
    "tahmin = int(input(\"Lütfen 1 ile 10 arasında bir sayı giriniz: \"))\n",
    "\n",
    "while tahmin != tutulan_sayi:\n",
    "    print(\"Üzgünüz, tekrar deneyin!\") \n",
    "    tahmin = int(input(\"Lütfen 1 ile 10 arasında bir sayı giriniz: \"))\n",
    "      \n",
    "print(\"Tebrikler, doğru tahmin!\")"
   ]
  },
  {
   "cell_type": "markdown",
   "metadata": {},
   "source": [
    "#  for Döngüsü"
   ]
  },
  {
   "cell_type": "markdown",
   "metadata": {},
   "source": [
    "![title](https://raw.githubusercontent.com/ituitis-averbek18/images/master/week3_forchart.png)\n",
    "\n",
    "<strong><center>for kullanım algoritması</center></strong>"
   ]
  },
  {
   "cell_type": "markdown",
   "metadata": {},
   "source": [
    "### in operatörü"
   ]
  },
  {
   "cell_type": "markdown",
   "metadata": {},
   "source": [
    "Pythondaki in operatörü, bir elemanın başka bir listede, demette veya karakter dizilerinde bulunup bulunmadığını kontrol eder ve sonuç olarak Boolean veri tipinde bir değer döndürür:"
   ]
  },
  {
   "cell_type": "code",
   "execution_count": 5,
   "metadata": {},
   "outputs": [
    {
     "name": "stdout",
     "output_type": "stream",
     "text": [
      "True\n",
      "True\n"
     ]
    }
   ],
   "source": [
    "print(\"o\" in \"hello\")\n",
    "print(5 in [1,3,5])"
   ]
  },
  {
   "cell_type": "markdown",
   "metadata": {},
   "source": [
    "For döngüsü de while döngüsü gibi içindeki kodu döndürür ancak while döngüsünden farkı belli bir şartı sağladığı sürece dönmek yerine listelerin, demetlerin, karakter dizilerinin ve hatta sözlüklerin üzerinde dolaşmamızı sağlar. Yapısı şu şekildedir:"
   ]
  },
  {
   "cell_type": "code",
   "execution_count": 34,
   "metadata": {},
   "outputs": [
    {
     "name": "stdout",
     "output_type": "stream",
     "text": [
      "I\n",
      "T\n",
      "U\n",
      "A\n",
      "C\n",
      "M\n"
     ]
    }
   ],
   "source": [
    "club = \"ITUACM\"\n",
    "\n",
    "for harf in club:\n",
    "    print(harf)"
   ]
  },
  {
   "cell_type": "code",
   "execution_count": 35,
   "metadata": {},
   "outputs": [
    {
     "name": "stdout",
     "output_type": "stream",
     "text": [
      "Eleman 4\n",
      "Eleman 3\n",
      "Eleman 2\n",
      "Eleman 1\n"
     ]
    }
   ],
   "source": [
    "liste = [4,3,2,1]\n",
    " \n",
    "for eleman in liste:\n",
    "    print(\"Eleman\",eleman)"
   ]
  },
  {
   "cell_type": "code",
   "execution_count": 36,
   "metadata": {},
   "outputs": [
    {
     "name": "stdout",
     "output_type": "stream",
     "text": [
      "elma\n",
      "armut\n",
      "kiraz\n"
     ]
    }
   ],
   "source": [
    "meyveler = [\"elma\", \"armut\", \"kiraz\"]\n",
    "for meyve in meyveler:\n",
    "    print(meyve)"
   ]
  },
  {
   "cell_type": "markdown",
   "metadata": {},
   "source": [
    "### range() fonksiyonu"
   ]
  },
  {
   "cell_type": "markdown",
   "metadata": {},
   "source": [
    "range() fonksiyonu; başlangıç, bitiş ve opsiyonel olarak aralığı arttırma değeri alarak bir sayı dizisi oluşturur. Örneğin:"
   ]
  },
  {
   "cell_type": "code",
   "execution_count": 7,
   "metadata": {
    "scrolled": false
   },
   "outputs": [
    {
     "name": "stdout",
     "output_type": "stream",
     "text": [
      "1\n",
      "2\n",
      "3\n",
      "4\n",
      "5\n"
     ]
    }
   ],
   "source": [
    "for i in range(1,6):\n",
    "    print(i)"
   ]
  },
  {
   "cell_type": "code",
   "execution_count": 1,
   "metadata": {},
   "outputs": [
    {
     "name": "stdout",
     "output_type": "stream",
     "text": [
      "* \n",
      "* * \n",
      "* * * \n",
      "* * * * \n",
      "* * * * * \n",
      "* * * * * * \n",
      "* * * * * * * \n",
      "* * * * * * * * \n"
     ]
    }
   ],
   "source": [
    "for sayi in range(1,9): # kod 1,2,3,4,5,6,7,8 değerleri için dönecek\n",
    "    print(\"* \" * sayi)"
   ]
  },
  {
   "cell_type": "code",
   "execution_count": 33,
   "metadata": {
    "scrolled": true
   },
   "outputs": [
    {
     "name": "stdout",
     "output_type": "stream",
     "text": [
      "0\n",
      "10\n",
      "20\n",
      "30\n",
      "40\n"
     ]
    }
   ],
   "source": [
    "for x in range(0, 50, 10):   # 0'dan 50'ye kadar 10'ar artarak giden bir dizi oluşturacak.\n",
    "    print(x)                 "
   ]
  },
  {
   "cell_type": "markdown",
   "metadata": {},
   "source": [
    "__range()__ fonksiyonunda başlangıç belirtilmezse başlangıcı 0 alarak ve 1'er artırarak belirtilen bitişte duracaktır."
   ]
  },
  {
   "cell_type": "code",
   "execution_count": 40,
   "metadata": {},
   "outputs": [
    {
     "name": "stdout",
     "output_type": "stream",
     "text": [
      "0\n",
      "1\n",
      "2\n",
      "3\n",
      "4\n",
      "5\n"
     ]
    }
   ],
   "source": [
    "for i in range(6):\n",
    "    print(i)"
   ]
  },
  {
   "cell_type": "markdown",
   "metadata": {},
   "source": [
    "## break, continue ve pass"
   ]
  },
  {
   "cell_type": "markdown",
   "metadata": {},
   "source": [
    "### a) break"
   ]
  },
  {
   "cell_type": "markdown",
   "metadata": {},
   "source": [
    "<font color=blue>break</font> ifadesi döngülerde programcılar tarafından en çok kullanılan ifadedir. İşlevini tanımlamak gerekirse:\n",
    "\n",
    "<font color=blue>break</font> ifadesi içinde olduğu döngüden çıkmayı sağlar. <font color=blue>break</font> ifadesini genellikle belirli bir koşul altındayken döngüden çıkılmak isteneceğinden; döngü içindeki <font color=blue>if</font> koşulu içine yazılır.\n",
    "\n",
    "<font color=blue>break</font> ifadesi sadece ve sadece içinde bulunduğu döngüyü sonlandırır. Eğer iç içe döngüler bulunuyorsa ve en içteki döngüde <font color=blue>break</font> kullanılmışsa sadece içteki döngü sona erer. Örneklerle <font color=blue>break</font> ifadesini anlamaya çalışalım."
   ]
  },
  {
   "cell_type": "code",
   "execution_count": null,
   "metadata": {},
   "outputs": [],
   "source": [
    "fiyat = 40            # alınacak ürünün fiyatı 40 \n",
    "cuzdan = 30           # cüzdanımızda 30 var\n",
    "extra = 5             # extra olarak 5 birim paraya kadar çıkabiliriz \n",
    "\n",
    "while cuzdan < fiyat: # cüzdanımızdaki para alınnacak ürünün fiyatından küçük olduğu sürece cüzdanımıza para lazım\n",
    "    \n",
    "    if extra > 0:     # eğer ekleyebileceğimiz para tükenmediyse \n",
    "        extra -= 1    # ekleyeceğimiz kadar parayı extradan alıp\n",
    "        cuzdan += 1   # cüzdanımıza ekliyoruz\n",
    "        \n",
    "    else:             # eğer extra paramız kalmadıysa \n",
    "        print(\"Yeterli bakiyeniz bulunmamaktadır!\")\n",
    "        break         # döngüden çıkıyoruz\n",
    "        \n",
    "        \n",
    "if cuzdan == fiyat:   # döngü bittikten sonra cüzdanımızda yeterli para varsa ürünü alabiliyoruz\n",
    "    print(\"Güle güle kullanın!\")"
   ]
  },
  {
   "cell_type": "markdown",
   "metadata": {},
   "source": [
    "Burada görüldüğü gibi while programımız cüzdanda yeterli para olmadığı sürece parayı arttırmak için çalışır. Eğer cüzdandaki para fiyata eşitlenirse while satırındaki şart sağlanır ve döngüden kendiliğinden çıkar. Ancak ekstra olarak yeterli birikimimiz kalmadığında break satırına ulaşır ve döngünün içindeyken bitirmiş oluruz.\n"
   ]
  },
  {
   "cell_type": "markdown",
   "metadata": {},
   "source": [
    "### b) continue"
   ]
  },
  {
   "cell_type": "markdown",
   "metadata": {},
   "source": [
    "<font color=blue>continue</font> ifadesi break‘e göre biraz daha az kullanılan bir ifadedir. İşlevini tanımlamak gerekirse:\n",
    "\n",
    "<font color=blue>break</font> ifadesinin aksine, <font color=blue>continue</font> ifadesiyle karşılaşıldığında döngüden çıkılmaz. <font color=blue>continue</font> ifadesinin içinde bulunduğu yinelemedeki geri kalan işlemler gerçekleştirilmeden döngüye kaldığı yerden(bir sonraki yinelemeden) devam edilir.\n",
    "\n",
    "<font color=blue>continue</font> ifadesinin görevini daha iyi kavrayabilmek için aşağıdaki örneği inceleyebiliriz:"
   ]
  },
  {
   "cell_type": "code",
   "execution_count": null,
   "metadata": {},
   "outputs": [],
   "source": [
    "toplam = 0\n",
    "\n",
    "while True:                                              # bu döngü dışarıdan bir etkiyle durdurulmadığı sürece çalışır\n",
    "    x = int(input(\"Bir sayı girin (bitirmek için -1): \"))\n",
    "    \n",
    "    if x == -1:                                          # durdurmak için -1 girmemiz break komutunu çalıştırır\n",
    "        break\n",
    "        \n",
    "    if x < 0 or x > 100:                      # istediğimiz aralıkta sayı gelmediyse \n",
    "        print(\"0-100 arası olmalı.\")          # istediğimiz şartı belirtiriz\n",
    "        continue                              # continue komutunu okuyan python tekrardan while kısmındaki şarta döner   \n",
    "        \n",
    "    toplam += x                               # eğer continue da takılmadıysa buraya gelip girilen sayıyı ekler\n",
    "\n",
    "print( \"Toplam:\", toplam)"
   ]
  },
  {
   "cell_type": "markdown",
   "metadata": {},
   "source": [
    "### c) pass"
   ]
  },
  {
   "cell_type": "markdown",
   "metadata": {},
   "source": [
    "<font color=blue>pass</font> ifadesi hiçbir şey yapmaz. <font color=blue>pass</font> ifadesi, siz bir ifadeyi(if, else gibi) yazmak zorunda kaldığınızda fakat bu ifadenin içinde hiçbir işlem yapmak istemediğinizde kullanılır."
   ]
  },
  {
   "cell_type": "code",
   "execution_count": 4,
   "metadata": {},
   "outputs": [],
   "source": [
    "a, b = 10, 20\n",
    "\n",
    "if a < b:\n",
    "    pass\n",
    "else:\n",
    "    print(a - b)"
   ]
  },
  {
   "cell_type": "markdown",
   "metadata": {},
   "source": [
    "Aynı zamanda boş döngüler ve boş fonksiyonlar yaratmak için de kullanılır:"
   ]
  },
  {
   "cell_type": "code",
   "execution_count": null,
   "metadata": {},
   "outputs": [],
   "source": [
    "for i in range(5):\n",
    "    pass"
   ]
  },
  {
   "cell_type": "code",
   "execution_count": null,
   "metadata": {},
   "outputs": [],
   "source": [
    "def empty():\n",
    "    pass"
   ]
  }
 ],
 "metadata": {
  "colab": {
   "collapsed_sections": [],
   "name": "week1.ipynb",
   "provenance": []
  },
  "kernelspec": {
   "display_name": "Python 3",
   "language": "python",
   "name": "python3"
  },
  "language_info": {
   "codemirror_mode": {
    "name": "ipython",
    "version": 3
   },
   "file_extension": ".py",
   "mimetype": "text/x-python",
   "name": "python",
   "nbconvert_exporter": "python",
   "pygments_lexer": "ipython3",
   "version": "3.8.8"
  }
 },
 "nbformat": 4,
 "nbformat_minor": 1
}
