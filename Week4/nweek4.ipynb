{
 "cells": [
  {
   "cell_type": "markdown",
   "id": "b20c16fb",
   "metadata": {
    "id": "b20c16fb"
   },
   "source": [
    "# Object Orianted Programming (Nesne Tabanlı Programlama)"
   ]
  },
  {
   "cell_type": "markdown",
   "id": "22a45200",
   "metadata": {
    "id": "22a45200"
   },
   "source": [
    "Şu ana kadar pythonda data types(veri tipleri), data structures(veri yapıları) ve fonksiyonları gördük. Fonksiyonlar eylem üstüne kurulu yapılardır fakat gerçek dünyada eylemler kadar objeler de vardır. Her objenin bir ismi(identity), belirli özellikleri(state/attribute) ve belirli eylemleri(behaviors) vardır. OOP'nin temel amacı bu verileri(özellikleri) ve fonksiyonları(eylemleri) bir arada, tek bir birim halinde tutarak dışarıdan bu verilere erişilmesini engellemektir(encapsulation)."
   ]
  },
  {
   "cell_type": "markdown",
   "id": "e7cbdb9b",
   "metadata": {
    "id": "e7cbdb9b"
   },
   "source": [
    "## Class(Sınıf)"
   ]
  },
  {
   "cell_type": "markdown",
   "id": "eaffd797",
   "metadata": {
    "id": "eaffd797"
   },
   "source": [
    "Class, objelerin yaratıldığı bir taslaktır. Bir class oluşturmak, bir fonksiyon oluşturmak gibidir. Class da fonksiyonlar gibi içinde bir değer tutmaz, sadece bir tanımdır. Daha iyi anlamak için bir class oluşturmanın **int**, **string**, **float** gibi yeni bir veri tipi oluşturmaktan çok da farklı olmadığını düşünebilirsiniz. Yani bir class oluşturmak, *x=3* veya *name=\"Ayşe\"* gibi bir değeri (değişkene atayarak) tutmak olarak algılanmamalıdır."
   ]
  },
  {
   "cell_type": "markdown",
   "id": "69adff94",
   "metadata": {
    "id": "69adff94"
   },
   "source": [
    "Classlar, **class** anahtar kelimesi kullanılarak oluşturulur."
   ]
  },
  {
   "cell_type": "markdown",
   "id": "f47d28bb",
   "metadata": {
    "id": "f47d28bb"
   },
   "source": [
    "Boş bir class oluşturmak için **pass** ifadesi kullanılabilir."
   ]
  },
  {
   "cell_type": "code",
   "execution_count": null,
   "id": "7943d89e",
   "metadata": {
    "id": "7943d89e"
   },
   "outputs": [],
   "source": [
    "class Kedi:\n",
    "    pass"
   ]
  },
  {
   "cell_type": "markdown",
   "id": "3484f32f",
   "metadata": {
    "id": "3484f32f"
   },
   "source": [
    "## Object(Obje)"
   ]
  },
  {
   "cell_type": "markdown",
   "id": "84ca8b8d",
   "metadata": {
    "id": "84ca8b8d"
   },
   "source": [
    "Obje; classın somut, değer almış halidir. Örneğin **int** veri tipini **class**a benztirsek, bir **obje**yi de **7**'ye benzetebiliriz."
   ]
  },
  {
   "cell_type": "markdown",
   "id": "3efb7df9",
   "metadata": {
    "id": "3efb7df9"
   },
   "source": [
    "Yukarıda **Kedi** adını verdiğimiz ve içerisinde bir veri(özellik) veya fonksiyon(eylem) bulundurmayan bir class oluşturduk. Bu class üstünden yaratılacak objeler aynı veri tipindeki farklı değerler olarak düşünülebilir(3 ve 7 gibi)."
   ]
  },
  {
   "cell_type": "markdown",
   "id": "25cb25d2",
   "metadata": {
    "id": "25cb25d2"
   },
   "source": [
    "Burada classların temel farkı birden fazla veri ve fonksiyonu tek bir birim altında tutabilmesidir. Doğal olarak objeler de birden fazla değer ve eylem içerebilirler."
   ]
  },
  {
   "cell_type": "markdown",
   "id": "c594609a",
   "metadata": {
    "id": "c594609a"
   },
   "source": [
    "**Kedi** classını ele aldığımızda:<br>\n",
    "-> özellikler: cinsi, renk, yaş<br>\n",
    "-> eylemler: miyavlamak, uyumak, yemek"
   ]
  },
  {
   "cell_type": "markdown",
   "id": "61286aa0",
   "metadata": {
    "id": "61286aa0"
   },
   "source": [
    "Ve **Kedi** classından oluşturulcak objeler olan **Nohut** ve **Köfte** isimli iki kedi bu classtaki verileri farklı ya da aynı değerlerle içerirler. İkisinin de özellikleri(cinsi, rengi, yaşı vb.) aynı olsa da olmasa da ikisi de **Kedi**dir."
   ]
  },
  {
   "cell_type": "code",
   "execution_count": null,
   "id": "cda48a67",
   "metadata": {
    "id": "cda48a67",
    "outputId": "d0cbf0df-be03-43cc-b1cd-13daa004ed54",
    "scrolled": true
   },
   "outputs": [
    {
     "name": "stdout",
     "output_type": "stream",
     "text": [
      "kedi\n",
      "Miyav!\n",
      "kedi\n",
      "Miyav!\n"
     ]
    }
   ],
   "source": [
    "class Kedi:\n",
    "    tür=\"kedi\"          #Burada da görüldüğü gibi bir class içinde halihazırda değeri atanmış bir değişken olabilir.\n",
    "                        #Değeri sonradan atanan değişkenler oluşturmayı ilerleyen kısımda göreceğiz.\n",
    "    def miyav(self):\n",
    "        print(\"Miyav!\")\n",
    "        \n",
    "Nohut = Kedi()\n",
    "print(Nohut.tür)\n",
    "Nohut.miyav()\n",
    "\n",
    "Köfte = Kedi()\n",
    "print(Köfte.tür)\n",
    "Köfte.miyav()"
   ]
  },
  {
   "cell_type": "markdown",
   "id": "e6adbac9",
   "metadata": {
    "id": "e6adbac9"
   },
   "source": [
    "Objelerdeki değerleri dışarıdan değiştirebilir ve silebilirsiniz:"
   ]
  },
  {
   "cell_type": "code",
   "execution_count": null,
   "id": "84b7e2c7",
   "metadata": {
    "id": "84b7e2c7",
    "outputId": "9b968193-22f2-4771-ca5f-2b9c846255cf",
    "scrolled": true
   },
   "outputs": [
    {
     "name": "stdout",
     "output_type": "stream",
     "text": [
      "kedi\n",
      "köpek\n"
     ]
    }
   ],
   "source": [
    "print(Köfte.tür)\n",
    "Köfte.tür = \"köpek\"\n",
    "print(Köfte.tür)"
   ]
  },
  {
   "cell_type": "code",
   "execution_count": null,
   "id": "5e31d56b",
   "metadata": {
    "id": "5e31d56b",
    "outputId": "1ff5073e-e570-43f2-bfe6-3a207ec4db47",
    "scrolled": false
   },
   "outputs": [
    {
     "ename": "AttributeError",
     "evalue": "tür",
     "output_type": "error",
     "traceback": [
      "\u001b[1;31m---------------------------------------------------------------------------\u001b[0m",
      "\u001b[1;31mAttributeError\u001b[0m                            Traceback (most recent call last)",
      "\u001b[1;32m~\\AppData\\Local\\Temp/ipykernel_11884/1254707184.py\u001b[0m in \u001b[0;36m<module>\u001b[1;34m\u001b[0m\n\u001b[1;32m----> 1\u001b[1;33m \u001b[1;32mdel\u001b[0m \u001b[0mKöfte\u001b[0m\u001b[1;33m.\u001b[0m\u001b[0mtür\u001b[0m\u001b[1;33m\u001b[0m\u001b[1;33m\u001b[0m\u001b[0m\n\u001b[0m\u001b[0;32m      2\u001b[0m \u001b[0mprint\u001b[0m\u001b[1;33m(\u001b[0m\u001b[0mKöfte\u001b[0m\u001b[1;33m.\u001b[0m\u001b[0mtür\u001b[0m\u001b[1;33m)\u001b[0m\u001b[1;33m\u001b[0m\u001b[1;33m\u001b[0m\u001b[0m\n",
      "\u001b[1;31mAttributeError\u001b[0m: tür"
     ]
    }
   ],
   "source": [
    "del Köfte.tür\n",
    "print(Köfte.tür)"
   ]
  },
  {
   "cell_type": "markdown",
   "id": "b887a068",
   "metadata": {
    "id": "b887a068"
   },
   "source": [
    "Objeleri silebilirsiniz:"
   ]
  },
  {
   "cell_type": "code",
   "execution_count": null,
   "id": "be916272",
   "metadata": {
    "id": "be916272",
    "outputId": "de54cc7f-e0f2-4be4-ea4e-a273d94443b8",
    "scrolled": false
   },
   "outputs": [
    {
     "ename": "NameError",
     "evalue": "name 'Köfte' is not defined",
     "output_type": "error",
     "traceback": [
      "\u001b[1;31m---------------------------------------------------------------------------\u001b[0m",
      "\u001b[1;31mNameError\u001b[0m                                 Traceback (most recent call last)",
      "\u001b[1;32m~\\AppData\\Local\\Temp/ipykernel_11884/5688988.py\u001b[0m in \u001b[0;36m<module>\u001b[1;34m\u001b[0m\n\u001b[0;32m      1\u001b[0m \u001b[1;32mdel\u001b[0m \u001b[0mKöfte\u001b[0m\u001b[1;33m\u001b[0m\u001b[1;33m\u001b[0m\u001b[0m\n\u001b[1;32m----> 2\u001b[1;33m \u001b[0mprint\u001b[0m\u001b[1;33m(\u001b[0m\u001b[0mKöfte\u001b[0m\u001b[1;33m.\u001b[0m\u001b[0mrenk\u001b[0m\u001b[1;33m)\u001b[0m\u001b[1;33m\u001b[0m\u001b[1;33m\u001b[0m\u001b[0m\n\u001b[0m",
      "\u001b[1;31mNameError\u001b[0m: name 'Köfte' is not defined"
     ]
    }
   ],
   "source": [
    "del Köfte\n",
    "print(Köfte.renk)"
   ]
  },
  {
   "cell_type": "markdown",
   "id": "564afec3",
   "metadata": {
    "id": "564afec3"
   },
   "source": [
    "Bir class içinde fonksiyon **çağırabilirsiniz**. Class içinde çağırılan fonksiyonlar classın tanımlanmasıyla sadece bir kez kendiliğinden çağrılır. Yeni objelerin oluşturulmasıyla **çağrılmaz**."
   ]
  },
  {
   "cell_type": "code",
   "execution_count": null,
   "id": "7dfd3a79",
   "metadata": {
    "id": "7dfd3a79",
    "outputId": "69f0677e-0f6e-4954-f9cb-f59a3cccd5f5",
    "scrolled": true
   },
   "outputs": [
    {
     "name": "stdout",
     "output_type": "stream",
     "text": [
      "Bu output bu classın tanımlanmasıyla sadece bir kez verilecektir.\n"
     ]
    }
   ],
   "source": [
    "class MyClass:\n",
    "    print(\"Bu output bu classın tanımlanmasıyla sadece bir kez verilecektir.\")\n",
    "    \n",
    "x = MyClass()\n",
    "y = MyClass()"
   ]
  },
  {
   "cell_type": "markdown",
   "id": "151bb903",
   "metadata": {
    "id": "151bb903"
   },
   "source": [
    "### Self"
   ]
  },
  {
   "cell_type": "markdown",
   "id": "07fea5da",
   "metadata": {
    "id": "07fea5da"
   },
   "source": [
    "**self** içinde bulunduğu objeyi işaret eder. Class içinde bulunan fonksiyonlara parametre olarak verilir. Bunun sebebi; bu classa ait objelerden birinin fonksiyonunun çağrılmasıyla, fonksiyonun classın diğer objelerine değil, doğru olan, çağırıldığı objeye gitmesi ven onun üstünde işlem yapmasıdır. Fonksiyondan herhangi bir obje verisine self üzerinden gidilerek ulaşılır(aşağıda *self.renk*). Eğer self üzerinden gidilmezse obje bulunamaz, dolayısıyla da içindeki verilere ulaşılamaz."
   ]
  },
  {
   "cell_type": "markdown",
   "id": "5c53cd2b",
   "metadata": {
    "id": "5c53cd2b"
   },
   "source": [
    "Fonksiyon içine **self** parametresi alacak şekilde oluşturulur fakat zaten objeyle birlikte çağrıldığı için(aşağıda *x.boya()*) self parametresinin girilmesine ihtiyaç yoktur. Otomatik olarak çağrıldığı objeyi alır."
   ]
  },
  {
   "cell_type": "code",
   "execution_count": null,
   "id": "be5212ef",
   "metadata": {
    "id": "be5212ef",
    "outputId": "d0d0fde7-be09-4eac-b890-5e261ff4bb64",
    "scrolled": true
   },
   "outputs": [
    {
     "name": "stdout",
     "output_type": "stream",
     "text": [
      "gri\n",
      "kırmızı\n",
      "gri\n"
     ]
    }
   ],
   "source": [
    "class Araba:\n",
    "    renk=\"gri\"\n",
    "    \n",
    "    def boya(self):           #Burada self, bu fonksiyonun çağırıldığı objeyi işaret edecektir.\n",
    "        self.renk=\"kırmızı\"   #Ve işaret ettiği objenin rengi(self.renk) kırmızıyla değiştirilecektir. \n",
    "    \n",
    "x = Araba()\n",
    "y = Araba()\n",
    "\n",
    "print(x.renk)\n",
    "x.boya()      #Burada boya() fonksiyonu çağırıldığında self, x değişkenini işaret eder.\n",
    "print(x.renk) #Program bu şekilde rengini değiştireceği arabanın x olduğunu anlar ve onu y ile karıştırmaz.\n",
    "\n",
    "print(y.renk)"
   ]
  },
  {
   "cell_type": "markdown",
   "id": "cc74a359",
   "metadata": {
    "id": "cc74a359"
   },
   "source": [
    "Eğer fonksiyonun içinde renk değişkenine self ile gidilmezse(self.renk):<br>\n",
    "-> Program renk değişkenini bulamayacak, fonksiyon scope'u içerisinde yeni bir **renk** değişkeni oluşturacaktır.<br>\n",
    "-> Bu **local** **renk** değişkenine *kırmızı* değeri atanacak fakat fonksiyondan çıkıldıktan sonra bu değişken hiçbir şey ifade etmeyecektir.<br>\n",
    "-> Sonuç olarak x arabasının rengi kırmızıyla değiştirilemeyecektir."
   ]
  },
  {
   "cell_type": "code",
   "execution_count": null,
   "id": "7d362c78",
   "metadata": {
    "id": "7d362c78",
    "outputId": "3e655341-75cd-4719-82f9-75ac4576e065"
   },
   "outputs": [
    {
     "name": "stdout",
     "output_type": "stream",
     "text": [
      "gri\n",
      "gri\n"
     ]
    }
   ],
   "source": [
    "class Araba:\n",
    "    renk=\"gri\"\n",
    "    \n",
    "    def boya(self):\n",
    "        renk=\"kırmızı\"\n",
    "\n",
    "x = Araba()\n",
    "print(x.renk)\n",
    "\n",
    "x.boya()\n",
    "print(x.renk)"
   ]
  },
  {
   "cell_type": "markdown",
   "id": "65cc535d",
   "metadata": {
    "id": "65cc535d"
   },
   "source": [
    "Class içinde oluşturulan fonksiyonlar normal fonksiyonlardan farksızdır, içlerine birden fazla input alabilirler."
   ]
  },
  {
   "cell_type": "code",
   "execution_count": null,
   "id": "26d85fd3",
   "metadata": {
    "id": "26d85fd3",
    "outputId": "4f8a7329-170a-4d70-f70b-87afa41ee6d0"
   },
   "outputs": [
    {
     "name": "stdout",
     "output_type": "stream",
     "text": [
      "gri\n",
      "kırmızı\n"
     ]
    }
   ],
   "source": [
    "class Araba:\n",
    "    renk=\"gri\"\n",
    "    \n",
    "    def boya(self, renk):    #Buradaki renk, fonksiyonun aldığı bir parametredir.\n",
    "        self.renk=renk       #Class içindeki renk verisinden(self anahtar kelimesiyle ulaşılır) farklıdır.\n",
    "\n",
    "x = Araba()\n",
    "print(x.renk)\n",
    "\n",
    "x.boya(\"kırmızı\")            #Fonksiyona sadece renk parametresi girilmiş, self için bir şey yazılmamıştır.\n",
    "print(x.renk)"
   ]
  },
  {
   "cell_type": "markdown",
   "id": "a7d1ff4c",
   "metadata": {
    "id": "a7d1ff4c"
   },
   "source": [
    "### \\_\\_init\\_\\_"
   ]
  },
  {
   "cell_type": "markdown",
   "id": "ec7f8645",
   "metadata": {
    "id": "ec7f8645"
   },
   "source": [
    "__\\_\\_init\\_\\_()__ metodu diğer programlama dillerindeki **constructor**lar gibi çalışır. Bir classın objesi oluşturulurken her zaman otomatik olarak çağrılır ve objenin oluşturulması sırasında çalıştırılması gereken ifadeler içerir. Objeye yaratılırken verilmesini istediğimiz değerleri, bu fonksiyonla tanımlayabiliriz."
   ]
  },
  {
   "cell_type": "code",
   "execution_count": 1,
   "id": "1d9cde52",
   "metadata": {
    "id": "1d9cde52",
    "outputId": "4efe75da-d545-4af8-f39b-9b40effe9459",
    "scrolled": true
   },
   "outputs": [
    {
     "name": "stdout",
     "output_type": "stream",
     "text": [
      "Sarman turuncu 1\n",
      "British Shortair gri 0\n"
     ]
    }
   ],
   "source": [
    "from datetime import date\n",
    "\n",
    "def calculate_age(doğum_tarihi):\n",
    "    bugün = date.today()\n",
    "    yaş = bugün.year - doğum_tarihi.year\n",
    "    if bugün.month < doğum_tarihi.month or bugün.month == doğum_tarihi.month and bugün.day < doğum_tarihi.day:\n",
    "        yaş -= 1\n",
    "    return yaş\n",
    "\n",
    "class Kedi:\n",
    "    tür=\"kedi\"\n",
    "    \n",
    "    # fonksiyon içindeki parametrelere variable=değer şeklinde default değerler atayabilirsiniz\n",
    "    def __init__(self, cins=\"British Shortair\", renk=\"gri\", doğum_tarihi=date.today()):\n",
    "        self.cins = cins\n",
    "        self.renk = renk\n",
    "        self.yaş = calculate_age(doğum_tarihi)\n",
    "\n",
    "    def miyav(self):\n",
    "        print(\"Miyav!\")\n",
    "\n",
    "#Böylece oluşturulan obje verilerine kendi istediğimiz değerleri verebilirz.        \n",
    "Köfte = Kedi(\"Sarman\", \"turuncu\", date(2019, 11, 20))\n",
    "print(Köfte.cins, Köfte.renk, Köfte.yaş, sep=\" \")\n",
    "\n",
    "Nohut = Kedi() #eğer fonksiyon çağrılırken o parametre için bir değer girilmezse otomatik olarak default değerler atanacaktır \n",
    "print(Nohut.cins, Nohut.renk, Nohut.yaş, sep=\" \")"
   ]
  },
  {
   "cell_type": "markdown",
   "id": "7757939c",
   "metadata": {
    "id": "7757939c"
   },
   "source": [
    "# Iterators"
   ]
  },
  {
   "cell_type": "markdown",
   "id": "e7f9a9a2",
   "metadata": {
    "id": "e7f9a9a2"
   },
   "source": [
    "**Iterator**lar list, tuple, set ve dictionary gibi **iterable**(gezilebilir) objelerin içinde gezmek için kullanılır."
   ]
  },
  {
   "cell_type": "markdown",
   "id": "97d1c193",
   "metadata": {
    "id": "97d1c193"
   },
   "source": [
    "Iterator oluşturmak için **iter()** metodu kullanılır ve iterator ile gezmek için **next()** metodu kullanılır."
   ]
  },
  {
   "cell_type": "code",
   "execution_count": null,
   "id": "07a7e6f1",
   "metadata": {
    "id": "07a7e6f1",
    "outputId": "98f06c08-63f6-4427-af74-8fbd3f857d2d"
   },
   "outputs": [
    {
     "name": "stdout",
     "output_type": "stream",
     "text": [
      "<list_iterator object at 0x0000025B79F5DEE0>\n",
      "0\n",
      "1\n",
      "2\n"
     ]
    }
   ],
   "source": [
    "x = [0, 1, 2]\n",
    "iterator_obj = iter(x)    #Iterator oluşturuldu.\n",
    "\n",
    "print(iterator_obj)       #Görüldüğü gibi iterator_obj bir iterator objesidir.\n",
    "\n",
    "print(next(iterator_obj)) #next() metoduyla iterable obje içerisinde gezilir.\n",
    "print(next(iterator_obj))\n",
    "print(next(iterator_obj))"
   ]
  },
  {
   "cell_type": "markdown",
   "id": "167a3e5c",
   "metadata": {
    "id": "167a3e5c"
   },
   "source": [
    "Objelerin içinde gezmek için for loop kullanılabildiğini biliyoruz."
   ]
  },
  {
   "cell_type": "code",
   "execution_count": null,
   "id": "72272cf6",
   "metadata": {
    "id": "72272cf6",
    "outputId": "ae63d964-5f53-4e54-f9f9-78ec2253521c",
    "scrolled": true
   },
   "outputs": [
    {
     "name": "stdout",
     "output_type": "stream",
     "text": [
      "0\n",
      "1\n",
      "2\n"
     ]
    }
   ],
   "source": [
    "x = [0, 1, 2]\n",
    "\n",
    "for y in x:\n",
    "    print(y)"
   ]
  },
  {
   "cell_type": "markdown",
   "id": "10e42f8d",
   "metadata": {
    "id": "10e42f8d"
   },
   "source": [
    "Aslında **for** döngüsü gezdiği obje için bir iterator oluşturur ve objeyi next() metoduyla gezer fakat biz görmeyiz."
   ]
  },
  {
   "cell_type": "markdown",
   "id": "a52cead8",
   "metadata": {
    "id": "a52cead8"
   },
   "source": [
    "**next()** metodu döngünün sonunu anlamak için(**iterable**ın son elemanına geldiğinde) **StopIteration** sinyali oluşturur."
   ]
  },
  {
   "cell_type": "code",
   "execution_count": null,
   "id": "07f9796e",
   "metadata": {
    "id": "07f9796e",
    "outputId": "4307e004-1213-4b6b-aaeb-ba21496bbc7b"
   },
   "outputs": [
    {
     "name": "stdout",
     "output_type": "stream",
     "text": [
      "0\n",
      "1\n",
      "2\n",
      "3\n",
      "4\n",
      "5\n",
      "6\n",
      "7\n",
      "8\n",
      "9\n"
     ]
    }
   ],
   "source": [
    "rakamlar = [0, 1, 2, 3, 4, 5, 6, 7, 8, 9]\n",
    "iterator = iter(rakamlar)\n",
    "\n",
    "while True:\n",
    "    try:\n",
    "        print(next(iterator))\n",
    "    except StopIteration:\n",
    "        break"
   ]
  },
  {
   "cell_type": "markdown",
   "id": "fa1b2c5f",
   "metadata": {
    "id": "fa1b2c5f"
   },
   "source": [
    "__\\_\\_iter\\_\\_()__: Iterator **tanımlamak** için kullanılır."
   ]
  },
  {
   "cell_type": "markdown",
   "id": "d5086d60",
   "metadata": {
    "id": "d5086d60"
   },
   "source": [
    "__\\_\\_next\\_\\_()__: Iterable(gezilebilir) objenin sonraki elemanını döner."
   ]
  },
  {
   "cell_type": "code",
   "execution_count": null,
   "id": "6ac55d2d",
   "metadata": {
    "id": "6ac55d2d",
    "outputId": "5a3702e7-4225-4f08-e216-0aa65026c631"
   },
   "outputs": [
    {
     "name": "stdout",
     "output_type": "stream",
     "text": [
      "5\n",
      "6\n",
      "7\n",
      "8\n",
      "9\n",
      "10\n",
      "11\n",
      "12\n",
      "13\n",
      "14\n",
      "15\n",
      "16\n",
      "17\n",
      "18\n",
      "19\n",
      "20\n"
     ]
    }
   ],
   "source": [
    "class CountTo20:\n",
    "    def __init__(self, fromNum):\n",
    "        self.start = fromNum\n",
    "    \n",
    "    def __iter__(self):\n",
    "        return self\n",
    "            \n",
    "    def __next__(self):\n",
    "        if self.start <= 20:\n",
    "            x = self.start\n",
    "            self.start+=1\n",
    "            return x\n",
    "        else:\n",
    "            raise StopIteration\n",
    "            \n",
    "for x in CountTo20(5):\n",
    "    print(x)\n",
    "    "
   ]
  },
  {
   "cell_type": "markdown",
   "id": "6e6cc22d",
   "metadata": {
    "id": "6e6cc22d"
   },
   "source": [
    "# Generators"
   ]
  },
  {
   "cell_type": "markdown",
   "id": "82bf491f",
   "metadata": {
    "id": "82bf491f"
   },
   "source": [
    "Generator fonksiyonlar, normal fonksiyonlar gibidir. Tek farkları fonksiyonlar bir değeri dönmek için **return** anahtar kelimesini kullanırken generator fonksiyonlar **yield** anahtar kelimesini kullanır."
   ]
  },
  {
   "cell_type": "markdown",
   "id": "66386fc6",
   "metadata": {
    "id": "66386fc6"
   },
   "source": [
    "**yield** anahtar kelimesi aynı **return** gibi çağırldığı yere bir değer döner. Normal fonksiyonlardan farkı ise daha sonra çağrıldığında, kaldığı yerden devam edebilmesidir."
   ]
  },
  {
   "cell_type": "markdown",
   "id": "1dec139e",
   "metadata": {
    "id": "1dec139e"
   },
   "source": [
    "Kodun en son çalıştırılan **yield** ifadesinden çalışmaya devam edebilmesi, birkaç değerin birden üretilmesini sağlar. Böylece birden çok değeri dönebilmek için bunları list, set vb. içine yerleştirmemiz gerekmez."
   ]
  },
  {
   "cell_type": "code",
   "execution_count": null,
   "id": "ed20ca6e",
   "metadata": {
    "id": "ed20ca6e",
    "outputId": "0f862ae5-55b3-40f6-d06d-d72522764dc9"
   },
   "outputs": [
    {
     "name": "stdout",
     "output_type": "stream",
     "text": [
      "5\n",
      "4\n",
      "Hello\n",
      "3\n"
     ]
    }
   ],
   "source": [
    "def gen():\n",
    "    yield 5\n",
    "    yield 4\n",
    "    yield \"Hello\"\n",
    "    yield 3\n",
    "    \n",
    "for x in gen():\n",
    "    print(x)"
   ]
  },
  {
   "cell_type": "markdown",
   "id": "819fe738",
   "metadata": {
    "id": "819fe738"
   },
   "source": [
    "Generator fonksiyonlar aslında bir generator objesini döner:"
   ]
  },
  {
   "cell_type": "code",
   "execution_count": null,
   "id": "d9f2e3b7",
   "metadata": {
    "id": "d9f2e3b7",
    "outputId": "f7ce74fd-ed36-4dcb-bff4-b8bee3fe0dfe"
   },
   "outputs": [
    {
     "name": "stdout",
     "output_type": "stream",
     "text": [
      "<generator object gen at 0x0000025B79BB12E0>\n"
     ]
    }
   ],
   "source": [
    "print(gen())"
   ]
  },
  {
   "cell_type": "markdown",
   "id": "9de4e041",
   "metadata": {
    "id": "9de4e041"
   },
   "source": [
    "Generator objeleri **next()** metodu veya **for in** ile kullanılabilir. Yani bir iterator olarak kullanıldığını söyleyebiliriz."
   ]
  },
  {
   "cell_type": "code",
   "execution_count": null,
   "id": "fa4acc78",
   "metadata": {
    "id": "fa4acc78",
    "outputId": "41016108-ee09-4439-ee2f-9a05a224aefc",
    "scrolled": true
   },
   "outputs": [
    {
     "name": "stdout",
     "output_type": "stream",
     "text": [
      "5\n",
      "4\n",
      "Hello\n",
      "3\n"
     ]
    }
   ],
   "source": [
    "x = gen()\n",
    "\n",
    "print(next(x))\n",
    "print(next(x))\n",
    "print(next(x))\n",
    "print(next(x))"
   ]
  },
  {
   "cell_type": "markdown",
   "id": "61db95f2",
   "metadata": {
    "id": "61db95f2"
   },
   "source": [
    "Iterator kısmında verdiğimiz CountTo20 örneğini generator kullanarak daha basit bir şekilde yazabiliriz."
   ]
  },
  {
   "cell_type": "code",
   "execution_count": null,
   "id": "ac07de32",
   "metadata": {
    "id": "ac07de32",
    "outputId": "c88de758-3322-4564-aabf-e53758663db9",
    "scrolled": true
   },
   "outputs": [
    {
     "name": "stdout",
     "output_type": "stream",
     "text": [
      "5\n",
      "6\n",
      "7\n",
      "8\n",
      "9\n",
      "10\n",
      "11\n",
      "12\n",
      "13\n",
      "14\n",
      "15\n",
      "16\n",
      "17\n",
      "18\n",
      "19\n",
      "20\n"
     ]
    }
   ],
   "source": [
    "def CountTo20Gen(fromNum):\n",
    "    start = fromNum\n",
    "    while start<=20:\n",
    "        yield start\n",
    "        start+=1\n",
    "        \n",
    "for x in CountTo20Gen(5):\n",
    "    print(x)"
   ]
  },
  {
   "cell_type": "markdown",
   "id": "11fb9566",
   "metadata": {
    "id": "11fb9566"
   },
   "source": [
    "Güzel bir örnek olarak Fibonacci sayılarını verebiliriz:"
   ]
  },
  {
   "cell_type": "code",
   "execution_count": null,
   "id": "a51ddd4c",
   "metadata": {
    "id": "a51ddd4c",
    "outputId": "3953de38-99b8-414b-f545-d1fc679d242b"
   },
   "outputs": [
    {
     "name": "stdout",
     "output_type": "stream",
     "text": [
      "1\n",
      "1\n",
      "2\n",
      "3\n",
      "5\n",
      "8\n",
      "13\n",
      "21\n",
      "34\n",
      "55\n",
      "89\n",
      "144\n",
      "233\n"
     ]
    }
   ],
   "source": [
    "def fib(num):\n",
    "    x, y = 0, 1\n",
    "    for a in range(num):\n",
    "        x, y = y, x+y\n",
    "        yield x\n",
    "\n",
    "for x in fib(13):\n",
    "    print(x)"
   ]
  },
  {
   "cell_type": "markdown",
   "id": "gTMxpvvEWoFZ",
   "metadata": {
    "id": "gTMxpvvEWoFZ"
   },
   "source": [
    "# File Handling"
   ]
  },
  {
   "cell_type": "markdown",
   "id": "9OcPkQ5MWtzK",
   "metadata": {
    "id": "9OcPkQ5MWtzK"
   },
   "source": [
    "Dosyalar verileri depolomak amacıyla kullanılan arka arkaya sıralanmış byte kümeleridir. Veriler dosya tiplerine göre spesifik formatlarla organize edilirler ve böylelikle işlemcinin farklı tip dosyaları birbirinden ayırt edebilmesi sağlanmış olur. Modern dosya sistemlerinde dosyaların sahip olduğu üç ana bölüm:\n",
    "* Header (Başlık)\n",
    "* Data (Gövde, veriler)\n",
    "* End of file (EOF, dosyanın sonu), şeklindedir.\n",
    "\n",
    "**Header**, metadatayı; yani dosyaya ait isim, boyut, ve tip gibi özellikleri içinde barındırır.\n",
    "**Data**, dosyanın yaratıcısı tarafından eklenmiş içeriklerdir.\n",
    "**EOF** ise dosyanın bittiğini belirten özel bir karakterdir."
   ]
  },
  {
   "cell_type": "markdown",
   "id": "DXhL9hu6Zjoq",
   "metadata": {
    "id": "DXhL9hu6Zjoq"
   },
   "source": [
    "Headerda saklanan ve dosya tipini belirten bytelar bizim için önem taşır. Bu veri sayesinde .txt, .jpg ya da .csv gibi extensionlar belirtilebilir. Örneğin jpeg dosyaları FF D8 FF byteları ile başlar."
   ]
  },
  {
   "cell_type": "markdown",
   "id": "1plZB1Jja-Nj",
   "metadata": {
    "id": "1plZB1Jja-Nj"
   },
   "source": [
    "# Files"
   ]
  },
  {
   "cell_type": "markdown",
   "id": "wxZH0ABCbCpQ",
   "metadata": {
    "id": "wxZH0ABCbCpQ"
   },
   "source": [
    "Dosyalar hard disk gibi geçici olmayan hafızalar üzerinde ilgili verileri depolamak amacıyla isimlendirilmiş konumlardır. Bir işletim sisteminde herhangi bir dosyaya erişim sağlayabilmek için bu dosyanın konumuna hitap eden string tipindeki yola(path) ihtiyaç duyarız. "
   ]
  },
  {
   "cell_type": "markdown",
   "id": "M6B3pYDhcRXg",
   "metadata": {
    "id": "M6B3pYDhcRXg"
   },
   "source": [
    "Path üç ana parçaya bölünebilir:\n",
    "* Folder path ; dosyanının klasörünün dosya sistemi içerisindeki yerini belirten, ardışık klasörlerin unix based sistemlerde forwardslash /, windowsta backslash \\ kullanılarak ayrıldığı yoldur.\n",
    "* File name; dosyanın ismidir.\n",
    "* Extension; \".\" ile bitişik yazılan dosya tipidir. \n"
   ]
  },
  {
   "cell_type": "markdown",
   "id": "nyG2QVSIiD4O",
   "metadata": {
    "id": "nyG2QVSIiD4O"
   },
   "source": [
    "### Relative & Absolute Path"
   ]
  },
  {
   "cell_type": "markdown",
   "id": "qvp-KCWribAB",
   "metadata": {
    "id": "qvp-KCWribAB"
   },
   "source": [
    "Relative(göreceli) path, şu an içinde bulunulan klasörden başlayarak gidilmek istenen dosyaya erişim sağlayan yol iken; absolute(kesin) path, roottan(kök) başlayarak dosyanın konumuna kadar girilmesi gereken tüm klasörleri sıralar.\n",
    "<br><br> Örneğin windowstaki hayali bir dosyanın absolute ve relative pathleri sırasıyla:\n",
    "<br>\n",
    "\"C:\\Users\\kevser\\Desktop\\python-kursu\\classes\" ve şu anda bulunduğumuz yerin Desktop olduğu varsayılırsa \".\\python-kursu\\classes\" şeklinde olur. Relative pathte gördüğümüz en baştaki \".\" içinde bulunulan dosya (current working directory) anlamına gelir.\n",
    "<br><br>Eğer bu sırada Desktop içindeki başka bir klasörde bulnuyorsak, örneğin \"Empty_dir\" klasörü:<br> \"C:\\Users\\kevser\\Desktop\\Empty_dir\",<br>\n",
    "classes dosyasına erişmek için parent directory'e (içinde bulunduğumuz klasörü kapsayan klasör, \"Empty_dir\" için \"Desktop\") geçebiliriz, bunun için:<br>\n",
    "\"..\\python-kursu\\classes\" yazmalıyız, \"..\" parent yani bir üst klasör anlamına gelir.\n",
    "\n"
   ]
  },
  {
   "cell_type": "markdown",
   "id": "cjc8IJVq6HDa",
   "metadata": {
    "id": "cjc8IJVq6HDa"
   },
   "source": [
    "## OS ve Dosya Sistemi"
   ]
  },
  {
   "cell_type": "markdown",
   "id": "5bxqU6SQNj8Q",
   "metadata": {
    "id": "5bxqU6SQNj8Q"
   },
   "source": [
    "\"os\" modülü içinde bulunulan os ve filesystem ile iletişim kurabilmemeizi sağlayan birçok fonksiyon içerir.\n"
   ]
  },
  {
   "cell_type": "code",
   "execution_count": 2,
   "id": "Y84yoie5Qm6U",
   "metadata": {
    "id": "Y84yoie5Qm6U"
   },
   "outputs": [],
   "source": [
    "import os"
   ]
  },
  {
   "cell_type": "code",
   "execution_count": 3,
   "id": "hU8Mxu6tQwvW",
   "metadata": {
    "colab": {
     "base_uri": "https://localhost:8080/",
     "height": 35
    },
    "id": "hU8Mxu6tQwvW",
    "outputId": "dd8b1c6d-1b1f-4d41-9000-47d423e69a91"
   },
   "outputs": [
    {
     "data": {
      "text/plain": [
       "'C:\\\\Users\\\\azyne\\\\Desktop\\\\python1\\\\ipynb'"
      ]
     },
     "execution_count": 3,
     "metadata": {},
     "output_type": "execute_result"
    }
   ],
   "source": [
    "os.getcwd() #getcwd() içinde bulunulan klasörü döndürür."
   ]
  },
  {
   "cell_type": "markdown",
   "id": "XanU-FNTRDkY",
   "metadata": {
    "id": "XanU-FNTRDkY"
   },
   "source": [
    "Bir klasör içindeki dosyaları listelemek için os.listdir() metodu kullanılır. Bir absolute ya da relative path değişkeni bu fonksiyonun alabileceği opsiyonel argümandır. "
   ]
  },
  {
   "cell_type": "code",
   "execution_count": 4,
   "id": "doZPnhU1RB4-",
   "metadata": {
    "colab": {
     "base_uri": "https://localhost:8080/"
    },
    "id": "doZPnhU1RB4-",
    "outputId": "60eaaebd-3f45-4020-ba91-b448ce028c9f"
   },
   "outputs": [
    {
     "data": {
      "text/plain": [
       "['.ipynb_checkpoints',\n",
       " 'nweek1.ipynb',\n",
       " 'nweek2.ipynb',\n",
       " 'nweek3.ipynb',\n",
       " 'nweek4.ipynb',\n",
       " 'Week1.ipynb',\n",
       " 'Week2.ipynb',\n",
       " 'Week3.ipynb',\n",
       " 'Week4.ipynb',\n",
       " 'Week6.ipynb']"
      ]
     },
     "execution_count": 4,
     "metadata": {},
     "output_type": "execute_result"
    }
   ],
   "source": [
    "os.listdir('.') #relative path"
   ]
  },
  {
   "cell_type": "code",
   "execution_count": 5,
   "id": "17gD2_1UR-QV",
   "metadata": {
    "colab": {
     "base_uri": "https://localhost:8080/"
    },
    "id": "17gD2_1UR-QV",
    "outputId": "c11d15b2-9d0a-4d9c-cb3f-6d6fd2ee4a16"
   },
   "outputs": [
    {
     "data": {
      "text/plain": [
       "['$Recycle.Bin',\n",
       " '$WinREAgent',\n",
       " 'bootmgr',\n",
       " 'BOOTNXT',\n",
       " 'chipset',\n",
       " 'chipset_000_SetupChipsetx64.msi.log',\n",
       " 'Documents and Settings',\n",
       " 'DRIVERS',\n",
       " 'DumpStack.log.tmp',\n",
       " 'EASy68K',\n",
       " 'hiberfil.sys',\n",
       " 'Intel',\n",
       " 'MinGW',\n",
       " 'OneDriveTemp',\n",
       " 'pagefile.sys',\n",
       " 'PerfLogs',\n",
       " 'Program Files',\n",
       " 'Program Files (x86)',\n",
       " 'ProgramData',\n",
       " 'Recovery',\n",
       " 'sqlite3',\n",
       " 'swapfile.sys',\n",
       " 'System Volume Information',\n",
       " 'Users',\n",
       " 'Windows',\n",
       " 'Xilinx']"
      ]
     },
     "execution_count": 5,
     "metadata": {},
     "output_type": "execute_result"
    }
   ],
   "source": [
    "os.listdir('/') #absolute path"
   ]
  },
  {
   "cell_type": "code",
   "execution_count": 8,
   "id": "NERgKh6SUkuk",
   "metadata": {
    "colab": {
     "base_uri": "https://localhost:8080/"
    },
    "id": "NERgKh6SUkuk",
    "outputId": "04dd4385-5df6-4116-b4c4-4911f80a3684"
   },
   "outputs": [
    {
     "data": {
      "text/plain": [
       "['nweek1-checkpoint.ipynb',\n",
       " 'nweek2-checkpoint.ipynb',\n",
       " 'nweek3-checkpoint.ipynb',\n",
       " 'nweek4-checkpoint.ipynb',\n",
       " 'Week1-checkpoint.ipynb',\n",
       " 'Week2-checkpoint.ipynb',\n",
       " 'Week3-checkpoint.ipynb']"
      ]
     },
     "execution_count": 8,
     "metadata": {},
     "output_type": "execute_result"
    }
   ],
   "source": [
    "os.listdir(\"./.ipynb_checkpoints\") #Spesifik bir klasöre relative path ile erişim"
   ]
  },
  {
   "cell_type": "code",
   "execution_count": 9,
   "id": "eFpJdfRjuL3o",
   "metadata": {
    "colab": {
     "base_uri": "https://localhost:8080/",
     "height": 35
    },
    "id": "eFpJdfRjuL3o",
    "outputId": "9b534c0c-9a8e-4a9d-dbbe-3757eb77094d"
   },
   "outputs": [
    {
     "data": {
      "text/plain": [
       "'C:\\\\Users\\\\azyne\\\\Desktop\\\\python1\\\\ipynb\\\\.ipynb_checkpoints'"
      ]
     },
     "execution_count": 9,
     "metadata": {},
     "output_type": "execute_result"
    }
   ],
   "source": [
    "os.path.abspath(\"./.ipynb_checkpoints\") #bu klasöre erişmek için kullanılması gereken absolute path'i verir."
   ]
  },
  {
   "cell_type": "markdown",
   "id": "LdwLehROU5LF",
   "metadata": {
    "id": "LdwLehROU5LF"
   },
   "source": [
    "# File Handling"
   ]
  },
  {
   "cell_type": "markdown",
   "id": "JInhoJTq6TFG",
   "metadata": {
    "id": "JInhoJTq6TFG"
   },
   "source": [
    "Dosya düzenleme web uygulamalarının oldukça önemli bir parçasıdır. Programa dosyalardan istenen türdeki verilerin yüklenebilmesini ve program bitince kaybolacak verilerin depolanabilmesini sağlar. Pythonda dosya oluşturmak, verileri okumak, üzerlerinde değişim yapmak ve silmek birçok fonksiyon tarafından gerçekleştirilebilir."
   ]
  },
  {
   "cell_type": "markdown",
   "id": "DKr5z12vVmdD",
   "metadata": {
    "id": "DKr5z12vVmdD"
   },
   "source": [
    "Dosyaları açmak için open() fonksiyonunu kullanırız. Örnek olarak yukarıda listelediğimiz sample_data klasöründen 'mnist_train_small.csv' dosyasını açacağız. open, bir file objesi returnler ve bu obje kullanılarak dosya içerisindeki verilere erişim sağlanır."
   ]
  },
  {
   "cell_type": "code",
   "execution_count": null,
   "id": "9873mFfCVqUc",
   "metadata": {
    "id": "9873mFfCVqUc"
   },
   "outputs": [],
   "source": [
    "file = open('./sample_data/mnist_train_small.csv') #open() fonksiyonu açılan dosyayı barındıran bir file objesi döndürür.\n",
    "#file = open('./sample_data/mnist_train_small.csv', 'r') gösterimine eşdeğerdir."
   ]
  },
  {
   "cell_type": "markdown",
   "id": "NV1leoTFu6-9",
   "metadata": {
    "id": "NV1leoTFu6-9"
   },
   "source": [
    "open() opsiyonel olarak mode argümanı alabilir. \n",
    "* 'r' dosyanın okunmak için açılmasını sağlar ve default değerdir.\n",
    "* 'w' açılmak istenen dosya yoksa yeni bir dosya oluşturur, varsa içeriğini silerek üzerine yazılmasını mümkün kılar.\n",
    "* 'x' var olmayan bir dosyanın yazmak için açılmasını sağlar, böylece var olan dosyaların verileri silinmez.\n",
    "* 'a' dosya var ise sonuna ekleme yapılabilmesini sağlar, dosya yoksa girilen path'te yazılmak üzere yeni bir dosya açar. \n",
    "* 't' dosyanın text modunda açılmasını sağlar ve default değerdir.\n",
    "* 'b' dosyanın binary modunda açılmasını sağlar.\n",
    "* '+' dosyanın okuma ve yazma(update) modunda açılmasını sağlar."
   ]
  },
  {
   "cell_type": "markdown",
   "id": "hqUHyTtSXfhU",
   "metadata": {
    "id": "hqUHyTtSXfhU"
   },
   "source": [
    "open() için default şifreleme Windows'ta cp1252 iken Linux'ta utf-8'dir.Bu sebeple oluşturulan kodun farklı platformlarda aynı özellikleri taşıyabilmesi amacıyla encoding argümanı kullanılmalıdır."
   ]
  },
  {
   "cell_type": "code",
   "execution_count": null,
   "id": "Aqlox_-xYGey",
   "metadata": {
    "id": "Aqlox_-xYGey"
   },
   "outputs": [],
   "source": [
    "file = open(\"deneme.txt\", mode = 'w', encoding = 'utf-8')"
   ]
  },
  {
   "cell_type": "markdown",
   "id": "E4gma2WmYao6",
   "metadata": {
    "id": "E4gma2WmYao6"
   },
   "source": [
    "Dosyalar üzerinde yapmamız gereken işlemleri tamamladığımızda, onlara ayrılmış işlemci kaynağını boşaltmak için close() fonksiyonu ile file objesini kapatmayı unutmamalıyız. "
   ]
  },
  {
   "cell_type": "code",
   "execution_count": null,
   "id": "pi4rIlhsvh60",
   "metadata": {
    "id": "pi4rIlhsvh60"
   },
   "outputs": [],
   "source": [
    "f = open(\"deneme.txt\",'w', encoding = 'utf-8')\n",
    "# dosya işlemleri\n",
    "f.close()"
   ]
  },
  {
   "cell_type": "markdown",
   "id": "gR-ac-4GvwCL",
   "metadata": {
    "id": "gR-ac-4GvwCL"
   },
   "source": [
    "Fakat dosya işlemleri sırasında oluşabilecek exceptionlar programın, dosya kapatılmadan sonlandırılmasına sebep olabileceğinden bu kullanım çok da güvenli değildir."
   ]
  },
  {
   "cell_type": "markdown",
   "id": "jaiAdLOdwQIo",
   "metadata": {
    "id": "jaiAdLOdwQIo"
   },
   "source": [
    "Daha güvenli bir kullanım **try ... finally** bloğu olacaktır. Bu yöntemle bir exception oluşsa bile dosyanın kapatılması sağlanmış olur."
   ]
  },
  {
   "cell_type": "code",
   "execution_count": null,
   "id": "t8bSoskiwgOX",
   "metadata": {
    "id": "t8bSoskiwgOX"
   },
   "outputs": [],
   "source": [
    "try:\n",
    "  f = open(\"deneme.txt\", mode = 'w', encoding = 'utf-8')\n",
    "  # dosya işlemleri\n",
    "finally:\n",
    "  f.close()"
   ]
  },
  {
   "cell_type": "markdown",
   "id": "hdeuFJ3swK2c",
   "metadata": {
    "id": "hdeuFJ3swK2c"
   },
   "source": [
    "Daha kolay bir kullanıma sahip **with** ifadesi ile close() fonksiyonunun çağrılmasına gerek kalmaz, blok içerisindeki işlemler tamamlandığında dosya kapatılmış olur."
   ]
  },
  {
   "cell_type": "code",
   "execution_count": null,
   "id": "wmalLeLKxKcR",
   "metadata": {
    "id": "wmalLeLKxKcR"
   },
   "outputs": [],
   "source": [
    "with open(\"deneme.txt\", mode = 'w', encoding = 'utf-8') as f:\n",
    "  #dosya işlemleri\n",
    "  f.write(\"Hello world\")"
   ]
  },
  {
   "cell_type": "markdown",
   "id": "RngG5eWPxlSf",
   "metadata": {
    "id": "RngG5eWPxlSf"
   },
   "source": [
    "## Dosyalara Yazma"
   ]
  },
  {
   "cell_type": "markdown",
   "id": "mK2YocQoxs6o",
   "metadata": {
    "id": "mK2YocQoxs6o"
   },
   "source": [
    "Python'da dosyalara yazabilmek için open() içersinde 'w'(write), 'a'(append) ya da 'x'(creation) modlarından biri seçilmelidir. Burada 'w' kullanılır ise var olan dosyaların içerikleri silinerek üzerine yazılacağı unutulmamalıdır."
   ]
  },
  {
   "cell_type": "code",
   "execution_count": null,
   "id": "BW67P1tsyP-p",
   "metadata": {
    "id": "BW67P1tsyP-p"
   },
   "outputs": [],
   "source": [
    "with open(\"deneme.txt\", 'w', encoding = 'utf-8') as f:\n",
    "  #dosya işlemleri\n",
    "  f.write(\"İlk satır.\\n\")\n",
    "  f.write(\"İkinci satır.\\n\")\n",
    "  f.write(\"Üçüncü satır.\")"
   ]
  },
  {
   "cell_type": "markdown",
   "id": "zlYsoFqRzgqm",
   "metadata": {
    "id": "zlYsoFqRzgqm"
   },
   "source": [
    "## Dosyalardan Okuma"
   ]
  },
  {
   "cell_type": "markdown",
   "id": "dah36yS2zk3W",
   "metadata": {
    "id": "dah36yS2zk3W"
   },
   "source": [
    "Python'da dosyalardan okuyabilmek için 'r'(reading) modunu kullanmalıyız. Dosya objesinin üzerinde read() metodu ile istediğimiz büyüklükte ya da dosyanın tamamını okuyabiliriz."
   ]
  },
  {
   "cell_type": "code",
   "execution_count": null,
   "id": "juMPZADO0NzU",
   "metadata": {
    "colab": {
     "base_uri": "https://localhost:8080/"
    },
    "id": "juMPZADO0NzU",
    "outputId": "65c4daf4-dc10-4641-92f6-8f7934ca7d93"
   },
   "outputs": [
    {
     "name": "stdout",
     "output_type": "stream",
     "text": [
      "İlk\n",
      " satır.\n",
      "\n",
      "İkinci satır.\n",
      "Üçüncü satır.\n",
      "\n"
     ]
    }
   ],
   "source": [
    "f = open(\"deneme.txt\", 'r', encoding = 'utf-8')\n",
    "print(f.read(3)) #ilk 3 veriyi okur.\n",
    "print(f.read(8)) #sonraki 8 veriyi okur.\n",
    "print(f.read()) #kalan tüm ögeleri okur.\n",
    "print(f.read()) #dosya bitimi(EOF) sonrasında boş string okur."
   ]
  },
  {
   "cell_type": "markdown",
   "id": "6WJ19HKC1yWu",
   "metadata": {
    "id": "6WJ19HKC1yWu"
   },
   "source": [
    "\"f\" file objesinin, işaretçi pozisyonuna göre read()'in okuyacağı değerler değişmektedir. tell() ve seek() metodları, dosya işaretçisinin pozisyonu üzerinde değişim yapabilmemizi sağlar."
   ]
  },
  {
   "cell_type": "code",
   "execution_count": null,
   "id": "LDaJ1gQD2Cyc",
   "metadata": {
    "colab": {
     "base_uri": "https://localhost:8080/"
    },
    "id": "LDaJ1gQD2Cyc",
    "outputId": "aeb9ebf9-4fc8-446d-91b7-0bb45d4a35a2"
   },
   "outputs": [
    {
     "name": "stdout",
     "output_type": "stream",
     "text": [
      "47\n",
      "İlk satır.\n",
      "İkinci satır.\n",
      "Üçüncü satır.\n"
     ]
    }
   ],
   "source": [
    "print(f.tell()) #dosya içerisindeki anlık pozisyonu verir\n",
    "f.seek(0) #dosya işaretçisini başlangıç pozisyonuna alır\n",
    "print(f.read()) #tüm dosyayı okur"
   ]
  },
  {
   "cell_type": "markdown",
   "id": "rnRTPOWx3WYX",
   "metadata": {
    "id": "rnRTPOWx3WYX"
   },
   "source": [
    "Dosyanın satırları bir döngü içerisinde veya **readline()** metodu, işaretçinin kaldığı yerden itibaren tek tek okunabilir."
   ]
  },
  {
   "cell_type": "code",
   "execution_count": null,
   "id": "T9wEuIMY2REw",
   "metadata": {
    "colab": {
     "base_uri": "https://localhost:8080/"
    },
    "id": "T9wEuIMY2REw",
    "outputId": "0a9d5ae3-e946-42c4-e021-187076babd54",
    "scrolled": true
   },
   "outputs": [
    {
     "name": "stdout",
     "output_type": "stream",
     "text": [
      "İlk satır.\n",
      "\n",
      "İkinci satır.\n",
      "\n",
      "Üçüncü satır.\n"
     ]
    }
   ],
   "source": [
    "f.seek(0)\n",
    "for satır in f:\n",
    "  print(satır)\n",
    "  #file objesinin içerisindeki satırlar tek tek okunabilir.\n",
    "  #burada seek ile f objesinin işaretçisi değiştirilmediğinde, boş string okunduğu gözlenebilir."
   ]
  },
  {
   "cell_type": "code",
   "execution_count": null,
   "id": "5SSP6kpHC0TT",
   "metadata": {
    "colab": {
     "base_uri": "https://localhost:8080/",
     "height": 35
    },
    "id": "5SSP6kpHC0TT",
    "outputId": "93986ebb-1742-425e-d6bf-40eb0a552d73"
   },
   "outputs": [
    {
     "data": {
      "application/vnd.google.colaboratory.intrinsic+json": {
       "type": "string"
      },
      "text/plain": [
       "'İlk satır.\\n'"
      ]
     },
     "execution_count": 46,
     "metadata": {},
     "output_type": "execute_result"
    }
   ],
   "source": [
    "f.seek(0)\n",
    "f.readline()"
   ]
  },
  {
   "cell_type": "code",
   "execution_count": null,
   "id": "5jMgp0Hq3xZ7",
   "metadata": {
    "colab": {
     "base_uri": "https://localhost:8080/"
    },
    "id": "5jMgp0Hq3xZ7",
    "outputId": "f7591c10-0aef-4892-ba6a-3d02ec22d169"
   },
   "outputs": [
    {
     "data": {
      "text/plain": [
       "['İkinci satır.\\n', 'Üçüncü satır.']"
      ]
     },
     "execution_count": 47,
     "metadata": {},
     "output_type": "execute_result"
    }
   ],
   "source": [
    "f.readlines() #işaret edilen noktadan itibaren kalan satırları okuyarak onları içeren bir list oluşturur."
   ]
  },
  {
   "cell_type": "code",
   "execution_count": null,
   "id": "OaPDnhW04EAm",
   "metadata": {
    "id": "OaPDnhW04EAm"
   },
   "outputs": [],
   "source": [
    "f.close()"
   ]
  },
  {
   "cell_type": "markdown",
   "id": "e7469e0d",
   "metadata": {},
   "source": [
    "Bir dosyayı silmek için **OS** modülü içindeki **remove()** metodunu kullanabiliirsiniz."
   ]
  },
  {
   "cell_type": "code",
   "execution_count": null,
   "id": "232f1fff",
   "metadata": {},
   "outputs": [],
   "source": [
    "import os\n",
    "\n",
    "os.remove(\"x.txt\")"
   ]
  },
  {
   "cell_type": "markdown",
   "id": "761d180b",
   "metadata": {},
   "source": [
    "Hata almamak için silmek istediğiniz dosyanın var olup olmadığını kontrol edebilirsiniz."
   ]
  },
  {
   "cell_type": "code",
   "execution_count": null,
   "id": "930f6f47",
   "metadata": {},
   "outputs": [],
   "source": [
    "import os\n",
    "\n",
    "if os.path.exists(\"x.txt\"):\n",
    "    os.remove(\"x.txt\")\n",
    "else:\n",
    "    print(\"Böyle bir dosya yok.\")"
   ]
  }
 ],
 "metadata": {
  "colab": {
   "collapsed_sections": [
    "151bb903",
    "a7d1ff4c"
   ],
   "name": "nweek4.ipynb",
   "provenance": []
  },
  "kernelspec": {
   "display_name": "Python 3 (ipykernel)",
   "language": "python",
   "name": "python3"
  },
  "language_info": {
   "codemirror_mode": {
    "name": "ipython",
    "version": 3
   },
   "file_extension": ".py",
   "mimetype": "text/x-python",
   "name": "python",
   "nbconvert_exporter": "python",
   "pygments_lexer": "ipython3",
   "version": "3.9.7"
  }
 },
 "nbformat": 4,
 "nbformat_minor": 5
}
