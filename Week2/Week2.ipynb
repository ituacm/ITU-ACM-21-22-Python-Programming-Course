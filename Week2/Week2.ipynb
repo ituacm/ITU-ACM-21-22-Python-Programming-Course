{
 "cells": [
  {
   "cell_type": "markdown",
   "metadata": {},
   "source": [
    "### Python'da Hata Tipleri"
   ]
  },
  {
   "cell_type": "markdown",
   "metadata": {},
   "source": [
    "Python programlarında bazen bir değişkenin tanımlanmadan kullanılmaya çalıştırılması , bazen de yapılamayacak bir aritmetik işlemin yapılması Pythonda hatalara yol açar. Ancak bu istisnai durumlarda hataların türüne göre programlarımızı daha güvenli bir şekilde yazabiliriz.Yani hata çıkarabilecek kodlarımızı öngörerek bu hataları programlarımızda yakalayabiliriz. Pythondaki bazı hatalara şunlar örnek verilebilir:"
   ]
  },
  {
   "cell_type": "code",
   "execution_count": 8,
   "metadata": {},
   "outputs": [
    {
     "ename": "NameError",
     "evalue": "name 'a' is not defined",
     "output_type": "error",
     "traceback": [
      "\u001b[1;31m---------------------------------------------------------------------------\u001b[0m",
      "\u001b[1;31mNameError\u001b[0m                                 Traceback (most recent call last)",
      "\u001b[1;32m<ipython-input-8-c245efe0a5a7>\u001b[0m in \u001b[0;36m<module>\u001b[1;34m\u001b[0m\n\u001b[1;32m----> 1\u001b[1;33m \u001b[0mprint\u001b[0m\u001b[1;33m(\u001b[0m\u001b[0ma\u001b[0m\u001b[1;33m)\u001b[0m \u001b[1;31m#Tanımlı değil, NameError hatası\u001b[0m\u001b[1;33m\u001b[0m\u001b[1;33m\u001b[0m\u001b[0m\n\u001b[0m",
      "\u001b[1;31mNameError\u001b[0m: name 'a' is not defined"
     ]
    }
   ],
   "source": [
    "print(a) #Tanımlı değil, NameError hatası"
   ]
  },
  {
   "cell_type": "code",
   "execution_count": 9,
   "metadata": {
    "scrolled": true
   },
   "outputs": [
    {
     "ename": "ValueError",
     "evalue": "invalid literal for int() with base 10: 'abc123'",
     "output_type": "error",
     "traceback": [
      "\u001b[1;31m---------------------------------------------------------------------------\u001b[0m",
      "\u001b[1;31mValueError\u001b[0m                                Traceback (most recent call last)",
      "\u001b[1;32m<ipython-input-9-2e3c099de6de>\u001b[0m in \u001b[0;36m<module>\u001b[1;34m\u001b[0m\n\u001b[1;32m----> 1\u001b[1;33m \u001b[0mint\u001b[0m\u001b[1;33m(\u001b[0m\u001b[1;34m\"abc123\"\u001b[0m\u001b[1;33m)\u001b[0m \u001b[1;31m#ValueError Hatası\u001b[0m\u001b[1;33m\u001b[0m\u001b[1;33m\u001b[0m\u001b[0m\n\u001b[0m",
      "\u001b[1;31mValueError\u001b[0m: invalid literal for int() with base 10: 'abc123'"
     ]
    }
   ],
   "source": [
    "int(\"abc123\") #ValueError Hatası"
   ]
  },
  {
   "cell_type": "code",
   "execution_count": 10,
   "metadata": {},
   "outputs": [
    {
     "ename": "ZeroDivisionError",
     "evalue": "division by zero",
     "output_type": "error",
     "traceback": [
      "\u001b[1;31m---------------------------------------------------------------------------\u001b[0m",
      "\u001b[1;31mZeroDivisionError\u001b[0m                         Traceback (most recent call last)",
      "\u001b[1;32m<ipython-input-10-89551b39432c>\u001b[0m in \u001b[0;36m<module>\u001b[1;34m\u001b[0m\n\u001b[1;32m----> 1\u001b[1;33m \u001b[1;36m2\u001b[0m \u001b[1;33m/\u001b[0m \u001b[1;36m0\u001b[0m  \u001b[1;31m#Bir sayı 0'a bölünemez, ZeroDivisionError\u001b[0m\u001b[1;33m\u001b[0m\u001b[1;33m\u001b[0m\u001b[0m\n\u001b[0m",
      "\u001b[1;31mZeroDivisionError\u001b[0m: division by zero"
     ]
    }
   ],
   "source": [
    "2 / 0  #Bir sayı 0'a bölünemez, ZeroDivisionError"
   ]
  },
  {
   "cell_type": "code",
   "execution_count": 11,
   "metadata": {
    "scrolled": true
   },
   "outputs": [
    {
     "ename": "SyntaxError",
     "evalue": "invalid syntax (<ipython-input-11-53bf08b790db>, line 1)",
     "output_type": "error",
     "traceback": [
      "\u001b[1;36m  File \u001b[1;32m\"<ipython-input-11-53bf08b790db>\"\u001b[1;36m, line \u001b[1;32m1\u001b[0m\n\u001b[1;33m    print('itü'acm) #Syntax Error\u001b[0m\n\u001b[1;37m               ^\u001b[0m\n\u001b[1;31mSyntaxError\u001b[0m\u001b[1;31m:\u001b[0m invalid syntax\n"
     ]
    }
   ],
   "source": [
    "print('itü'acm) #Syntax Error"
   ]
  },
  {
   "cell_type": "code",
   "execution_count": 2,
   "metadata": {},
   "outputs": [
    {
     "ename": "TypeError",
     "evalue": "unsupported operand type(s) for +: 'int' and 'str'",
     "output_type": "error",
     "traceback": [
      "\u001b[1;31m---------------------------------------------------------------------------\u001b[0m",
      "\u001b[1;31mTypeError\u001b[0m                                 Traceback (most recent call last)",
      "\u001b[1;32m~\\AppData\\Local\\Temp/ipykernel_3612/2790064935.py\u001b[0m in \u001b[0;36m<module>\u001b[1;34m\u001b[0m\n\u001b[0;32m      2\u001b[0m \u001b[0mb\u001b[0m \u001b[1;33m=\u001b[0m \u001b[1;34m\"hello\"\u001b[0m\u001b[1;33m\u001b[0m\u001b[1;33m\u001b[0m\u001b[0m\n\u001b[0;32m      3\u001b[0m \u001b[1;33m\u001b[0m\u001b[0m\n\u001b[1;32m----> 4\u001b[1;33m \u001b[0mprint\u001b[0m\u001b[1;33m(\u001b[0m\u001b[0ma\u001b[0m \u001b[1;33m+\u001b[0m \u001b[0mb\u001b[0m\u001b[1;33m)\u001b[0m \u001b[1;31m#Type Error\u001b[0m\u001b[1;33m\u001b[0m\u001b[1;33m\u001b[0m\u001b[0m\n\u001b[0m",
      "\u001b[1;31mTypeError\u001b[0m: unsupported operand type(s) for +: 'int' and 'str'"
     ]
    }
   ],
   "source": [
    "a = 10\n",
    "b = \"hello\"\n",
    "\n",
    "print(a + b) #Type Error"
   ]
  },
  {
   "cell_type": "markdown",
   "metadata": {},
   "source": [
    "### Hata Yakalama"
   ]
  },
  {
   "cell_type": "markdown",
   "metadata": {},
   "source": [
    "Şimdiye kadar yazdığımız programlarda programın kullanıcı tarafından nasıl kullanılmasını istiyorsak her zaman o şekilde kullanılacağını varsaydık ancak pratikte işler her zaman beklediğimiz gibi gitmeyebilir. Buna bizim sayı girilmesini istediğimiz yere karakter dizisi girilmesi gibi durumları örnek verebiliriz."
   ]
  },
  {
   "cell_type": "code",
   "execution_count": 2,
   "metadata": {},
   "outputs": [
    {
     "name": "stdout",
     "output_type": "stream",
     "text": [
      "ilk sayı: x\n",
      "ikinci sayı: y\n"
     ]
    },
    {
     "ename": "ValueError",
     "evalue": "invalid literal for int() with base 10: 'x'",
     "output_type": "error",
     "traceback": [
      "\u001b[1;31m---------------------------------------------------------------------------\u001b[0m",
      "\u001b[1;31mValueError\u001b[0m                                Traceback (most recent call last)",
      "\u001b[1;32m<ipython-input-2-41d2cc6e456b>\u001b[0m in \u001b[0;36m<module>\u001b[1;34m\u001b[0m\n\u001b[0;32m      2\u001b[0m \u001b[0mikinci_sayı\u001b[0m \u001b[1;33m=\u001b[0m \u001b[0minput\u001b[0m\u001b[1;33m(\u001b[0m\u001b[1;34m\"ikinci sayı: \"\u001b[0m\u001b[1;33m)\u001b[0m\u001b[1;33m\u001b[0m\u001b[1;33m\u001b[0m\u001b[0m\n\u001b[0;32m      3\u001b[0m \u001b[1;33m\u001b[0m\u001b[0m\n\u001b[1;32m----> 4\u001b[1;33m \u001b[0milk_sayı\u001b[0m \u001b[1;33m=\u001b[0m \u001b[0mint\u001b[0m\u001b[1;33m(\u001b[0m\u001b[0milk_sayı\u001b[0m\u001b[1;33m)\u001b[0m\u001b[1;33m\u001b[0m\u001b[1;33m\u001b[0m\u001b[0m\n\u001b[0m\u001b[0;32m      5\u001b[0m \u001b[0mikinci_sayı\u001b[0m \u001b[1;33m=\u001b[0m \u001b[0mint\u001b[0m\u001b[1;33m(\u001b[0m\u001b[0mikinci_sayı\u001b[0m\u001b[1;33m)\u001b[0m\u001b[1;33m\u001b[0m\u001b[1;33m\u001b[0m\u001b[0m\n\u001b[0;32m      6\u001b[0m \u001b[1;33m\u001b[0m\u001b[0m\n",
      "\u001b[1;31mValueError\u001b[0m: invalid literal for int() with base 10: 'x'"
     ]
    }
   ],
   "source": [
    "ilk_sayı = input(\"ilk sayı: \")\n",
    "ikinci_sayı = input(\"ikinci sayı: \")\n",
    "\n",
    "ilk_sayı = int(ilk_sayı)\n",
    "ikinci_sayı = int(ikinci_sayı)\n",
    "\n",
    "print(ilk_sayı, \"/\", ikinci_sayı, \"=\", ilk_sayı / ikinci_sayı)"
   ]
  },
  {
   "cell_type": "markdown",
   "metadata": {},
   "source": [
    "#### try-except"
   ]
  },
  {
   "cell_type": "markdown",
   "metadata": {},
   "source": [
    "Python’da hata yakalama işlemleri için **try... except...** bloklarından yararlanılır. \n",
    "\n",
    "Basit bir örnek olarak:"
   ]
  },
  {
   "cell_type": "code",
   "execution_count": 4,
   "metadata": {
    "scrolled": true
   },
   "outputs": [
    {
     "name": "stdout",
     "output_type": "stream",
     "text": [
      "ilk sayı: x\n",
      "ikinci sayı: y\n",
      "Hata oluştu.\n"
     ]
    }
   ],
   "source": [
    "ilk_sayı    = input(\"ilk sayı: \")\n",
    "ikinci_sayı = input(\"ikinci sayı: \")\n",
    "\n",
    "try:\n",
    "    sayı1 = int(ilk_sayı)\n",
    "    sayı2 = int(ikinci_sayı)\n",
    "    print(sayı1, \"/\", sayı2, \"=\", sayı1 / sayı2)\n",
    "except:\n",
    "    print(\"Hata oluştu.\")"
   ]
  },
  {
   "cell_type": "markdown",
   "metadata": {},
   "source": [
    "belirli bir hata türü için belirli bir işlem yapmak istiyorsanız:"
   ]
  },
  {
   "cell_type": "code",
   "execution_count": 8,
   "metadata": {},
   "outputs": [
    {
     "name": "stdout",
     "output_type": "stream",
     "text": [
      "ilk sayı: x\n",
      "ikinci sayı: y\n",
      "Lütfen sadece sayı girin!\n"
     ]
    }
   ],
   "source": [
    "ilk_sayı    = input(\"ilk sayı: \")\n",
    "ikinci_sayı = input(\"ikinci sayı: \")\n",
    "\n",
    "try:\n",
    "    sayı1 = int(ilk_sayı)\n",
    "    sayı2 = int(ikinci_sayı)\n",
    "    print(sayı1, \"/\", sayı2, \"=\", sayı1 / sayı2)\n",
    "except ValueError:\n",
    "    print(\"Lütfen sadece sayı girin!\")"
   ]
  },
  {
   "cell_type": "markdown",
   "metadata": {},
   "source": [
    "Bu örnekte programın çökme sebebi bir veriyi sayıya dönüştürmek istediğimizde kullanıcının sayı yerine bir harf girmiş olması. Bu yüzden hata alma ihtimalimiz en yüksek olan int(ilk_sayı) ve int(ikinci_sayı) kodlarını **try...** bloğu içine aldık. \n",
    "\n",
    "Veri dönüştürme işlemi sırasında kullanıcının uygun olmayan bir veri girmesi halinde üretilecek hata bir *ValueError*’dır. Bu yüzden **except...** bloğuna ValueError değerini koyduk.\n",
    "\n",
    "Aslında kodun anlamı gayet basit: Eğer try bloğu içinde belirtilen işlemler sırasında verilen error tipi ile karşılaşırsan (error tipi belirtilmemişse herhangi bir error ile karşılaşırsan) try bloğundaki geri kalan işlemleri gerçekleştirme ve normal şartlar altında kullanıcıya göstereceğin hata mesajı yerine kullanıcıya altta verilen mesajı göster:"
   ]
  },
  {
   "cell_type": "markdown",
   "metadata": {},
   "source": [
    "**try**:\n",
    "\n",
    "    hata verebileceğini bildiğimiz kodlar\n",
    "    \n",
    "**except** *HataAdı*:\n",
    "\n",
    "    hata durumunda yapılacak işlem"
   ]
  },
  {
   "cell_type": "markdown",
   "metadata": {},
   "source": [
    "###### Birden fazla hata durumunda:"
   ]
  },
  {
   "cell_type": "markdown",
   "metadata": {},
   "source": [
    "Çoklu hata durumlarında en uygun çözüm her hata mesajına ayrı bir çıktı vermektir:"
   ]
  },
  {
   "cell_type": "code",
   "execution_count": null,
   "metadata": {},
   "outputs": [],
   "source": [
    "ilk_sayı    = input(\"ilk sayı: \")\n",
    "ikinci_sayı = input(\"ikinci sayı: \")\n",
    "\n",
    "try:\n",
    "    sayı1 = int(ilk_sayı)\n",
    "    sayı2 = int(ikinci_sayı)\n",
    "    print(sayı1, \"/\", sayı2, \"=\", sayı1 / sayı2)\n",
    "except ValueError:\n",
    "    print(\"Lütfen sadece sayı girin!\")\n",
    "except:\n",
    "    print(\"Başka bir hata oluştu.\")"
   ]
  },
  {
   "cell_type": "code",
   "execution_count": null,
   "metadata": {},
   "outputs": [],
   "source": [
    "ikinci_sayı = input(\"ikinci sayı: \")\n",
    "\n",
    "try:\n",
    "    sayı1 = int(ilk_sayı)\n",
    "    sayı2 = int(ikinci_sayı) #input olarak 0 rakamı verildiğinde program ZeroDivisionError verir.\n",
    "    print(sayı1, \"/\", sayı2, \"=\", sayı1 / sayı2)\n",
    "except ZeroDivisionError:\n",
    "    print(\"Bir sayıyı 0'a bölemezsiniz!\")\n",
    "except ValueError:\n",
    "    print(\"Lütfen sadece sayı girin!\")"
   ]
  },
  {
   "cell_type": "markdown",
   "metadata": {},
   "source": [
    "Bunun dışında hataları gruplayıp hepsi için tek bir error mesajı verdirebiliriz:"
   ]
  },
  {
   "cell_type": "code",
   "execution_count": null,
   "metadata": {},
   "outputs": [],
   "source": [
    "ilk_sayı    = input(\"ilk sayı: \")\n",
    "ikinci_sayı = input(\"ikinci sayı: \")\n",
    "\n",
    "try:\n",
    "    sayı1 = int(ilk_sayı)\n",
    "    sayı2 = int(ikinci_sayı)\n",
    "    print(sayı1, \"/\", sayı2, \"=\", sayı1 / sayı2)\n",
    "except (ValueError, ZeroDivisionError):\n",
    "    print(\"Bir hata oluştu!\")"
   ]
  },
  {
   "cell_type": "markdown",
   "metadata": {},
   "source": [
    "#### raise"
   ]
  },
  {
   "cell_type": "markdown",
   "metadata": {},
   "source": [
    "Belirli bir koşulda hata oluşturmak için **raise** ifadesi kullanılır."
   ]
  },
  {
   "cell_type": "code",
   "execution_count": 3,
   "metadata": {
    "scrolled": true
   },
   "outputs": [
    {
     "name": "stdout",
     "output_type": "stream",
     "text": [
      "Pozitif bir sayı girin: -1\n"
     ]
    },
    {
     "ename": "Exception",
     "evalue": "Girdiğiniz sayı pozitif değil.",
     "output_type": "error",
     "traceback": [
      "\u001b[1;31m---------------------------------------------------------------------------\u001b[0m",
      "\u001b[1;31mException\u001b[0m                                 Traceback (most recent call last)",
      "\u001b[1;32m~\\AppData\\Local\\Temp/ipykernel_7728/25827892.py\u001b[0m in \u001b[0;36m<module>\u001b[1;34m\u001b[0m\n\u001b[0;32m      2\u001b[0m \u001b[1;33m\u001b[0m\u001b[0m\n\u001b[0;32m      3\u001b[0m \u001b[1;32mif\u001b[0m \u001b[0mx\u001b[0m \u001b[1;33m<\u001b[0m \u001b[1;36m0\u001b[0m\u001b[1;33m:\u001b[0m\u001b[1;33m\u001b[0m\u001b[1;33m\u001b[0m\u001b[0m\n\u001b[1;32m----> 4\u001b[1;33m     \u001b[1;32mraise\u001b[0m \u001b[0mException\u001b[0m\u001b[1;33m(\u001b[0m\u001b[1;34m\"Girdiğiniz sayı pozitif değil.\"\u001b[0m\u001b[1;33m)\u001b[0m\u001b[1;33m\u001b[0m\u001b[1;33m\u001b[0m\u001b[0m\n\u001b[0m",
      "\u001b[1;31mException\u001b[0m: Girdiğiniz sayı pozitif değil."
     ]
    }
   ],
   "source": [
    "x = int(input(\"Pozitif bir sayı girin: \"))\n",
    "\n",
    "if x < 0:\n",
    "    raise Exception(\"Girdiğiniz sayı pozitif değil.\")"
   ]
  },
  {
   "cell_type": "markdown",
   "metadata": {},
   "source": [
    "**raise** ifadesiyle verilecek olan hatanın tipini ve kullanıcıya verilecek olan mesajı belirleyebilirsiniz."
   ]
  },
  {
   "cell_type": "code",
   "execution_count": 2,
   "metadata": {
    "scrolled": false
   },
   "outputs": [
    {
     "name": "stdout",
     "output_type": "stream",
     "text": [
      "ilk sayı: 3\n",
      "ikinci sayı: 0\n"
     ]
    },
    {
     "ename": "ZeroDivisionError",
     "evalue": "0 ile bölme yapılamaz.",
     "output_type": "error",
     "traceback": [
      "\u001b[1;31m---------------------------------------------------------------------------\u001b[0m",
      "\u001b[1;31mZeroDivisionError\u001b[0m                         Traceback (most recent call last)",
      "\u001b[1;32m~\\AppData\\Local\\Temp/ipykernel_7728/2577756193.py\u001b[0m in \u001b[0;36m<module>\u001b[1;34m\u001b[0m\n\u001b[0;32m      2\u001b[0m \u001b[0mikinci_sayı\u001b[0m \u001b[1;33m=\u001b[0m \u001b[0mint\u001b[0m\u001b[1;33m(\u001b[0m\u001b[0minput\u001b[0m\u001b[1;33m(\u001b[0m\u001b[1;34m\"ikinci sayı: \"\u001b[0m\u001b[1;33m)\u001b[0m\u001b[1;33m)\u001b[0m\u001b[1;33m\u001b[0m\u001b[1;33m\u001b[0m\u001b[0m\n\u001b[0;32m      3\u001b[0m \u001b[1;32mif\u001b[0m \u001b[0mikinci_sayı\u001b[0m \u001b[1;33m==\u001b[0m \u001b[1;36m0\u001b[0m\u001b[1;33m:\u001b[0m\u001b[1;33m\u001b[0m\u001b[1;33m\u001b[0m\u001b[0m\n\u001b[1;32m----> 4\u001b[1;33m     \u001b[1;32mraise\u001b[0m \u001b[0mZeroDivisionError\u001b[0m\u001b[1;33m(\u001b[0m\u001b[1;34m\"0 ile bölme yapılamaz.\"\u001b[0m\u001b[1;33m)\u001b[0m\u001b[1;33m\u001b[0m\u001b[1;33m\u001b[0m\u001b[0m\n\u001b[0m",
      "\u001b[1;31mZeroDivisionError\u001b[0m: 0 ile bölme yapılamaz."
     ]
    }
   ],
   "source": [
    "ilk_sayı    = int(input(\"ilk sayı: \"))\n",
    "ikinci_sayı = int(input(\"ikinci sayı: \"))\n",
    "if ikinci_sayı == 0:\n",
    "    raise ZeroDivisionError(\"0 ile bölme yapılamaz.\")"
   ]
  },
  {
   "cell_type": "markdown",
   "metadata": {},
   "source": [
    "**raise** ifadesiyle oluşturulan hata **try** içerisine alınarak tespit edilebilir."
   ]
  },
  {
   "cell_type": "code",
   "execution_count": 5,
   "metadata": {
    "scrolled": true
   },
   "outputs": [
    {
     "name": "stdout",
     "output_type": "stream",
     "text": [
      "Pozitif bir sayı girin: -3\n",
      "Girdiğiniz sayı pozitif değil\n"
     ]
    }
   ],
   "source": [
    "try:\n",
    "    x = int(input(\"Pozitif bir sayı girin: \"))\n",
    "    if x <= 0:\n",
    "        raise ValueError(\"Girdiğiniz sayı pozitif değil\")\n",
    "except ValueError as message:\n",
    "    print(message)"
   ]
  },
  {
   "cell_type": "markdown",
   "metadata": {},
   "source": [
    "#### assert"
   ]
  },
  {
   "cell_type": "markdown",
   "metadata": {},
   "source": [
    "**raise** ifadesi yerine **assert** ifadesini kullanabilirsiniz"
   ]
  },
  {
   "cell_type": "code",
   "execution_count": 7,
   "metadata": {},
   "outputs": [
    {
     "name": "stdout",
     "output_type": "stream",
     "text": [
      "Pozitif bir sayı girin: -3\n",
      "Girdiğiniz sayı pozitif değil\n"
     ]
    }
   ],
   "source": [
    "try:\n",
    "    x = int(input(\"Pozitif bir sayı girin: \"))\n",
    "    assert x > 0\n",
    "except:\n",
    "    print(\"Girdiğiniz sayı pozitif değil\")"
   ]
  },
  {
   "cell_type": "markdown",
   "metadata": {},
   "source": [
    "Burada dikkat edilmesi gereken, **assert** ifadesi içeriside, hata verilmesi **istenmeyen** koşul belirtilmelidir."
   ]
  },
  {
   "cell_type": "markdown",
   "metadata": {},
   "source": [
    "## Python'da Output Düzeni ve Formatlama"
   ]
  },
  {
   "cell_type": "markdown",
   "metadata": {},
   "source": [
    "Python'da <font color=green>print()</font> fonksiyonu programın output vermesini sağlar. <font color=green>print()</font>, bu programlama dilinde gömülü (built-in) bir fonksiyon olarak gelir. Python'da bu tarz fonksiyonların anlaşılması için <font color=green>help()</font> fonksiyonu vardır."
   ]
  },
  {
   "cell_type": "code",
   "execution_count": null,
   "metadata": {
    "scrolled": true
   },
   "outputs": [],
   "source": [
    "help(print)"
   ]
  },
  {
   "cell_type": "markdown",
   "metadata": {},
   "source": [
    "Burada bizim için önemli olan <font color=blue>_print(value, ..., sep=' ', end='\\n', file=sys.stdout, flush=False)_</font> satırıdır. Burada görülen;\n",
    "1. <font color=red>sep=' '</font> ifadesi, <font color=green>print()</font>'in içine yazılan çoklu değerlerin arasına default olarak boşluk koyduğunu gösterir.\n",
    "2. <font color=red>end='\\n'</font> ifadesi, <font color=green>print()</font>'in yazdırma işi her sonlandığında bir satır alta geçtiğini gösterir."
   ]
  },
  {
   "cell_type": "markdown",
   "metadata": {},
   "source": [
    "### 1. <font color=red>sep=' '</font> ifadesi"
   ]
  },
  {
   "cell_type": "markdown",
   "metadata": {},
   "source": [
    "<font color=green>print()</font>'in içine yazdırılacak çoklu elemanların arasında yer alacak ifadeleri belirler. Tırnak işaretlerinin arasına istenilen her şey koyulabilir. Default olarak bir adet space karakteri içerir."
   ]
  },
  {
   "cell_type": "code",
   "execution_count": 2,
   "metadata": {
    "scrolled": true
   },
   "outputs": [
    {
     "name": "stdout",
     "output_type": "stream",
     "text": [
      "1 :) 2 :) 3 :) 4 :) 5 :) 6 :) 7\n"
     ]
    }
   ],
   "source": [
    "print(1, 2, 3, 4, 5, 6, 7, sep=\" :) \")"
   ]
  },
  {
   "cell_type": "markdown",
   "metadata": {},
   "source": [
    "### 2. <font color=red>end=' '</font> ifadesi"
   ]
  },
  {
   "cell_type": "markdown",
   "metadata": {},
   "source": [
    "<font color=green>print()</font>'in yazdırma işi bittikten sonraki davranışını belirler. Tırnak işaretlerinin arasına istenilen her şey koyulabilir. Default olarak newline (<font color=red>'\\n'</font>) işareti vardır, yani bir alt satıra geçişi sağlar."
   ]
  },
  {
   "cell_type": "code",
   "execution_count": 3,
   "metadata": {},
   "outputs": [
    {
     "name": "stdout",
     "output_type": "stream",
     "text": [
      "1 2 3 4 5 6 7 :) "
     ]
    }
   ],
   "source": [
    "print(1, 2, 3, 4, 5, 6, 7, end=\" :) \")"
   ]
  },
  {
   "cell_type": "markdown",
   "metadata": {},
   "source": [
    "NOT: <font color=red>'\\n'</font> = new line, yani Python'da yeni satır bırakma işaretidir. Nasıl çalıştığını anlamak için aşağıdaki örneği inceleyelim."
   ]
  },
  {
   "cell_type": "code",
   "execution_count": 8,
   "metadata": {},
   "outputs": [
    {
     "name": "stdout",
     "output_type": "stream",
     "text": [
      "\n",
      " İkinci satır \n",
      " \n",
      " Dördüncü satır\n"
     ]
    }
   ],
   "source": [
    "print(\"\\n\", \"İkinci satır\", '\\n', \"\\n\", \"Dördüncü satır\")"
   ]
  },
  {
   "cell_type": "markdown",
   "metadata": {},
   "source": [
    "Örnekte görüldüğü gibi <font color=green>print()</font>:\n",
    "1. İlk <font color=blue>'\\n'</font> ifadesini gördüğünde yazdırma kısmında bir satır sonraya geçer. \n",
    "2. İkinci değer olarak <font color=blue>\"İkinci satır\"</font> ifadesi şuan bulunulan kısımdan, yani ikinci satırın başından yazdırılır.\n",
    "3. Üçüncü değer olarak <font color=blue>'\\n'</font> ifadesini gören <font color=green>print()</font>, bulunulan kısımdan bir alt satıra, yani <font color=blue>\"İkinci satır\"</font> ifadesinin sonundan üçüncü satırın başına geçer.\n",
    "4. Üçüncü satırın başında bulunurken değer olarak <font color=blue>'\\n'</font> ifadesini gören <font color=green>print()</font>, bulunulan kısımdan bir alt satıra, yani üçüncü satırın başından dördüncü satırın başına geçer.\n",
    "5. Beşinci ve son değer olarak <font color=blue>\"Dördüncü satır\"</font> ifadesini gören print, bulunulan yerden bu ifadeyi yazdırır, yani dördüncü satırın başından itibaren bu ifadeyi yazdırır."
   ]
  },
  {
   "cell_type": "markdown",
   "metadata": {},
   "source": [
    "## Formatlama"
   ]
  },
  {
   "cell_type": "markdown",
   "metadata": {},
   "source": [
    "Programlamada bazı yerlerde bir stringin içinde daha önceden tanımlı string, float, int vs. değerleri yerleştirmek isteyebiliriz. Böyle durumlar için Pythonda <font color=purple>format()</font> fonksiyonu bulunmaktadır. Örneğin, programımızda 2 tane tamsayı değerimiz var ve biz bunları ve toplamlarını bir string içinde ekrana bastırmak istiyoruz. Bunun için <font color=purple>format()</font> fonksiyonunu kullanabiliriz.\n",
    "\n",
    "format() metodunda süslü parantezlerle sabit veya değişkenlerin sahip oldukları değerlerinin yeri tutulur."
   ]
  },
  {
   "cell_type": "code",
   "execution_count": 1,
   "metadata": {},
   "outputs": [
    {
     "name": "stdout",
     "output_type": "stream",
     "text": [
      "Bir sayı giriniz: 8\n",
      "Girdiğiniz sayı: 8\n"
     ]
    }
   ],
   "source": [
    "n = input(\"Bir sayı giriniz: \")\n",
    "\n",
    "print(\"Girdiğiniz sayı: {}\".format(n))"
   ]
  },
  {
   "cell_type": "code",
   "execution_count": 4,
   "metadata": {
    "scrolled": true
   },
   "outputs": [
    {
     "name": "stdout",
     "output_type": "stream",
     "text": [
      "Lütfen bir sayı giriniz: 4\n",
      "Lütfen ikinci sayıyı giriniz: 5\n",
      "Girdiğiniz ilk sayı = 4 \n",
      "İkinci sayı = 5 \n",
      "Toplam = 9\n"
     ]
    }
   ],
   "source": [
    "ilk_sayi = int(input(\"Lütfen bir sayı giriniz: \"))\n",
    "ikinci_sayi = int(input(\"Lütfen ikinci sayıyı giriniz: \"))\n",
    "\n",
    "print(\"Girdiğiniz ilk sayı = {} {}İkinci sayı = {} {}Toplam = {}\".format(ilk_sayi,\"\\n\", ikinci_sayi,\n",
    "                                                                          \"\\n\", ilk_sayi + ikinci_sayi))"
   ]
  },
  {
   "cell_type": "markdown",
   "metadata": {},
   "source": [
    "Burada görüldüğü gibi print fonksiyonuyla bastırılacak herhangi bir stringin üzerine konulan süslü parantezlerin (<font color=purple>{}</font>) içine sırayla eklenecek olan değerler, <font color=purple>string.format(değerler)</font> şeklinde yazılır ve virgülle ayrılır."
   ]
  },
  {
   "cell_type": "markdown",
   "metadata": {},
   "source": [
    "Değişkenlerin içine de süslü parantezler konup sonradan formatlanabilir."
   ]
  },
  {
   "cell_type": "code",
   "execution_count": 2,
   "metadata": {},
   "outputs": [
    {
     "name": "stdout",
     "output_type": "stream",
     "text": [
      "Bir sayı giriniz: 7\n",
      "Girdiğiniz sayı: 7\n"
     ]
    }
   ],
   "source": [
    "n = input(\"Bir sayı giriniz: \")\n",
    "\n",
    "çıktı = \"Girdiğiniz sayı: {}\"\n",
    "print(çıktı.format(n))"
   ]
  },
  {
   "cell_type": "markdown",
   "metadata": {},
   "source": [
    "Değişkenler, print fonksiyonu dışında formatlanıp da ekrana yazdırılabilir."
   ]
  },
  {
   "cell_type": "code",
   "execution_count": 3,
   "metadata": {},
   "outputs": [
    {
     "name": "stdout",
     "output_type": "stream",
     "text": [
      "Bir sayı giriniz: 8\n",
      "Girdiğiniz sayı: 8\n"
     ]
    }
   ],
   "source": [
    "n = input(\"Bir sayı giriniz: \")\n",
    "\n",
    "çıktı_formatsız = \"Girdiğiniz sayı: {}\"\n",
    "çıktı_formatlı = çıktı.format(n)\n",
    "print(çıktı_formatlı)"
   ]
  },
  {
   "cell_type": "markdown",
   "metadata": {},
   "source": [
    "Değişken yerine direkt olarak sabit bir değer de yazılabilir."
   ]
  },
  {
   "cell_type": "code",
   "execution_count": 5,
   "metadata": {
    "scrolled": true
   },
   "outputs": [
    {
     "name": "stdout",
     "output_type": "stream",
     "text": [
      "12\n"
     ]
    }
   ],
   "source": [
    "print(\"{}\".format(12))"
   ]
  },
  {
   "cell_type": "markdown",
   "metadata": {},
   "source": [
    "Sayıların virgülden sonraki basamak sayısı aşağıdaki şekilde formatlanabilir."
   ]
  },
  {
   "cell_type": "code",
   "execution_count": 9,
   "metadata": {},
   "outputs": [
    {
     "name": "stdout",
     "output_type": "stream",
     "text": [
      "12.00\n"
     ]
    }
   ],
   "source": [
    "sayı = 12\n",
    "print(\"{:.2f}\".format(sayı))"
   ]
  },
  {
   "cell_type": "markdown",
   "metadata": {},
   "source": [
    "Değerlerin doğru yerde olduğundan emin olmak için index numarası (süslü parantez içinde sayı) kullanabilirsiniz."
   ]
  },
  {
   "cell_type": "code",
   "execution_count": 2,
   "metadata": {
    "scrolled": true
   },
   "outputs": [
    {
     "name": "stdout",
     "output_type": "stream",
     "text": [
      "19.50 fiyatındaki cheesecake'den 1 adet istiyorum\n"
     ]
    }
   ],
   "source": [
    "ürün = \"cheesecake\"\n",
    "miktar = 1\n",
    "fiyat = 19.5\n",
    "\n",
    "sipariş = \"{2:.2f} fiyatındaki {0}'den {1} adet istiyorum\"\n",
    "print(sipariş.format(ürün, miktar, fiyat))"
   ]
  },
  {
   "cell_type": "markdown",
   "metadata": {},
   "source": [
    "Aynı değeri birden fazla kullanmak isterseniz index numarası kullanabilirsiniz."
   ]
  },
  {
   "cell_type": "code",
   "execution_count": 2,
   "metadata": {
    "scrolled": true
   },
   "outputs": [
    {
     "name": "stdout",
     "output_type": "stream",
     "text": [
      "cheesecake istiyorum. 1 adet cheesecake'in fiyatı ne kadar?\n"
     ]
    }
   ],
   "source": [
    "ürün = \"cheesecake\"\n",
    "miktar = 1\n",
    "\n",
    "sipariş = \"{0} istiyorum. {1} adet {0}'in fiyatı ne kadar?\"\n",
    "print(sipariş.format(ürün, miktar))"
   ]
  },
  {
   "cell_type": "markdown",
   "metadata": {},
   "source": [
    "Süslü parantezin içine index olarak isim yazabilirsiniz. Burada dikkat etmeniz gereken, format fonksiyonu içinde bu isimleri tanımlamanız gerektiğidir."
   ]
  },
  {
   "cell_type": "code",
   "execution_count": 6,
   "metadata": {
    "scrolled": false
   },
   "outputs": [
    {
     "name": "stdout",
     "output_type": "stream",
     "text": [
      "12.00\n"
     ]
    }
   ],
   "source": [
    "print(\"{sayı:.2f}\".format(sayı = 12))"
   ]
  },
  {
   "cell_type": "markdown",
   "metadata": {},
   "source": [
    "Önceden tanımladığınız değişkenlerin isimlerini kullanabilirsiniz."
   ]
  },
  {
   "cell_type": "code",
   "execution_count": 7,
   "metadata": {},
   "outputs": [
    {
     "name": "stdout",
     "output_type": "stream",
     "text": [
      "Ahmet'in boyu 187'dir\n"
     ]
    }
   ],
   "source": [
    "ad = \"Ahmet\"\n",
    "boy = 187\n",
    "\n",
    "print(f\"{ad}'in boyu {boy}'dir\")"
   ]
  },
  {
   "cell_type": "code",
   "execution_count": 8,
   "metadata": {},
   "outputs": [
    {
     "name": "stdout",
     "output_type": "stream",
     "text": [
      "Hüseyin Averbek 21 yaşındadır ve 88.35 kilodur.\n"
     ]
    }
   ],
   "source": [
    "ad = \"Hüseyin\"\n",
    "soyad = \"Averbek\"\n",
    "yaş = 21\n",
    "kilo = 88.351295\n",
    "\n",
    "print(f\"{ad} {soyad} {yaş} yaşındadır ve {kilo:.2f} kilodur.\")"
   ]
  },
  {
   "cell_type": "markdown",
   "metadata": {},
   "source": [
    "## Yüzde işareti yöntemi"
   ]
  },
  {
   "cell_type": "markdown",
   "metadata": {},
   "source": [
    "Yüzde işareti yönteminde yüzde işaretleriyle sabit veya değişkenlerin sahip oldukları değerlerinin yeri tutulur."
   ]
  },
  {
   "cell_type": "markdown",
   "metadata": {},
   "source": [
    "*   String değerlerinin yerini tutmak için %s\n",
    "*   Integer değerlerinin yerini tutmak için %d\n",
    "*   Float değerlerinin yerini tutmak için %f\n",
    "\n",
    "kullanılır.\n",
    "\n",
    "\n",
    "\n"
   ]
  },
  {
   "cell_type": "code",
   "execution_count": 9,
   "metadata": {},
   "outputs": [
    {
     "name": "stdout",
     "output_type": "stream",
     "text": [
      "Bir sayı giriniz: 5\n",
      "Girdiğiniz sayı: 5\n"
     ]
    }
   ],
   "source": [
    "n = int(input(\"Bir sayı giriniz: \"))\n",
    "\n",
    "print(\"Girdiğiniz sayı: %d\"%n)"
   ]
  },
  {
   "cell_type": "markdown",
   "metadata": {},
   "source": [
    "Yukarda da görüldüğü üzere, çıktıdan sonra tekrar bir yüzde işareti koyulup değişkenin adı yazılır."
   ]
  },
  {
   "cell_type": "code",
   "execution_count": 3,
   "metadata": {},
   "outputs": [
    {
     "name": "stdout",
     "output_type": "stream",
     "text": [
      "10\n",
      "2\n",
      "10.0 sayısının 2.0' sayısına bölümü 5.0'dir\n"
     ]
    }
   ],
   "source": [
    "a = float(input())\n",
    "b = float(input())\n",
    "\n",
    "print(\"%.1f sayısının %.1f' sayısına bölümü %.1f'dir\"%(a,b,a/b))"
   ]
  },
  {
   "cell_type": "markdown",
   "metadata": {},
   "source": [
    "# PYTHON'DA VERİ YAPILARI"
   ]
  },
  {
   "cell_type": "markdown",
   "metadata": {},
   "source": [
    "Python'da karşılaştığımız farklı problemlere daha etkili ve verimli çözümler üretebilmek için çeşitli veri yapıları kullanırız. Bunun nedeni, yazılan her programda verilerin depolanması, düzenlemesi gibi temel unsurların kullanılmasıdır. Bilgiler verimli bir şekilde saklandığında, kullanılmak istendiği zaman elde edilmesi çok daha kolaydır. Bu şekilde kod, ilgili veri yapısı kullanılmayan versiyonundan hızlı çalışacaktır."
   ]
  },
  {
   "cell_type": "markdown",
   "metadata": {},
   "source": [
    "İnceleyeceğimiz veri yapıları şunlardır: list(liste), dictionary(sözlük), set ve tuple."
   ]
  },
  {
   "cell_type": "markdown",
   "metadata": {},
   "source": [
    "# Listler"
   ]
  },
  {
   "cell_type": "markdown",
   "metadata": {},
   "source": [
    "Python'da list, yani liste, herhangi sayıda ve türde objeleri içinde bulunduran bir sandık vazifesi görür. Diğer dillerdeki listelerden en önemli farkı, bir listede farklı tipten ögelerin yanyana bulunabilmesidir. Pythondaki veri yapılarıyla kıyaslayacak olursak, diğer veri tiplerinden(dict, set vs.) farkı, ögelerinin sıralı ve **değiştirilebilir (mutable)** olmasıdır. List içindeki ögeler sıralı olduğu için hepsinin belirli bir yeri vardır, bu da bir ögenin birden fazla tekrarına izin verir."
   ]
  },
  {
   "cell_type": "markdown",
   "metadata": {},
   "source": [
    "Bir liste oluşturmak için, köşeli parantezler arasında, virgüllerle ayrılmış ifadeler sıralarız;"
   ]
  },
  {
   "cell_type": "code",
   "execution_count": 4,
   "metadata": {},
   "outputs": [
    {
     "name": "stdout",
     "output_type": "stream",
     "text": [
      "<class 'list'>\n",
      "[0, 1, 2, 3, 4, 5, 6, 7, 8, 9]\n"
     ]
    }
   ],
   "source": [
    "ilk_listemiz_rakamlar = [0, 1, 2, 3, 4, 5, 6, 7, 8, 9]\n",
    "\n",
    "print(type(ilk_listemiz_rakamlar))\n",
    "print(ilk_listemiz_rakamlar)"
   ]
  },
  {
   "cell_type": "markdown",
   "metadata": {},
   "source": [
    "Veya boş bir liste tanımlanıp içine daha sonradan elemanlar eklenebilir."
   ]
  },
  {
   "cell_type": "code",
   "execution_count": 6,
   "metadata": {},
   "outputs": [
    {
     "name": "stdout",
     "output_type": "stream",
     "text": [
      "<class 'list'>\n",
      "[]\n"
     ]
    }
   ],
   "source": [
    "bos_bir_liste = []\n",
    "print(type(bos_bir_liste))\n",
    "print(bos_bir_liste)"
   ]
  },
  {
   "cell_type": "markdown",
   "metadata": {},
   "source": [
    "Yeni bir liste oluşturmak için **list constructor**'ı da kullanılabilir."
   ]
  },
  {
   "cell_type": "code",
   "execution_count": 5,
   "metadata": {},
   "outputs": [
    {
     "name": "stdout",
     "output_type": "stream",
     "text": [
      "[0, 1, 2, 3, 4, 5, 6, 7, 8, 9]\n"
     ]
    }
   ],
   "source": [
    "rakamlar = list((0, 1, 2, 3, 4, 5, 6, 7, 8, 9))\n",
    "print(rakamlar)"
   ]
  },
  {
   "cell_type": "code",
   "execution_count": 7,
   "metadata": {
    "scrolled": false
   },
   "outputs": [
    {
     "name": "stdout",
     "output_type": "stream",
     "text": [
      "<class 'list'>\n",
      "[]\n"
     ]
    }
   ],
   "source": [
    "bos_ikinci_liste = list()\n",
    "print(type(bos_ikinci_liste))\n",
    "print(bos_ikinci_liste)"
   ]
  },
  {
   "cell_type": "markdown",
   "metadata": {},
   "source": [
    "Listler bir ögenin birden fazla tekrarına izin verir:"
   ]
  },
  {
   "cell_type": "code",
   "execution_count": 8,
   "metadata": {},
   "outputs": [
    {
     "name": "stdout",
     "output_type": "stream",
     "text": [
      "['elma', 'armut', 'muz', 'şeftali', 'elma']\n"
     ]
    }
   ],
   "source": [
    "meyveler = ['elma', 'armut', 'muz', 'şeftali', 'elma']\n",
    "print(meyveler)"
   ]
  },
  {
   "cell_type": "markdown",
   "metadata": {},
   "source": [
    "## List Uzunluğu"
   ]
  },
  {
   "cell_type": "markdown",
   "metadata": {},
   "source": [
    "List objesinde eleman sayısına erişebilmek için **len()** fonksiyonu kullanılır."
   ]
  },
  {
   "cell_type": "code",
   "execution_count": 59,
   "metadata": {},
   "outputs": [
    {
     "name": "stdout",
     "output_type": "stream",
     "text": [
      "4\n"
     ]
    }
   ],
   "source": [
    "listem = [\"ilk 3 rakam\", 0, 1, 2]\n",
    "\n",
    "eleman_sayisi = len(listem)\n",
    "\n",
    "print(eleman_sayisi)"
   ]
  },
  {
   "cell_type": "markdown",
   "metadata": {},
   "source": [
    "## Elemanlara erişmek"
   ]
  },
  {
   "cell_type": "markdown",
   "metadata": {},
   "source": [
    "List elemanlerı sıralıdır. Index numarasıyla elemanlara erişelebilir. İlk elemanın indexi 0, ikinci elemanının indexi 1'dir..."
   ]
  },
  {
   "cell_type": "markdown",
   "metadata": {},
   "source": [
    "![title](https://raw.githubusercontent.com/ituitis-averbek18/images/master/week4_indextable.png)"
   ]
  },
  {
   "cell_type": "markdown",
   "metadata": {},
   "source": [
    "List elemanına ulaşmak için indexi köşeli parantez içerisine yazılır:"
   ]
  },
  {
   "cell_type": "code",
   "execution_count": 60,
   "metadata": {},
   "outputs": [
    {
     "name": "stdout",
     "output_type": "stream",
     "text": [
      "ilk 3 rakam\n",
      "1\n"
     ]
    }
   ],
   "source": [
    "listem = [\"ilk 3 rakam\", 0, 1, 2]\n",
    "\n",
    "print(listem[0])      # ilk elemanı çağırdık\n",
    "\n",
    "print(listem[2])      # 0 başlangıçlı sıralamayla 2. elemanı çağırdık"
   ]
  },
  {
   "cell_type": "markdown",
   "metadata": {},
   "source": [
    "Listlerde ilk elemanın pozisyonu 0 olduğu için son elemanın pozisyonuna list_uzunluğu-1 şeklinde ulaşılabilir."
   ]
  },
  {
   "cell_type": "code",
   "execution_count": 22,
   "metadata": {},
   "outputs": [
    {
     "name": "stdout",
     "output_type": "stream",
     "text": [
      "elma\n"
     ]
    }
   ],
   "source": [
    "meyveler = ['elma', 'armut', 'muz', 'şeftali', 'elma']\n",
    "print(meyveler[len(meyveler)-1])"
   ]
  },
  {
   "cell_type": "markdown",
   "metadata": {},
   "source": [
    "Eğer listenin uzunluğundan daha büyük bir index'teki elemanı çağırmak istersek program hata verir."
   ]
  },
  {
   "cell_type": "code",
   "execution_count": 11,
   "metadata": {
    "scrolled": false
   },
   "outputs": [
    {
     "ename": "IndexError",
     "evalue": "list index out of range",
     "output_type": "error",
     "traceback": [
      "\u001b[1;31m---------------------------------------------------------------------------\u001b[0m",
      "\u001b[1;31mIndexError\u001b[0m                                Traceback (most recent call last)",
      "\u001b[1;32m~\\AppData\\Local\\Temp/ipykernel_11160/2992836359.py\u001b[0m in \u001b[0;36m<module>\u001b[1;34m\u001b[0m\n\u001b[0;32m      1\u001b[0m \u001b[0mlistem\u001b[0m \u001b[1;33m=\u001b[0m \u001b[1;33m[\u001b[0m\u001b[1;34m\"ilk 3 rakam\"\u001b[0m\u001b[1;33m,\u001b[0m \u001b[1;36m0\u001b[0m\u001b[1;33m,\u001b[0m \u001b[1;36m1\u001b[0m\u001b[1;33m,\u001b[0m \u001b[1;36m2\u001b[0m\u001b[1;33m]\u001b[0m\u001b[1;33m\u001b[0m\u001b[1;33m\u001b[0m\u001b[0m\n\u001b[1;32m----> 2\u001b[1;33m \u001b[0mprint\u001b[0m\u001b[1;33m(\u001b[0m\u001b[0mlistem\u001b[0m\u001b[1;33m[\u001b[0m\u001b[1;36m5\u001b[0m\u001b[1;33m]\u001b[0m\u001b[1;33m)\u001b[0m\u001b[1;33m\u001b[0m\u001b[1;33m\u001b[0m\u001b[0m\n\u001b[0m",
      "\u001b[1;31mIndexError\u001b[0m: list index out of range"
     ]
    }
   ],
   "source": [
    "listem = [\"ilk 3 rakam\", 0, 1, 2]\n",
    "print(listem[5])"
   ]
  },
  {
   "cell_type": "markdown",
   "metadata": {},
   "source": [
    "Negatif indexlemede listenin sonundan başlanır. -1 indexi son elemanı işaret eder."
   ]
  },
  {
   "cell_type": "code",
   "execution_count": 12,
   "metadata": {},
   "outputs": [
    {
     "name": "stdout",
     "output_type": "stream",
     "text": [
      "2\n",
      "1\n"
     ]
    }
   ],
   "source": [
    "listem = [\"ilk 3 rakam\", 0, 1, 2]\n",
    "\n",
    "print(listem[-1])      # ilk elemanı çağırdık\n",
    "\n",
    "print(listem[-2])  "
   ]
  },
  {
   "cell_type": "markdown",
   "metadata": {},
   "source": [
    "Bir listin belirli bir aralığını dönmek için köşeli parantez içine başlangıç ve bitiş pozisyonlarını noktalı virgülle ayırarak yazabilirsiniz(başlangıç pozisyonu dahil, bitiş poziyonu dahil değil)."
   ]
  },
  {
   "cell_type": "code",
   "execution_count": 14,
   "metadata": {
    "scrolled": true
   },
   "outputs": [
    {
     "name": "stdout",
     "output_type": "stream",
     "text": [
      "[0, 1, 2, 3, 4, 5, 6]\n",
      "[1, 2, 3, 4]\n",
      "[3, 4, 5, 6]\n",
      "[0, 1, 2, 3, 4, 5, 6]\n"
     ]
    }
   ],
   "source": [
    "listem = [0, 1, 2, 3, 4, 5, 6]\n",
    "print(listem)\n",
    "\n",
    "liste_parca = listem[1:5]  # listin belirli bir bölümünü görüyoruz (1 indexli eleman dahil, 5 indexli eleman değil)\n",
    "print(liste_parca)\n",
    "\n",
    "print(listem[3:]) #3 indexli eleman dahil olmak üzere listin sonuna kadar\n",
    "\n",
    "print(listem[:7]) #ilk elemandan 7 indexli elemana kadar kadar (7 dahil değil)"
   ]
  },
  {
   "cell_type": "markdown",
   "metadata": {},
   "source": [
    "Negatif index kullanarak da belirli bir aralık dönülebilir"
   ]
  },
  {
   "cell_type": "code",
   "execution_count": 15,
   "metadata": {
    "scrolled": true
   },
   "outputs": [
    {
     "name": "stdout",
     "output_type": "stream",
     "text": [
      "[0, 1, 2, 3]\n"
     ]
    }
   ],
   "source": [
    "print(listem[-7:-3])#son elemanın indexi -1\n",
    "               #-7 dahil, -3 değil"
   ]
  },
  {
   "cell_type": "markdown",
   "metadata": {},
   "source": [
    "**in** anahtar kelimesi sayesinde bir elemanın list içinde olup olmadığını kontrol edebiliriz."
   ]
  },
  {
   "cell_type": "code",
   "execution_count": 16,
   "metadata": {
    "scrolled": true
   },
   "outputs": [
    {
     "name": "stdout",
     "output_type": "stream",
     "text": [
      "True\n"
     ]
    }
   ],
   "source": [
    "meyveler = ['elma', 'armut', 'muz', 'şeftali', 'elma']\n",
    "print('elma' in meyveler)"
   ]
  },
  {
   "cell_type": "markdown",
   "metadata": {},
   "source": [
    "**if** ve **in** yapılarını birlikte kullanabiliriz."
   ]
  },
  {
   "cell_type": "code",
   "execution_count": 64,
   "metadata": {},
   "outputs": [
    {
     "name": "stdout",
     "output_type": "stream",
     "text": [
      "Listemde 1 elemanı vardır!\n"
     ]
    }
   ],
   "source": [
    "listem = [\"ilk 3 rakam\", 0, 1, 2]\n",
    "aranan_eleman = 1\n",
    "\n",
    "if aranan_eleman in listem:\n",
    "    print(\"Listemde\", aranan_eleman, \"elemanı vardır!\")\n",
    "else:\n",
    "    print(\"Maalesef listemde\", aranan_eleman, \"elemanı bulunmamaktadır!\")"
   ]
  },
  {
   "cell_type": "markdown",
   "metadata": {},
   "source": [
    "Belirli bir elemanın indexini bulmak içinse list.index(eleman) metodu kullanılır;"
   ]
  },
  {
   "cell_type": "code",
   "execution_count": 30,
   "metadata": {},
   "outputs": [
    {
     "name": "stdout",
     "output_type": "stream",
     "text": [
      "3 0\n"
     ]
    }
   ],
   "source": [
    "listem = [\"ilk 3 rakam\", 0, 1, 2]\n",
    "\n",
    "ikinin_indexi = listem.index(2)\n",
    "stringin_indexi = listem.index(\"ilk 3 rakam\")\n",
    "\n",
    "print(ikinin_indexi, stringin_indexi)"
   ]
  },
  {
   "cell_type": "markdown",
   "metadata": {},
   "source": [
    "## Listeye Eleman Eklemek"
   ]
  },
  {
   "cell_type": "markdown",
   "metadata": {},
   "source": [
    "### append()"
   ]
  },
  {
   "cell_type": "markdown",
   "metadata": {},
   "source": [
    "Listelere eleman eklemek için append metodu kullanılır. Kullanımı list.append(eleman) şeklindedir."
   ]
  },
  {
   "cell_type": "code",
   "execution_count": 24,
   "metadata": {},
   "outputs": [
    {
     "name": "stdout",
     "output_type": "stream",
     "text": [
      "[2, 3, 4]\n",
      "[2, 3, 4, 1]\n"
     ]
    }
   ],
   "source": [
    "liste = [2, 3, 4]\n",
    "print(liste)\n",
    "\n",
    "liste.append(1)\n",
    "print(liste)"
   ]
  },
  {
   "cell_type": "markdown",
   "metadata": {},
   "source": [
    "Append tek seferde ancak tek eleman ekleyebilir. Ancak elemanın tipi önemli değildir."
   ]
  },
  {
   "cell_type": "code",
   "execution_count": 17,
   "metadata": {},
   "outputs": [
    {
     "name": "stdout",
     "output_type": "stream",
     "text": [
      "[]\n"
     ]
    },
    {
     "ename": "TypeError",
     "evalue": "append() takes exactly one argument (2 given)",
     "output_type": "error",
     "traceback": [
      "\u001b[1;31m---------------------------------------------------------------------------\u001b[0m",
      "\u001b[1;31mTypeError\u001b[0m                                 Traceback (most recent call last)",
      "\u001b[1;32m<ipython-input-17-4f5280b7389a>\u001b[0m in \u001b[0;36m<module>\u001b[1;34m\u001b[0m\n\u001b[0;32m      2\u001b[0m \u001b[0mprint\u001b[0m\u001b[1;33m(\u001b[0m\u001b[0mbos_bir_liste\u001b[0m\u001b[1;33m)\u001b[0m\u001b[1;33m\u001b[0m\u001b[1;33m\u001b[0m\u001b[0m\n\u001b[0;32m      3\u001b[0m \u001b[1;33m\u001b[0m\u001b[0m\n\u001b[1;32m----> 4\u001b[1;33m \u001b[0mbos_bir_liste\u001b[0m\u001b[1;33m.\u001b[0m\u001b[0mappend\u001b[0m\u001b[1;33m(\u001b[0m\u001b[1;36m1\u001b[0m\u001b[1;33m,\u001b[0m \u001b[1;36m2\u001b[0m\u001b[1;33m)\u001b[0m              \u001b[1;31m# burada iki eleman eklemeye çalışıp virgülle ayrıdık\u001b[0m\u001b[1;33m\u001b[0m\u001b[1;33m\u001b[0m\u001b[0m\n\u001b[0m\u001b[0;32m      5\u001b[0m \u001b[0mprint\u001b[0m\u001b[1;33m(\u001b[0m\u001b[0mbos_bir_liste\u001b[0m\u001b[1;33m)\u001b[0m\u001b[1;33m\u001b[0m\u001b[1;33m\u001b[0m\u001b[0m\n",
      "\u001b[1;31mTypeError\u001b[0m: append() takes exactly one argument (2 given)"
     ]
    }
   ],
   "source": [
    "bos_bir_liste = []\n",
    "print(bos_bir_liste)\n",
    "\n",
    "bos_bir_liste.append(1, 2)              # burada iki eleman eklemeye çalışıp virgülle ayrıdık\n",
    "print(bos_bir_liste)"
   ]
  },
  {
   "cell_type": "code",
   "execution_count": 18,
   "metadata": {},
   "outputs": [
    {
     "name": "stdout",
     "output_type": "stream",
     "text": [
      "[]\n",
      "[[1, 2]]\n",
      "[[1, 2], 6]\n",
      "[[1, 2], 6, 'Farklı veri tipleri tek listede bulunabilir ispatı']\n"
     ]
    }
   ],
   "source": [
    "bos_bir_liste = []\n",
    "print(bos_bir_liste)\n",
    "\n",
    "bos_bir_liste.append([1,2])    # burada tek bir sayılar listesi ekledik\n",
    "print(bos_bir_liste)   \n",
    "\n",
    "bos_bir_liste.append(6)         # burada tek bir sayı ekledik\n",
    "print(bos_bir_liste)\n",
    "\n",
    "# tek bir string eklemeye çalışalım\n",
    "bos_bir_liste.append(\"Farklı veri tipleri tek listede bulunabilir ispatı\")         \n",
    "print(bos_bir_liste)"
   ]
  },
  {
   "cell_type": "markdown",
   "metadata": {},
   "source": [
    "Örnekte görüldüğü gibi farklı veri tiplerine sahip ögeler tek bir listede toplanabildi. Bunun önemini tuple veri tipini görünce daha iyi anlayacağız."
   ]
  },
  {
   "cell_type": "markdown",
   "metadata": {},
   "source": [
    "### insert()"
   ]
  },
  {
   "cell_type": "markdown",
   "metadata": {},
   "source": [
    "Python'da bir listenin spesifik bir konumuna bir eleman eklenmek istendiğinde list.insert(konum_indexi, eleman) şeklinde kullanılır."
   ]
  },
  {
   "cell_type": "code",
   "execution_count": 16,
   "metadata": {},
   "outputs": [
    {
     "name": "stdout",
     "output_type": "stream",
     "text": [
      "[1, 2, 0, 3, 4, 5]\n"
     ]
    }
   ],
   "source": [
    "liste = [1, 2, 3, 4, 5]\n",
    "liste.insert(2, 0)\n",
    "print(liste)"
   ]
  },
  {
   "cell_type": "markdown",
   "metadata": {},
   "source": [
    "Eklenecek index listenin sınırları dışına çıkıyorsa Python, elemanı otomatik olarak listenin sonuna ekler. (append())"
   ]
  },
  {
   "cell_type": "code",
   "execution_count": 22,
   "metadata": {
    "scrolled": false
   },
   "outputs": [
    {
     "name": "stdout",
     "output_type": "stream",
     "text": [
      "[1, 2, 3, 4, 5, 0]\n"
     ]
    }
   ],
   "source": [
    "liste = [1, 2, 3, 4, 5]\n",
    "liste.insert(78, 0)\n",
    "print(liste)"
   ]
  },
  {
   "cell_type": "markdown",
   "metadata": {},
   "source": [
    "### extend()"
   ]
  },
  {
   "cell_type": "markdown",
   "metadata": {},
   "source": [
    "Başka bir liste veya objedeki elemanları elinizdeki listeye eklemek için kullanılır."
   ]
  },
  {
   "cell_type": "code",
   "execution_count": 26,
   "metadata": {},
   "outputs": [
    {
     "name": "stdout",
     "output_type": "stream",
     "text": [
      "[4, 5, 6, 7]\n",
      "[4, 5, 6, 7, 0, 1, 2, 3]\n",
      "[4, 5, 6, 7, 0, 1, 2, 3, 'a', 'b', 'c']\n"
     ]
    }
   ],
   "source": [
    "bir_list = [0, 1, 2, 3]\n",
    "bir_tuple = ('a', 'b', 'c')\n",
    "\n",
    "listem = [4, 5, 6, 7]\n",
    "print(listem)\n",
    "\n",
    "listem.extend(bir_list) #bir_list elemanları sırasıyla listem'in sonuna eklendi\n",
    "print(listem)\n",
    "\n",
    "listem.extend(bir_tuple) #bir_tuple elemanları sırasıyla listem'in sonuna eklendi\n",
    "print(listem)"
   ]
  },
  {
   "cell_type": "markdown",
   "metadata": {},
   "source": [
    "## Listeyi Değiştirmek"
   ]
  },
  {
   "cell_type": "markdown",
   "metadata": {},
   "source": [
    "Listede belirli bir indexteki elemanı değiştirmek için basitçe o indexe yeni eleman atamak yeterli olur;"
   ]
  },
  {
   "cell_type": "code",
   "execution_count": 25,
   "metadata": {},
   "outputs": [
    {
     "name": "stdout",
     "output_type": "stream",
     "text": [
      "Liste değişmeden önce:  ['ilk 3 rakam', 0, 1, 2]\n",
      "Liste değişim sonrası:  [3, 0, 1, 2]\n"
     ]
    }
   ],
   "source": [
    "listem = [\"ilk 3 rakam\", 0, 1, 2]\n",
    "print(\"Liste değişmeden önce: \", listem)\n",
    "\n",
    "listem[0] = 3\n",
    "print(\"Liste değişim sonrası: \", listem)"
   ]
  },
  {
   "cell_type": "markdown",
   "metadata": {},
   "source": [
    "Listdeki belirli bir aralığı değiştirmek için yeni elemanları içeren bir list oluşturursunuz ve onu değiştrimek istediğiniz aralığa atarsınız. list[n:k] = [new_elements] -> Bu durumda belirlenen aralık yerine(n indexli eleman dahil olacak, k indexli eleman dahil olmayacak şekilde) yeni elemanlar yazılır."
   ]
  },
  {
   "cell_type": "code",
   "execution_count": 29,
   "metadata": {
    "scrolled": true
   },
   "outputs": [
    {
     "name": "stdout",
     "output_type": "stream",
     "text": [
      "[0, 1, 2, 3, 4, 5, 6, 7, 8, 9]\n",
      "[0, 10, 11, 3, 4, 5, 6, 7, 8, 9]\n",
      "[0, 10, 11, 3, 12, 13, 5, 6, 7, 8, 9]\n",
      "[0, 10, 11, 3, 12, 13, 14, 15, 8, 9]\n"
     ]
    }
   ],
   "source": [
    "rakamlar = [0, 1, 2, 3, 4, 5, 6, 7, 8, 9]\n",
    "print(rakamlar)\n",
    "\n",
    "rakamlar[1:3] = [10, 11] #bu durumda eklenen eleman sayısı değiştirilen eleman sayısıyla aynıdır\n",
    "print(rakamlar)\n",
    "\n",
    "rakamlar[4:5] = [12, 13] #bu durumda eklenen eleman sayısı değiştirilen eleman sayısından fazladır\n",
    "                         #list genişletilmiştir\n",
    "print(rakamlar)\n",
    "\n",
    "rakamlar[6:9] = [14, 15] #bu durumda eklenen eleman sayısı değiştirilen eleman sayısından azdır\n",
    "                         #list küçültülmüştür\n",
    "print(rakamlar)"
   ]
  },
  {
   "cell_type": "markdown",
   "metadata": {},
   "source": [
    "## List Elemanlarını Silmek"
   ]
  },
  {
   "cell_type": "markdown",
   "metadata": {},
   "source": [
    "### pop()"
   ]
  },
  {
   "cell_type": "markdown",
   "metadata": {},
   "source": [
    "Python'da bir listeden eleman silmek için liste.pop(silinecek_elemanın_indexi) metodu kullanılır. Eğer index belirtilmezse python listenin sonundaki elemanı siler."
   ]
  },
  {
   "cell_type": "code",
   "execution_count": 30,
   "metadata": {
    "scrolled": true
   },
   "outputs": [
    {
     "name": "stdout",
     "output_type": "stream",
     "text": [
      "[1, 2, 3, 4, 5]\n",
      "[1, 2, 3, 4]\n",
      "[1, 2, 4]\n"
     ]
    }
   ],
   "source": [
    "liste = [1, 2, 3, 4, 5]\n",
    "print(liste)\n",
    "\n",
    "liste.pop()\n",
    "print(liste)\n",
    "\n",
    "liste.pop(2)\n",
    "print(liste)"
   ]
  },
  {
   "cell_type": "markdown",
   "metadata": {},
   "source": [
    "### remove()"
   ]
  },
  {
   "cell_type": "markdown",
   "metadata": {},
   "source": [
    "Python'da listeden spesifik olarak bir elemanı çıkarmak için list.remove(eleman) şeklinde kullanılır."
   ]
  },
  {
   "cell_type": "code",
   "execution_count": 12,
   "metadata": {},
   "outputs": [
    {
     "name": "stdout",
     "output_type": "stream",
     "text": [
      "[1, 3, 4, 5]\n",
      "[1, 3, 4]\n"
     ]
    }
   ],
   "source": [
    "liste = [1, 2, 3, 4, 5]\n",
    "liste.remove(2)\n",
    "print(liste)\n",
    "\n",
    "liste.remove(5)\n",
    "print(liste)"
   ]
  },
  {
   "cell_type": "markdown",
   "metadata": {},
   "source": [
    "Aranacak eleman listede yoksa ValueError alınır."
   ]
  },
  {
   "cell_type": "code",
   "execution_count": 22,
   "metadata": {},
   "outputs": [
    {
     "ename": "ValueError",
     "evalue": "list.remove(x): x not in list",
     "output_type": "error",
     "traceback": [
      "\u001b[1;31m---------------------------------------------------------------------------\u001b[0m",
      "\u001b[1;31mValueError\u001b[0m                                Traceback (most recent call last)",
      "\u001b[1;32m~\\AppData\\Local\\Temp/ipykernel_15632/779505500.py\u001b[0m in \u001b[0;36m<module>\u001b[1;34m\u001b[0m\n\u001b[0;32m      1\u001b[0m \u001b[0mliste\u001b[0m \u001b[1;33m=\u001b[0m \u001b[1;33m[\u001b[0m\u001b[1;36m1\u001b[0m\u001b[1;33m,\u001b[0m \u001b[1;36m2\u001b[0m\u001b[1;33m,\u001b[0m \u001b[1;36m3\u001b[0m\u001b[1;33m,\u001b[0m \u001b[1;36m4\u001b[0m\u001b[1;33m,\u001b[0m \u001b[1;36m5\u001b[0m\u001b[1;33m]\u001b[0m\u001b[1;33m\u001b[0m\u001b[1;33m\u001b[0m\u001b[0m\n\u001b[1;32m----> 2\u001b[1;33m \u001b[0mliste\u001b[0m\u001b[1;33m.\u001b[0m\u001b[0mremove\u001b[0m\u001b[1;33m(\u001b[0m\u001b[1;36m7\u001b[0m\u001b[1;33m)\u001b[0m\u001b[1;33m\u001b[0m\u001b[1;33m\u001b[0m\u001b[0m\n\u001b[0m\u001b[0;32m      3\u001b[0m \u001b[0mprint\u001b[0m\u001b[1;33m(\u001b[0m\u001b[0mliste\u001b[0m\u001b[1;33m)\u001b[0m\u001b[1;33m\u001b[0m\u001b[1;33m\u001b[0m\u001b[0m\n",
      "\u001b[1;31mValueError\u001b[0m: list.remove(x): x not in list"
     ]
    }
   ],
   "source": [
    "liste = [1, 2, 3, 4, 5]\n",
    "liste.remove(7)\n",
    "print(liste)\n"
   ]
  },
  {
   "cell_type": "markdown",
   "metadata": {},
   "source": [
    "### del[]"
   ]
  },
  {
   "cell_type": "markdown",
   "metadata": {},
   "source": [
    "Python'da bir listeden tek eleman silmek yerine aralık silmek için kullanılır. Tek eleman da silebilir. Kullanımı:\n",
    "\n",
    "del liste[başlangıç_indexi : bitiş_indexi + 1] şeklindedir."
   ]
  },
  {
   "cell_type": "code",
   "execution_count": 31,
   "metadata": {},
   "outputs": [
    {
     "name": "stdout",
     "output_type": "stream",
     "text": [
      "[1, 2, 3, 4, 5]\n",
      "[1, 4, 5]\n",
      "[1, 4]\n"
     ]
    }
   ],
   "source": [
    "liste = [1, 2, 3, 4, 5]\n",
    "print(liste)\n",
    "\n",
    "del liste[1: 3]\n",
    "print(liste)\n",
    "\n",
    "del liste[2]\n",
    "print(liste)"
   ]
  },
  {
   "cell_type": "markdown",
   "metadata": {},
   "source": [
    "**del[]** metodu bir listi tamamen silmek için de kullanılabilir. Burada dikkat edilmesi gereken, bu metod sadece listin içini boşaltmaz, listin kendisini siler."
   ]
  },
  {
   "cell_type": "code",
   "execution_count": 33,
   "metadata": {
    "scrolled": false
   },
   "outputs": [
    {
     "name": "stdout",
     "output_type": "stream",
     "text": [
      "[1, 2, 3, 4, 5]\n"
     ]
    },
    {
     "ename": "NameError",
     "evalue": "name 'liste' is not defined",
     "output_type": "error",
     "traceback": [
      "\u001b[1;31m---------------------------------------------------------------------------\u001b[0m",
      "\u001b[1;31mNameError\u001b[0m                                 Traceback (most recent call last)",
      "\u001b[1;32m~\\AppData\\Local\\Temp/ipykernel_11160/1571926766.py\u001b[0m in \u001b[0;36m<module>\u001b[1;34m\u001b[0m\n\u001b[0;32m      2\u001b[0m \u001b[0mprint\u001b[0m\u001b[1;33m(\u001b[0m\u001b[0mliste\u001b[0m\u001b[1;33m)\u001b[0m\u001b[1;33m\u001b[0m\u001b[1;33m\u001b[0m\u001b[0m\n\u001b[0;32m      3\u001b[0m \u001b[1;32mdel\u001b[0m \u001b[0mliste\u001b[0m\u001b[1;33m\u001b[0m\u001b[1;33m\u001b[0m\u001b[0m\n\u001b[1;32m----> 4\u001b[1;33m \u001b[0mprint\u001b[0m\u001b[1;33m(\u001b[0m\u001b[0mliste\u001b[0m\u001b[1;33m)\u001b[0m\u001b[1;33m\u001b[0m\u001b[1;33m\u001b[0m\u001b[0m\n\u001b[0m",
      "\u001b[1;31mNameError\u001b[0m: name 'liste' is not defined"
     ]
    }
   ],
   "source": [
    "liste = [1, 2, 3, 4, 5]\n",
    "print(liste)\n",
    "del liste\n",
    "print(liste)"
   ]
  },
  {
   "cell_type": "markdown",
   "metadata": {},
   "source": [
    "### clear()"
   ]
  },
  {
   "cell_type": "markdown",
   "metadata": {},
   "source": [
    "**clear()** fonksiyonu listin içini boşaltmak için kullanılır."
   ]
  },
  {
   "cell_type": "code",
   "execution_count": 34,
   "metadata": {},
   "outputs": [
    {
     "name": "stdout",
     "output_type": "stream",
     "text": [
      "[1, 2, 3, 4, 5]\n",
      "[]\n"
     ]
    }
   ],
   "source": [
    "liste = [1, 2, 3, 4, 5]\n",
    "print(liste)\n",
    "liste.clear()\n",
    "print(liste)"
   ]
  },
  {
   "cell_type": "markdown",
   "metadata": {},
   "source": [
    "## Diğer Liste Metotları"
   ]
  },
  {
   "cell_type": "markdown",
   "metadata": {},
   "source": [
    "### sort()"
   ]
  },
  {
   "cell_type": "markdown",
   "metadata": {},
   "source": [
    "Python'da bir listeyi sıralamak için liste.sort() metodu kullanılır."
   ]
  },
  {
   "cell_type": "code",
   "execution_count": 2,
   "metadata": {},
   "outputs": [
    {
     "name": "stdout",
     "output_type": "stream",
     "text": [
      "[0, 1, 2, 3, 4, 5, 6, 7, 8, 9]\n"
     ]
    }
   ],
   "source": [
    "liste = [1, 4, 6, 7, 8, 2, 9, 0, 3, 5]\n",
    "liste.sort()\n",
    "print(liste)"
   ]
  },
  {
   "cell_type": "markdown",
   "metadata": {},
   "source": [
    "### reverse()"
   ]
  },
  {
   "cell_type": "markdown",
   "metadata": {},
   "source": [
    "Python'da bir listeyi sırasının tersine çevirmek için list.reverse() metodu kullanılır."
   ]
  },
  {
   "cell_type": "code",
   "execution_count": 1,
   "metadata": {
    "scrolled": true
   },
   "outputs": [
    {
     "name": "stdout",
     "output_type": "stream",
     "text": [
      "[5, 4, 3, 2, 1]\n"
     ]
    }
   ],
   "source": [
    "liste = [1, 2, 3, 4, 5]\n",
    "liste.reverse()\n",
    "print(liste)"
   ]
  },
  {
   "cell_type": "markdown",
   "metadata": {},
   "source": [
    "## Listelerde Döngüler"
   ]
  },
  {
   "cell_type": "markdown",
   "metadata": {},
   "source": [
    "Döngülerin listelerde eleman arama veya belirli bir eleman aralığı üzerinde işlem yapma gibi çeşitli işlevleri vardır.\n",
    "For-in yapısı, liste elemanları üzerinde gezinmek için en basit yollardan biridir;"
   ]
  },
  {
   "cell_type": "code",
   "execution_count": 29,
   "metadata": {
    "scrolled": false
   },
   "outputs": [
    {
     "name": "stdout",
     "output_type": "stream",
     "text": [
      "ilk 3 rakam\n",
      "0\n",
      "1\n",
      "2\n"
     ]
    }
   ],
   "source": [
    "listem = [\"ilk 3 rakam\", 0, 1, 2]\n",
    "\n",
    "for eleman in listem:         # sırayla listedeki tüm elemanlar üzerinde gezinir \n",
    "    print(eleman)             # ve her birini tek tek bastırır"
   ]
  },
  {
   "cell_type": "markdown",
   "metadata": {},
   "source": [
    "Bir listin içinde index numaralarından faydlanarak da gezebilirsiniz."
   ]
  },
  {
   "cell_type": "code",
   "execution_count": 65,
   "metadata": {
    "scrolled": true
   },
   "outputs": [
    {
     "name": "stdout",
     "output_type": "stream",
     "text": [
      "1\n",
      "2\n",
      "3\n",
      "4\n",
      "5\n",
      "6\n",
      "7\n",
      "8\n",
      "9\n"
     ]
    }
   ],
   "source": [
    "liste = [1, 2, 3, 4, 5, 6, 7, 8, 9]\n",
    "\n",
    "for i in range(len(liste)):        # i, 0 dan listenin uzunluğuna kadar gidecek olan sayı\n",
    "    print(liste[i])                "
   ]
  },
  {
   "cell_type": "code",
   "execution_count": 37,
   "metadata": {
    "scrolled": false
   },
   "outputs": [
    {
     "name": "stdout",
     "output_type": "stream",
     "text": [
      "1\n",
      "2\n",
      "3\n",
      "4\n",
      "5\n",
      "6\n",
      "7\n",
      "8\n",
      "9\n"
     ]
    }
   ],
   "source": [
    "liste = [1, 2, 3, 4, 5, 6, 7, 8, 9]\n",
    "i = 0\n",
    "while i < len(liste):\n",
    "    print(liste[i])\n",
    "    i += 1"
   ]
  },
  {
   "cell_type": "markdown",
   "metadata": {},
   "source": [
    "## List Comprehension"
   ]
  },
  {
   "cell_type": "markdown",
   "metadata": {},
   "source": [
    "List içinde kolay bir şekilde gezmek ve elemanlar üstünde değişiklik yapmak için:"
   ]
  },
  {
   "cell_type": "code",
   "execution_count": 23,
   "metadata": {
    "scrolled": true
   },
   "outputs": [
    {
     "name": "stdout",
     "output_type": "stream",
     "text": [
      "1 2 3 4 5\n",
      "[1, 2, 3, 4, 5]\n"
     ]
    }
   ],
   "source": [
    "ilk_yontem = [int(i) for i in input().split()]  # alınan veri tipinin integer olduğu varsayılmıştır\n",
    "print(ilk_yontem)"
   ]
  },
  {
   "cell_type": "code",
   "execution_count": 54,
   "metadata": {
    "scrolled": true
   },
   "outputs": [
    {
     "name": "stdout",
     "output_type": "stream",
     "text": [
      "['appleapple', 'bananabanana', 'cherrycherry']\n"
     ]
    }
   ],
   "source": [
    "thislist = [\"apple\", \"banana\", \"cherry\"]\n",
    "list2 = [x*2 for x in thislist]\n",
    "print(list2)"
   ]
  },
  {
   "cell_type": "code",
   "execution_count": 57,
   "metadata": {},
   "outputs": [
    {
     "data": {
      "text/plain": [
       "[1, 4, 9, 16]"
      ]
     },
     "execution_count": 57,
     "metadata": {},
     "output_type": "execute_result"
    }
   ],
   "source": [
    "x = [1, 2, 3, 4]\n",
    "[a**2 for a in x]"
   ]
  },
  {
   "cell_type": "markdown",
   "metadata": {},
   "source": [
    "# Tuplelar"
   ]
  },
  {
   "cell_type": "markdown",
   "metadata": {},
   "source": [
    "Tuplelar birden fazla veri türünü bir arada bulundurabilen virgüllerle veya parantez ile gösterilen immutable(değiştirilemeyen) veri tipleridir. Listelerden farkı __immutable(değiştirilemez)__ olmalarıdır."
   ]
  },
  {
   "cell_type": "markdown",
   "metadata": {},
   "source": [
    "Tuplelarda, list bölümündeki list elemanlarını değiştirmek, silmek, liste eleman eklemek gibi operasyonların **hiçbiri yapılamaz**."
   ]
  },
  {
   "cell_type": "markdown",
   "metadata": {},
   "source": [
    "Tuple elemanları da listler gibi sıralı olduğu için aynı elemandan birden fazla bulundurabilir."
   ]
  },
  {
   "cell_type": "markdown",
   "metadata": {},
   "source": [
    "Tuplelar listelerin aksine normal parantez ile gösterilirler.\n",
    "Bir tuple oluşturmak için, parantezler arasında, virgüllerle ayrılmış ifadeler sıralarız;"
   ]
  },
  {
   "cell_type": "code",
   "execution_count": 2,
   "metadata": {},
   "outputs": [
    {
     "name": "stdout",
     "output_type": "stream",
     "text": [
      "<class 'tuple'>\n"
     ]
    }
   ],
   "source": [
    "tuple1 = (\"Serra\", \"Zafer\", \"Hüseyin\")\n",
    "print(type(tuple1))"
   ]
  },
  {
   "cell_type": "markdown",
   "metadata": {},
   "source": [
    "Veya boş bir tuple tanımlanabilir. Bunun iki yolu vardır;"
   ]
  },
  {
   "cell_type": "code",
   "execution_count": 3,
   "metadata": {},
   "outputs": [
    {
     "name": "stdout",
     "output_type": "stream",
     "text": [
      "<class 'tuple'>\n"
     ]
    }
   ],
   "source": [
    "bos_bir_tuple = tuple()\n",
    "print(type(bos_bir_tuple))"
   ]
  },
  {
   "cell_type": "markdown",
   "metadata": {},
   "source": [
    "Veya;"
   ]
  },
  {
   "cell_type": "code",
   "execution_count": 5,
   "metadata": {},
   "outputs": [
    {
     "name": "stdout",
     "output_type": "stream",
     "text": [
      "<class 'tuple'>\n",
      "()\n"
     ]
    }
   ],
   "source": [
    "bos_ikinci_tuple = ()\n",
    "print(type(bos_ikinci_tuple))\n",
    "print(bos_ikinci_tuple)"
   ]
  },
  {
   "cell_type": "markdown",
   "metadata": {},
   "source": [
    "Tek elemanlı bir tuple tanımlanırken dikkatli olunmalıdır. Örneğin:"
   ]
  },
  {
   "cell_type": "code",
   "execution_count": 42,
   "metadata": {},
   "outputs": [
    {
     "name": "stdout",
     "output_type": "stream",
     "text": [
      "<class 'str'>\n"
     ]
    }
   ],
   "source": [
    "tek_elemanlı_tuple = (\"Eleman1\")\n",
    "\n",
    "print(type(tek_elemanlı_tuple))"
   ]
  },
  {
   "cell_type": "markdown",
   "metadata": {},
   "source": [
    "Bu durumun çözümü de elemandan sonra virgül konmasıdır:"
   ]
  },
  {
   "cell_type": "code",
   "execution_count": 13,
   "metadata": {},
   "outputs": [
    {
     "name": "stdout",
     "output_type": "stream",
     "text": [
      "<class 'tuple'>\n"
     ]
    }
   ],
   "source": [
    "tek_elemanlı_tuple = (\"Eleman1\",)\n",
    "\n",
    "print(type(tek_elemanlı_tuple))"
   ]
  },
  {
   "cell_type": "markdown",
   "metadata": {},
   "source": [
    "## Tuple Elemanlarına Erişmek"
   ]
  },
  {
   "cell_type": "markdown",
   "metadata": {},
   "source": [
    "**Tuple elemanlarına erişmenin mantığı listelerdeki mantığın birebir aynısıdır.**"
   ]
  },
  {
   "cell_type": "code",
   "execution_count": 6,
   "metadata": {},
   "outputs": [
    {
     "name": "stdout",
     "output_type": "stream",
     "text": [
      "Mersin\n",
      "Mersin\n"
     ]
    }
   ],
   "source": [
    "sehir_listesi = [\"Adana\",\"Ankara\",\"Mersin\",\"İstanbul\"]\n",
    "print(sehir_listesi[2])\n",
    "\n",
    "sehir_tuple = (\"Adana\",\"Ankara\",\"Mersin\",\"İstanbul\")\n",
    "print(sehir_tuple[2])"
   ]
  },
  {
   "cell_type": "markdown",
   "metadata": {},
   "source": [
    "Belirli bir elemanın indexine ulaşmak için tuple.index(eleman) metodu kullanılır;"
   ]
  },
  {
   "cell_type": "code",
   "execution_count": 44,
   "metadata": {},
   "outputs": [
    {
     "name": "stdout",
     "output_type": "stream",
     "text": [
      "2\n"
     ]
    }
   ],
   "source": [
    "sehir_tuple = (\"Adana\",\"Ankara\",\"Mersin\",\"İstanbul\")\n",
    "print(sehir_tuple.index(\"Mersin\"))\n"
   ]
  },
  {
   "cell_type": "markdown",
   "metadata": {},
   "source": [
    "Tuplelara sonradan eleman eklenemez ve tuplelardaki elemanlar değiştirilemez."
   ]
  },
  {
   "cell_type": "markdown",
   "metadata": {},
   "source": [
    "**Ancak tuplelar silinebilirler:**"
   ]
  },
  {
   "cell_type": "code",
   "execution_count": 42,
   "metadata": {
    "scrolled": false
   },
   "outputs": [
    {
     "ename": "NameError",
     "evalue": "name 'sehir_tuple' is not defined",
     "output_type": "error",
     "traceback": [
      "\u001b[1;31m---------------------------------------------------------------------------\u001b[0m",
      "\u001b[1;31mNameError\u001b[0m                                 Traceback (most recent call last)",
      "\u001b[1;32m~\\AppData\\Local\\Temp/ipykernel_11160/2004524717.py\u001b[0m in \u001b[0;36m<module>\u001b[1;34m\u001b[0m\n\u001b[0;32m      3\u001b[0m \u001b[1;32mdel\u001b[0m \u001b[0msehir_tuple\u001b[0m\u001b[1;33m\u001b[0m\u001b[1;33m\u001b[0m\u001b[0m\n\u001b[0;32m      4\u001b[0m \u001b[1;33m\u001b[0m\u001b[0m\n\u001b[1;32m----> 5\u001b[1;33m \u001b[0mprint\u001b[0m\u001b[1;33m(\u001b[0m\u001b[0msehir_tuple\u001b[0m\u001b[1;33m)\u001b[0m\u001b[1;33m\u001b[0m\u001b[1;33m\u001b[0m\u001b[0m\n\u001b[0m",
      "\u001b[1;31mNameError\u001b[0m: name 'sehir_tuple' is not defined"
     ]
    }
   ],
   "source": [
    "sehir_tuple = (\"Adana\",\"Ankara\",\"Mersin\",\"İstanbul\")\n",
    "\n",
    "del sehir_tuple\n",
    "\n",
    "print(sehir_tuple)"
   ]
  },
  {
   "cell_type": "markdown",
   "metadata": {},
   "source": [
    "**Ve tuplelar birbirine eklenebilir:**"
   ]
  },
  {
   "cell_type": "markdown",
   "metadata": {},
   "source": [
    "Burada kastedilen şey tuplelara eleman eklenebileceği **değildir**."
   ]
  },
  {
   "cell_type": "code",
   "execution_count": 44,
   "metadata": {},
   "outputs": [
    {
     "name": "stdout",
     "output_type": "stream",
     "text": [
      "('elma', 'armut', 'şeftali', 'elma', 'kavun', 'muz')\n"
     ]
    }
   ],
   "source": [
    "meyveler1 = ('elma', 'armut', 'şeftali')\n",
    "meyveler2 = ('elma', 'kavun', 'muz')\n",
    "\n",
    "meyveler1 += meyveler2\n",
    "print(meyveler1)"
   ]
  },
  {
   "cell_type": "markdown",
   "metadata": {},
   "source": [
    "**Veya tekrarlanabilir:**"
   ]
  },
  {
   "cell_type": "code",
   "execution_count": 1,
   "metadata": {
    "scrolled": true
   },
   "outputs": [
    {
     "name": "stdout",
     "output_type": "stream",
     "text": [
      "('elma', 'armut', 'şeftali', 'elma', 'armut', 'şeftali')\n"
     ]
    }
   ],
   "source": [
    "meyveler1 = ('elma', 'armut', 'şeftali')\n",
    "meyveler2 = meyveler1 * 2\n",
    "print(meyveler2)"
   ]
  },
  {
   "cell_type": "markdown",
   "metadata": {},
   "source": [
    "Eğer tuplelar üstünde bunlar dışında bir işlem yapılmak istenirse; list halinde başka bir değişkene atandıktan sonra yapılabilir."
   ]
  },
  {
   "cell_type": "code",
   "execution_count": 45,
   "metadata": {
    "scrolled": true
   },
   "outputs": [
    {
     "name": "stdout",
     "output_type": "stream",
     "text": [
      "('elma', 'armut', 'şeftali', 'elma', 'kavun')\n",
      "('elma', 'armut', 'elma', 'kavun', 'muz')\n"
     ]
    }
   ],
   "source": [
    "meyveler = ('elma', 'armut', 'şeftali', 'elma', 'kavun')\n",
    "print(meyveler)\n",
    "\n",
    "meyveler2 = list(meyveler)\n",
    "meyveler2.append('muz')\n",
    "meyveler2.pop(2)\n",
    "\n",
    "meyveler = tuple(meyveler2)\n",
    "print(meyveler)"
   ]
  },
  {
   "cell_type": "markdown",
   "metadata": {},
   "source": [
    "Eğer tupleda bir elemanın var olup olmadığını kontrol etmek istiyorsak, __if__ ve __in__ yapılarını kullanabiliriz."
   ]
  },
  {
   "cell_type": "code",
   "execution_count": 49,
   "metadata": {},
   "outputs": [
    {
     "name": "stdout",
     "output_type": "stream",
     "text": [
      "Tupleda 1 elemanı vardır!\n"
     ]
    }
   ],
   "source": [
    "tuple1 = (\"ilk 3 rakam\", 0, 1, 2)\n",
    "aranan_eleman = 1\n",
    "\n",
    "if aranan_eleman in tuple1:\n",
    "    print(\"Tupleda\", aranan_eleman, \"elemanı vardır!\")\n",
    "else:\n",
    "    print(\"Maalesef tupleda\", aranan_eleman, \"elemanı bulunmamaktadır!\")"
   ]
  },
  {
   "cell_type": "markdown",
   "metadata": {},
   "source": [
    "## Tuplelarda Döngüler"
   ]
  },
  {
   "cell_type": "markdown",
   "metadata": {},
   "source": [
    "Listelerde olduğu gibi tuplelar da döngülerde kullanılabilir.  "
   ]
  },
  {
   "cell_type": "code",
   "execution_count": 2,
   "metadata": {
    "scrolled": true
   },
   "outputs": [
    {
     "name": "stdout",
     "output_type": "stream",
     "text": [
      "ilk 3 rakam\n",
      "0\n",
      "1\n",
      "2\n"
     ]
    }
   ],
   "source": [
    "tuple1 = (\"ilk 3 rakam\", 0, 1, 2)\n",
    "\n",
    "for eleman in tuple1:         # sırayla tupledaki tüm elemanlar üzerinde gezinir \n",
    "    print(eleman)             # ve her birini tek tek bastırır"
   ]
  },
  {
   "cell_type": "code",
   "execution_count": 46,
   "metadata": {
    "scrolled": true
   },
   "outputs": [
    {
     "name": "stdout",
     "output_type": "stream",
     "text": [
      "1\n",
      "2\n",
      "3\n",
      "4\n",
      "5\n",
      "6\n",
      "7\n",
      "8\n",
      "9\n"
     ]
    }
   ],
   "source": [
    "tuple2 = (1, 2, 3, 4, 5, 6, 7, 8, 9)\n",
    "\n",
    "for i in range(len(tuple2)):        # i, 0 dan tuple'ın uzunluğuna kadar gidecek olan sayı\n",
    "    print(tuple2[i])                "
   ]
  },
  {
   "cell_type": "code",
   "execution_count": 47,
   "metadata": {
    "scrolled": true
   },
   "outputs": [
    {
     "name": "stdout",
     "output_type": "stream",
     "text": [
      "1\n",
      "2\n",
      "3\n",
      "4\n",
      "5\n",
      "6\n",
      "7\n",
      "8\n",
      "9\n"
     ]
    }
   ],
   "source": [
    "tuple3 = (1, 2, 3, 4, 5, 6, 7, 8, 9)\n",
    "i = 0\n",
    "while i < len(tuple3):\n",
    "    print(tuple3[i])\n",
    "    i += 1"
   ]
  },
  {
   "cell_type": "markdown",
   "metadata": {},
   "source": [
    "# Setler"
   ]
  },
  {
   "cell_type": "markdown",
   "metadata": {},
   "source": [
    "Setler birden fazla veri türünü bir arada bulundurabilen, süslü parantez içindeki elemanların virgüllerle ayrılması ile gösterilen sıralı olmayan veri tipleridir. Listelerden farkı unordered(sırasız) olmalarıdır."
   ]
  },
  {
   "cell_type": "markdown",
   "metadata": {},
   "source": [
    "Setler süslü parantez ile gösterilirler.\n",
    "Bir tuple oluşturmak için, süslü parantezler arasında, virgüllerle ayrılmış ifadeler sıralarız;"
   ]
  },
  {
   "cell_type": "code",
   "execution_count": 3,
   "metadata": {},
   "outputs": [
    {
     "name": "stdout",
     "output_type": "stream",
     "text": [
      "<class 'set'>\n"
     ]
    }
   ],
   "source": [
    "set1 = {\"Ayşe\", \"Kevser\"}\n",
    "print(type(set1))"
   ]
  },
  {
   "cell_type": "markdown",
   "metadata": {},
   "source": [
    "Boş bir set tanımlanabilir."
   ]
  },
  {
   "cell_type": "code",
   "execution_count": 4,
   "metadata": {},
   "outputs": [
    {
     "name": "stdout",
     "output_type": "stream",
     "text": [
      "<class 'set'>\n"
     ]
    }
   ],
   "source": [
    "bos_bir_set = set()\n",
    "print(type(bos_bir_set))"
   ]
  },
  {
   "cell_type": "markdown",
   "metadata": {},
   "source": [
    "Eğer seti bu şekilde tanımlayacak olursanız bu set gibi süslü parantez kullanılan dictionary ile karıştırılacaktır:"
   ]
  },
  {
   "cell_type": "code",
   "execution_count": 5,
   "metadata": {
    "scrolled": false
   },
   "outputs": [
    {
     "name": "stdout",
     "output_type": "stream",
     "text": [
      "<class 'dict'>\n",
      "{}\n"
     ]
    }
   ],
   "source": [
    "bos_ikinci_set = {}\n",
    "print(type(bos_ikinci_set))\n",
    "print(bos_ikinci_set)"
   ]
  },
  {
   "cell_type": "markdown",
   "metadata": {},
   "source": [
    "Setler __unordered(sırasız)__ oldukları için elemanların hangi sırayla görüneceği belirsizdir."
   ]
  },
  {
   "cell_type": "code",
   "execution_count": 10,
   "metadata": {
    "scrolled": true
   },
   "outputs": [
    {
     "name": "stdout",
     "output_type": "stream",
     "text": [
      "{3, 'kavun', 5, 'şeftali', 'armut', 'elma'}\n"
     ]
    }
   ],
   "source": [
    "meyveler = {'elma', 'armut', 3, 5, 'şeftali', 'kavun'}\n",
    "print(meyveler)"
   ]
  },
  {
   "cell_type": "markdown",
   "metadata": {},
   "source": [
    "Setler __unordered(sırasız)__ oldukları için eleman tekrarına izin verilmez, herhangi bir elemana index numarasıyla veya anahtar kelimeyle(dictionary'de göreceğiz) ulaşılamaz."
   ]
  },
  {
   "cell_type": "code",
   "execution_count": 8,
   "metadata": {
    "scrolled": false
   },
   "outputs": [
    {
     "name": "stdout",
     "output_type": "stream",
     "text": [
      "{'şeftali', 'armut', 'elma'}\n"
     ]
    }
   ],
   "source": [
    "meyveler = {'elma', 'armut', 'şeftali', 'elma'}\n",
    "print(meyveler)"
   ]
  },
  {
   "cell_type": "markdown",
   "metadata": {},
   "source": [
    "## Set Elemanlarına Erişmek"
   ]
  },
  {
   "cell_type": "markdown",
   "metadata": {},
   "source": [
    "Sette bir elemana index numarasıyla veya anahtar kelimeyle ulaşılamaz."
   ]
  },
  {
   "cell_type": "code",
   "execution_count": 9,
   "metadata": {
    "scrolled": true
   },
   "outputs": [
    {
     "ename": "TypeError",
     "evalue": "'set' object is not subscriptable",
     "output_type": "error",
     "traceback": [
      "\u001b[1;31m---------------------------------------------------------------------------\u001b[0m",
      "\u001b[1;31mTypeError\u001b[0m                                 Traceback (most recent call last)",
      "\u001b[1;32m~\\AppData\\Local\\Temp/ipykernel_15632/1996130062.py\u001b[0m in \u001b[0;36m<module>\u001b[1;34m\u001b[0m\n\u001b[0;32m      1\u001b[0m \u001b[0mmeyveler\u001b[0m \u001b[1;33m=\u001b[0m \u001b[1;33m{\u001b[0m\u001b[1;34m'elma'\u001b[0m\u001b[1;33m,\u001b[0m \u001b[1;34m'armut'\u001b[0m\u001b[1;33m,\u001b[0m \u001b[1;34m'şeftali'\u001b[0m\u001b[1;33m,\u001b[0m \u001b[1;34m'kavun'\u001b[0m\u001b[1;33m}\u001b[0m\u001b[1;33m\u001b[0m\u001b[1;33m\u001b[0m\u001b[0m\n\u001b[1;32m----> 2\u001b[1;33m \u001b[0mprint\u001b[0m\u001b[1;33m(\u001b[0m\u001b[0mmeyveler\u001b[0m\u001b[1;33m[\u001b[0m\u001b[1;36m1\u001b[0m\u001b[1;33m]\u001b[0m\u001b[1;33m)\u001b[0m\u001b[1;33m\u001b[0m\u001b[1;33m\u001b[0m\u001b[0m\n\u001b[0m",
      "\u001b[1;31mTypeError\u001b[0m: 'set' object is not subscriptable"
     ]
    }
   ],
   "source": [
    "meyveler = {'elma', 'armut', 'şeftali', 'kavun'}\n",
    "print(meyveler[1])"
   ]
  },
  {
   "cell_type": "markdown",
   "metadata": {},
   "source": [
    "Set elemanlarına __döngüyle setin içinde gezerek__ ulaşabilirsiniz veya __if__ ve __in__ yapılarına kullanarak bir değerin set içinde olup olmadığını kontrol edebilirsiniz."
   ]
  },
  {
   "cell_type": "code",
   "execution_count": 15,
   "metadata": {
    "scrolled": true
   },
   "outputs": [
    {
     "name": "stdout",
     "output_type": "stream",
     "text": [
      "şeftali\n",
      "armut\n",
      "elma\n"
     ]
    }
   ],
   "source": [
    "meyveler = {'elma', 'armut', 'şeftali', 'elma'}\n",
    "\n",
    "for eleman in meyveler:         # sırayla setteki tüm elemanlar üzerinde gezinir \n",
    "    print(eleman)               # ve her birini tek tek bastırır"
   ]
  },
  {
   "cell_type": "code",
   "execution_count": 16,
   "metadata": {},
   "outputs": [
    {
     "name": "stdout",
     "output_type": "stream",
     "text": [
      "Muzumuz var.\n"
     ]
    }
   ],
   "source": [
    "meyveler = {'elma', 'armut', 'şeftali', 'muz'}\n",
    "print(\"Muzumuz kalmadı.\") if 'muz' not in meyveler else print(\"Muzumuz var.\")"
   ]
  },
  {
   "cell_type": "markdown",
   "metadata": {},
   "source": [
    "## Sete Eleman Eklemek"
   ]
  },
  {
   "cell_type": "markdown",
   "metadata": {},
   "source": [
    "### add()"
   ]
  },
  {
   "cell_type": "markdown",
   "metadata": {},
   "source": [
    "Sete eleman eklemek için add fonksiyonu kullanılır."
   ]
  },
  {
   "cell_type": "code",
   "execution_count": 17,
   "metadata": {},
   "outputs": [
    {
     "name": "stdout",
     "output_type": "stream",
     "text": [
      "{'Ayşe', 3, 4, '45', 'Kevser'}\n"
     ]
    }
   ],
   "source": [
    "set1 = {\"Ayşe\", 3, 4, \"Kevser\"}\n",
    "set1.add(\"45\")\n",
    "print(set1)"
   ]
  },
  {
   "cell_type": "markdown",
   "metadata": {},
   "source": [
    "### update()"
   ]
  },
  {
   "cell_type": "markdown",
   "metadata": {},
   "source": [
    "Bir sete başka bir setteki veya objedeki elemanları eklemek için kullanılır. Burada elde edilen sonuç matematikteki iki kümenin birleşimi şeklinde olur(eleman tekrarı olmadığı için)."
   ]
  },
  {
   "cell_type": "code",
   "execution_count": 19,
   "metadata": {
    "scrolled": true
   },
   "outputs": [
    {
     "name": "stdout",
     "output_type": "stream",
     "text": [
      "{'Ayşe', 1, 3, 4, 2, 5, 7, 'Kevser'}\n",
      "{'Ayşe', 1, 3, 4, 2, 5, 7, 'Hello', 'Kevser'}\n"
     ]
    }
   ],
   "source": [
    "set1 = {\"Ayşe\", 3, 4, \"Kevser\"}\n",
    "set2 = {1, 2, 7, 5}\n",
    "tuple1 = (1, 4, 'Hello')\n",
    "\n",
    "set1.update(set2)  #set1'e set2'deki elemanlar eklenir\n",
    "print(set1)\n",
    "\n",
    "set1.update(tuple1)\n",
    "print(set1)"
   ]
  },
  {
   "cell_type": "markdown",
   "metadata": {},
   "source": [
    "## Setten Eleman Çıkartmak"
   ]
  },
  {
   "cell_type": "markdown",
   "metadata": {},
   "source": [
    "### remove()"
   ]
  },
  {
   "cell_type": "markdown",
   "metadata": {},
   "source": [
    "Setten bir eleman çıkartmak için remove metodu kullanılır. Eğer çıkarılmak istenen eleman sette yoksa remove hata verir."
   ]
  },
  {
   "cell_type": "code",
   "execution_count": 2,
   "metadata": {
    "scrolled": true
   },
   "outputs": [
    {
     "name": "stdout",
     "output_type": "stream",
     "text": [
      "{'Kevser', 3, 4}\n"
     ]
    },
    {
     "ename": "KeyError",
     "evalue": "'3'",
     "output_type": "error",
     "traceback": [
      "\u001b[1;31m---------------------------------------------------------------------------\u001b[0m",
      "\u001b[1;31mKeyError\u001b[0m                                  Traceback (most recent call last)",
      "\u001b[1;32m~\\AppData\\Local\\Temp/ipykernel_9032/276455500.py\u001b[0m in \u001b[0;36m<module>\u001b[1;34m\u001b[0m\n\u001b[0;32m      4\u001b[0m \u001b[0mprint\u001b[0m\u001b[1;33m(\u001b[0m\u001b[0mset1\u001b[0m\u001b[1;33m)\u001b[0m\u001b[1;33m\u001b[0m\u001b[1;33m\u001b[0m\u001b[0m\n\u001b[0;32m      5\u001b[0m \u001b[1;33m\u001b[0m\u001b[0m\n\u001b[1;32m----> 6\u001b[1;33m \u001b[0mset1\u001b[0m\u001b[1;33m.\u001b[0m\u001b[0mremove\u001b[0m\u001b[1;33m(\u001b[0m\u001b[1;34m\"3\"\u001b[0m\u001b[1;33m)\u001b[0m      \u001b[1;31m#Burada hata verecek\u001b[0m\u001b[1;33m\u001b[0m\u001b[1;33m\u001b[0m\u001b[0m\n\u001b[0m\u001b[0;32m      7\u001b[0m \u001b[0mprint\u001b[0m\u001b[1;33m(\u001b[0m\u001b[0mset1\u001b[0m\u001b[1;33m)\u001b[0m\u001b[1;33m\u001b[0m\u001b[1;33m\u001b[0m\u001b[0m\n",
      "\u001b[1;31mKeyError\u001b[0m: '3'"
     ]
    }
   ],
   "source": [
    "set1 = {\"Ayşe\", 3, 4, \"Kevser\"}\n",
    "\n",
    "set1.remove(\"Ayşe\")  #Burada \"Ayşe\" setten çıkarılacak\n",
    "print(set1)\n",
    "\n",
    "set1.remove(\"3\")      #Burada hata verecek\n",
    "print(set1)"
   ]
  },
  {
   "cell_type": "markdown",
   "metadata": {},
   "source": [
    "### discard()"
   ]
  },
  {
   "cell_type": "markdown",
   "metadata": {},
   "source": [
    "Çıkarılmak istenen eleman sette yoksa discard metodu hata vermeyecktir."
   ]
  },
  {
   "cell_type": "code",
   "execution_count": 3,
   "metadata": {},
   "outputs": [
    {
     "name": "stdout",
     "output_type": "stream",
     "text": [
      "{'Kevser', 3, 4}\n",
      "{'Kevser', 3, 4}\n"
     ]
    }
   ],
   "source": [
    "set1 = {\"Ayşe\", 3, 4, \"Kevser\"}\n",
    "\n",
    "set1.discard(\"Ayşe\")  #Burada \"Ayşe\" setten çıkarılacak\n",
    "print(set1)\n",
    "\n",
    "set1.discard(\"3\")     #Burada \"3\" sette bulunamayacağı için set değişmeyecek\n",
    "print(set1)"
   ]
  },
  {
   "cell_type": "markdown",
   "metadata": {},
   "source": [
    "### pop()"
   ]
  },
  {
   "cell_type": "markdown",
   "metadata": {},
   "source": [
    "Setten eleman çıkartmak için __pop()__ metodu da kullanılabilir. pop() normalde son elemanı çıkarır ve onu döner fakat setler sıralı olmadığı için hangi elemanı çıkatracağını bilemeyeiz."
   ]
  },
  {
   "cell_type": "code",
   "execution_count": 8,
   "metadata": {
    "scrolled": true
   },
   "outputs": [
    {
     "name": "stdout",
     "output_type": "stream",
     "text": [
      "3\n",
      "Kevser\n"
     ]
    }
   ],
   "source": [
    "set1 = {\"Ayşe\", 3, 4, \"Kevser\"}\n",
    "çıkartılan = set1.pop()\n",
    "\n",
    "print(len(set1))\n",
    "print(çıkartılan)"
   ]
  },
  {
   "cell_type": "markdown",
   "metadata": {},
   "source": [
    "### del"
   ]
  },
  {
   "cell_type": "markdown",
   "metadata": {},
   "source": [
    "**del** metodu kullanılarak set tamamen silinebilir."
   ]
  },
  {
   "cell_type": "code",
   "execution_count": 5,
   "metadata": {
    "scrolled": true
   },
   "outputs": [
    {
     "ename": "NameError",
     "evalue": "name 'meyveler' is not defined",
     "output_type": "error",
     "traceback": [
      "\u001b[1;31m---------------------------------------------------------------------------\u001b[0m",
      "\u001b[1;31mNameError\u001b[0m                                 Traceback (most recent call last)",
      "\u001b[1;32m~\\AppData\\Local\\Temp/ipykernel_9032/1666821968.py\u001b[0m in \u001b[0;36m<module>\u001b[1;34m\u001b[0m\n\u001b[0;32m      1\u001b[0m \u001b[0mmeyveler\u001b[0m \u001b[1;33m=\u001b[0m \u001b[1;33m{\u001b[0m\u001b[1;34m\"elma\"\u001b[0m\u001b[1;33m,\u001b[0m \u001b[1;34m\"armut\"\u001b[0m\u001b[1;33m,\u001b[0m \u001b[1;34m\"muz\"\u001b[0m\u001b[1;33m}\u001b[0m\u001b[1;33m\u001b[0m\u001b[1;33m\u001b[0m\u001b[0m\n\u001b[0;32m      2\u001b[0m \u001b[1;32mdel\u001b[0m \u001b[0mmeyveler\u001b[0m\u001b[1;33m\u001b[0m\u001b[1;33m\u001b[0m\u001b[0m\n\u001b[1;32m----> 3\u001b[1;33m \u001b[0mprint\u001b[0m\u001b[1;33m(\u001b[0m\u001b[0mmeyveler\u001b[0m\u001b[1;33m)\u001b[0m\u001b[1;33m\u001b[0m\u001b[1;33m\u001b[0m\u001b[0m\n\u001b[0m",
      "\u001b[1;31mNameError\u001b[0m: name 'meyveler' is not defined"
     ]
    }
   ],
   "source": [
    "meyveler = {\"elma\", \"armut\", \"muz\"}\n",
    "del meyveler\n",
    "print(meyveler)"
   ]
  },
  {
   "cell_type": "markdown",
   "metadata": {},
   "source": [
    "# Dictionaries(Sözlükler)"
   ]
  },
  {
   "cell_type": "markdown",
   "metadata": {},
   "source": [
    "Sözlükler (dictionary) Python dilinin son derece işe yarar veri tiplerinden bir tanesidir. Sözlükler, şimdiye kadar gördüğümüz tüm veritiplerinden yapısı gereği farklıdır. Sözlüğün içindeki her bir eleman listelerin aksine indeks ile değil **anahtar (key) ve değer (value) çiftleri** olarak tutulur bu açıdan gerçek hayattaki sözlüklere benzerler.\n",
    "\n",
    "Sözlükler süslü parantezler arasına yazılan anahtar ve değer çiftlerinin virgülle ayrılmasıyla oluşur.\n",
    "Basit bir sözlük örneği:"
   ]
  },
  {
   "cell_type": "code",
   "execution_count": 2,
   "metadata": {},
   "outputs": [
    {
     "name": "stdout",
     "output_type": "stream",
     "text": [
      "{'computer': 'bilgisayar', 'technical': 'teknik', 'university': 'üniversite'}\n"
     ]
    }
   ],
   "source": [
    "dictionary = {\"computer\": \"bilgisayar\",\n",
    "              \n",
    "              \"technical\": \"teknik\", # \"technical\" anahtar, \"teknik\" değer.\n",
    "              \n",
    "              \"university\": \"üniversite\"}\n",
    "  \n",
    "print(dictionary)"
   ]
  },
  {
   "cell_type": "markdown",
   "metadata": {},
   "source": [
    "##### Boş bir sözlük oluşturmak"
   ]
  },
  {
   "cell_type": "code",
   "execution_count": 55,
   "metadata": {},
   "outputs": [
    {
     "name": "stdout",
     "output_type": "stream",
     "text": [
      "<class 'dict'>\n"
     ]
    }
   ],
   "source": [
    "dictionary= dict()\n",
    "print(type(dictionary))"
   ]
  },
  {
   "cell_type": "markdown",
   "metadata": {},
   "source": [
    "Veya;"
   ]
  },
  {
   "cell_type": "code",
   "execution_count": 66,
   "metadata": {},
   "outputs": [
    {
     "name": "stdout",
     "output_type": "stream",
     "text": [
      "<class 'dict'>\n"
     ]
    }
   ],
   "source": [
    "dictionary = {}\n",
    "print(type(dictionary))"
   ]
  },
  {
   "cell_type": "markdown",
   "metadata": {},
   "source": [
    "Sözlüğün uzunluğu **len()** fonksiyonu kullanılarak bulunabilir"
   ]
  },
  {
   "cell_type": "code",
   "execution_count": 16,
   "metadata": {},
   "outputs": [
    {
     "name": "stdout",
     "output_type": "stream",
     "text": [
      "3\n"
     ]
    }
   ],
   "source": [
    "kedi = {\"cins\": \"sarman\",\n",
    "        \"cinsiyet\": \"dişi\",\n",
    "        \"yaş\": \"1\",\n",
    "        \"yaş\": \"2\"}\n",
    "\n",
    "print(len(kedi))"
   ]
  },
  {
   "cell_type": "markdown",
   "metadata": {},
   "source": [
    "##### Sözlük Değerlerine Erişmek"
   ]
  },
  {
   "cell_type": "markdown",
   "metadata": {},
   "source": [
    "Sözlüklerde anahtar(key), değere(value) erişmenin bir yoludur yani index gibi işlev görür. Bir *değeri* elde etmek için köşeli parantz içerisinde *anahtarları* kullanılır:"
   ]
  },
  {
   "cell_type": "code",
   "execution_count": 52,
   "metadata": {},
   "outputs": [
    {
     "name": "stdout",
     "output_type": "stream",
     "text": [
      "1\n",
      "3\n"
     ]
    }
   ],
   "source": [
    "dictionary = {\"sıfır\":0,\n",
    "              \"bir\":1,\n",
    "              \"iki\":2,\n",
    "              \"üç\":3}\n",
    "\n",
    "print(dictionary[\"bir\"]) #\"bir\" anahtarına karşılık gelen değer yazdırılır.\n",
    "\n",
    "print(dictionary[\"üç\"]) #\"üç\" anahtarına karşılık gelen değer yazdırılır."
   ]
  },
  {
   "cell_type": "code",
   "execution_count": 14,
   "metadata": {},
   "outputs": [
    {
     "name": "stdout",
     "output_type": "stream",
     "text": [
      "dişi\n"
     ]
    }
   ],
   "source": [
    "kedi = {\"cins\": \"sarman\",\n",
    "        \"cinsiyet\": \"dişi\",\n",
    "        \"yaş\": \"1\"}\n",
    "  \n",
    "print(kedi['cinsiyet'])"
   ]
  },
  {
   "cell_type": "markdown",
   "metadata": {},
   "source": [
    "Dictionary(sözlük) değiştirilebilir ve sıralıdır(python 3.7 versiyonundan itibaren); fakat bir anahtarın(key) birden çok kullanımına izin vermez."
   ]
  },
  {
   "cell_type": "markdown",
   "metadata": {},
   "source": [
    "Eğer bir anahtar birden çok kullanılmak istenirse veya sözlüğe içinde bulunan bir anahtarla yeni bir değer yüklenmeye çalışılırsa var olan anahtarın değeri yeni değerle değiştirilir."
   ]
  },
  {
   "cell_type": "code",
   "execution_count": 15,
   "metadata": {},
   "outputs": [
    {
     "name": "stdout",
     "output_type": "stream",
     "text": [
      "{'cins': 'sarman', 'cinsiyet': 'dişi', 'yaş': '2'}\n"
     ]
    }
   ],
   "source": [
    "kedi = {\"cins\": \"sarman\",\n",
    "        \"cinsiyet\": \"dişi\",\n",
    "        \"yaş\": \"1\",    #\"yaş\" anahtarına \"1\" değeri atanmıştır \n",
    "        \"yaş\": \"2\"}    #\"yaş\" anahtarının değeri \"2\" olarak değiştirilmiştir\n",
    "  \n",
    "print(kedi)"
   ]
  },
  {
   "cell_type": "markdown",
   "metadata": {},
   "source": [
    "Sözlükte **olmayan bir anahtarın** değerine erişmeye çalıştığımızda ise **KeyError** alırız."
   ]
  },
  {
   "cell_type": "code",
   "execution_count": 53,
   "metadata": {
    "scrolled": true
   },
   "outputs": [
    {
     "ename": "KeyError",
     "evalue": "'dokuz'",
     "output_type": "error",
     "traceback": [
      "\u001b[1;31m---------------------------------------------------------------------------\u001b[0m",
      "\u001b[1;31mKeyError\u001b[0m                                  Traceback (most recent call last)",
      "\u001b[1;32m<ipython-input-53-5022e31974b3>\u001b[0m in \u001b[0;36m<module>\u001b[1;34m\u001b[0m\n\u001b[1;32m----> 1\u001b[1;33m \u001b[0mprint\u001b[0m\u001b[1;33m(\u001b[0m\u001b[0mdictionary\u001b[0m\u001b[1;33m[\u001b[0m\u001b[1;34m\"dokuz\"\u001b[0m\u001b[1;33m]\u001b[0m\u001b[1;33m)\u001b[0m\u001b[1;33m\u001b[0m\u001b[1;33m\u001b[0m\u001b[0m\n\u001b[0m",
      "\u001b[1;31mKeyError\u001b[0m: 'dokuz'"
     ]
    }
   ],
   "source": [
    "print(dictionary[\"dokuz\"])"
   ]
  },
  {
   "cell_type": "markdown",
   "metadata": {},
   "source": [
    "Bu hatayı önlemek için Python'da defaultdict şu şekilde kullanılır:\n",
    "\n",
    "1. Kodun başına Python collections'tan defaultdict eklenir.\n",
    "2. Dictionary olarak kullanacağımız variable ismi şu şekilde tanımlanır:\n",
    "\n",
    "        dict_adı = defaultdict(lambda: 'eleman bulunmadığında tanımlanacak default değer')"
   ]
  },
  {
   "cell_type": "code",
   "execution_count": 32,
   "metadata": {},
   "outputs": [
    {
     "name": "stdout",
     "output_type": "stream",
     "text": [
      "Vanilyalı\n",
      "Karamelli\n",
      "defaultdict(<function <lambda> at 0x0167E070>, {'Gökalp': 'Çikolatalı', 'Hüseyin': 'Karamelli', 'Serra': 'Vanilyalı'})\n"
     ]
    }
   ],
   "source": [
    "from collections import defaultdict\n",
    "\n",
    "dondurma = defaultdict(lambda: 'Vanilyalı')\n",
    "\n",
    "dondurma['Gökalp'] = 'Çikolatalı'\n",
    "dondurma['Hüseyin'] = 'Karamelli'\n",
    "\n",
    "print(dondurma['Serra'])\n",
    "print(dondurma['Hüseyin'])\n",
    "\n",
    "print(dondurma)"
   ]
  },
  {
   "cell_type": "markdown",
   "metadata": {},
   "source": [
    "Bir anahtarın sözlükte olup olmadığını kontrol etmek için **if** ve **in** yapıları kullanılabilir."
   ]
  },
  {
   "cell_type": "code",
   "execution_count": 24,
   "metadata": {},
   "outputs": [
    {
     "name": "stdout",
     "output_type": "stream",
     "text": [
      "Kedi 1 yaşında.\n"
     ]
    }
   ],
   "source": [
    "kedi = {\"cins\": \"sarman\",\n",
    "        \"cinsiyet\": \"dişi\",\n",
    "        \"yaş\": \"1\"}\n",
    "\n",
    "if \"yaş\" in kedi:\n",
    "    print(\"Kedi \" + kedi[\"yaş\"] + \" yaşında.\")"
   ]
  },
  {
   "cell_type": "markdown",
   "metadata": {},
   "source": [
    "###### Sözlüğe Değer Eklemek"
   ]
  },
  {
   "cell_type": "code",
   "execution_count": 56,
   "metadata": {},
   "outputs": [
    {
     "name": "stdout",
     "output_type": "stream",
     "text": [
      "{'bir': 1, 'iki': 2, 'üç': 3, 'dört': 4}\n"
     ]
    }
   ],
   "source": [
    "dictionary = {\"bir\":1,\n",
    "              \"iki\":2,\n",
    "              \"üç\" :3 }\n",
    "\n",
    "dictionary[\"dört\"] = 4\n",
    " \n",
    "print(dictionary)"
   ]
  },
  {
   "cell_type": "markdown",
   "metadata": {},
   "source": [
    "Sözlüğe içinde bulunan bir anahtarla yeni bir değer yüklenmeye çalışılırsa var olan anahtarın değeri yeni değerle değiştirilir."
   ]
  },
  {
   "cell_type": "code",
   "execution_count": 25,
   "metadata": {},
   "outputs": [
    {
     "name": "stdout",
     "output_type": "stream",
     "text": [
      "{'bir': 1, 'iki': 2, 'üç': 4}\n"
     ]
    }
   ],
   "source": [
    "dictionary = {\"bir\":1,\n",
    "              \"iki\":2,\n",
    "              \"üç\" :3 }\n",
    "\n",
    "dictionary[\"üç\"] = 4\n",
    " \n",
    "print(dictionary)"
   ]
  },
  {
   "cell_type": "markdown",
   "metadata": {},
   "source": [
    "Sözlüğü başka bir sözlükle birleştirmek için **update()** metodu kullanılır. Eğer eklenmek istenen sözlük, var olan sözlükteki anahtarlardan birine farklı bir değer atamışsa, var olan anahtarın değeri yenisiyle değiştirilir."
   ]
  },
  {
   "cell_type": "code",
   "execution_count": 26,
   "metadata": {},
   "outputs": [
    {
     "name": "stdout",
     "output_type": "stream",
     "text": [
      "{'bir': 11, 'iki': 2, 'üç': 3, 'dört': 4, 'beş': 5}\n"
     ]
    }
   ],
   "source": [
    "dictionary = {\"bir\":1,\n",
    "              \"iki\":2,\n",
    "              \"üç\" :3 }\n",
    "\n",
    "dictionary2 = {\"bir\": 11,\n",
    "              \"dört\": 4,\n",
    "              \"beş\": 5}\n",
    "\n",
    "dictionary.update(dictionary2)\n",
    "print(dictionary)"
   ]
  },
  {
   "cell_type": "markdown",
   "metadata": {},
   "source": [
    "###### Sözlük Değerlerini Değiştirmek"
   ]
  },
  {
   "cell_type": "markdown",
   "metadata": {},
   "source": [
    "Sözlükteki herhangi bir değeri onun anahtarına farklı değer atayarak değiştirebilirsiniz."
   ]
  },
  {
   "cell_type": "code",
   "execution_count": 1,
   "metadata": {},
   "outputs": [
    {
     "name": "stdout",
     "output_type": "stream",
     "text": [
      "{'bir': 1, 'iki': 2, 'üç': 4}\n"
     ]
    }
   ],
   "source": [
    "dictionary = {\"bir\":1,\n",
    "              \"iki\":2,\n",
    "              \"üç\" :3 }\n",
    "\n",
    "dictionary[\"üç\"] = 4\n",
    "print(dictionary)"
   ]
  },
  {
   "cell_type": "markdown",
   "metadata": {},
   "source": [
    "Veya **update()** metodunu kullanabilirsiniz."
   ]
  },
  {
   "cell_type": "code",
   "execution_count": 3,
   "metadata": {},
   "outputs": [
    {
     "name": "stdout",
     "output_type": "stream",
     "text": [
      "{'bir': 1, 'iki': 2, 'üç': 4, 'dört': 5}\n"
     ]
    }
   ],
   "source": [
    "dictionary = {\"bir\":1,\n",
    "              \"iki\":2,\n",
    "              \"üç\" :3 }\n",
    "\n",
    "dictionary.update({\"üç\":4})\n",
    "dictionary.update({\"dört\":5})\n",
    "print(dictionary)"
   ]
  },
  {
   "cell_type": "markdown",
   "metadata": {},
   "source": [
    "###### Sözlük Değerlerini Silmek"
   ]
  },
  {
   "cell_type": "markdown",
   "metadata": {},
   "source": [
    "**pop()**"
   ]
  },
  {
   "cell_type": "markdown",
   "metadata": {},
   "source": [
    "Belirli bir anahtarın değerini silmek için kullanılır. Eğer anahtar sözlükte yoksa hata verir."
   ]
  },
  {
   "cell_type": "code",
   "execution_count": 7,
   "metadata": {
    "scrolled": true
   },
   "outputs": [
    {
     "name": "stdout",
     "output_type": "stream",
     "text": [
      "{'bir': 1, 'iki': 2}\n"
     ]
    },
    {
     "ename": "KeyError",
     "evalue": "'üç'",
     "output_type": "error",
     "traceback": [
      "\u001b[1;31m---------------------------------------------------------------------------\u001b[0m",
      "\u001b[1;31mKeyError\u001b[0m                                  Traceback (most recent call last)",
      "\u001b[1;32m~\\AppData\\Local\\Temp/ipykernel_14500/2091035098.py\u001b[0m in \u001b[0;36m<module>\u001b[1;34m\u001b[0m\n\u001b[0;32m      6\u001b[0m \u001b[0mprint\u001b[0m\u001b[1;33m(\u001b[0m\u001b[0mdictionary\u001b[0m\u001b[1;33m)\u001b[0m\u001b[1;33m\u001b[0m\u001b[1;33m\u001b[0m\u001b[0m\n\u001b[0;32m      7\u001b[0m \u001b[1;33m\u001b[0m\u001b[0m\n\u001b[1;32m----> 8\u001b[1;33m \u001b[0mdictionary\u001b[0m\u001b[1;33m.\u001b[0m\u001b[0mpop\u001b[0m\u001b[1;33m(\u001b[0m\u001b[1;34m\"üç\"\u001b[0m\u001b[1;33m)\u001b[0m\u001b[1;33m\u001b[0m\u001b[1;33m\u001b[0m\u001b[0m\n\u001b[0m\u001b[0;32m      9\u001b[0m \u001b[0mprint\u001b[0m\u001b[1;33m(\u001b[0m\u001b[0mdictionary\u001b[0m\u001b[1;33m)\u001b[0m\u001b[1;33m\u001b[0m\u001b[1;33m\u001b[0m\u001b[0m\n",
      "\u001b[1;31mKeyError\u001b[0m: 'üç'"
     ]
    }
   ],
   "source": [
    "dictionary = {\"bir\":1,\n",
    "              \"iki\":2,\n",
    "              \"üç\" :3 }\n",
    "\n",
    "dictionary.pop(\"üç\")\n",
    "print(dictionary)\n",
    "\n",
    "dictionary.pop(\"üç\")\n",
    "print(dictionary)"
   ]
  },
  {
   "cell_type": "markdown",
   "metadata": {},
   "source": [
    "**popitem()**"
   ]
  },
  {
   "cell_type": "markdown",
   "metadata": {},
   "source": [
    "Bu metod sözlüğe son girilen(python 3.7'den itibaren sözlük sıralı, bu yüzden rastgele bir elemanı silmez) değeri silmek için kullanılır"
   ]
  },
  {
   "cell_type": "code",
   "execution_count": 8,
   "metadata": {},
   "outputs": [
    {
     "name": "stdout",
     "output_type": "stream",
     "text": [
      "{'cins': 'sarman', 'cinsiyet': 'dişi'}\n"
     ]
    }
   ],
   "source": [
    "kedi = {\"cins\": \"sarman\",\n",
    "        \"cinsiyet\": \"dişi\",\n",
    "        \"yaş\": \"1\"}\n",
    "\n",
    "kedi.popitem()\n",
    "print(kedi)"
   ]
  },
  {
   "cell_type": "markdown",
   "metadata": {},
   "source": [
    "**del[]**"
   ]
  },
  {
   "cell_type": "markdown",
   "metadata": {},
   "source": [
    "Belirli bir anahtarın değerini silmek için kullanılır. Eğer anahtar sözlükte yoksa hata verir."
   ]
  },
  {
   "cell_type": "code",
   "execution_count": 9,
   "metadata": {
    "scrolled": true
   },
   "outputs": [
    {
     "name": "stdout",
     "output_type": "stream",
     "text": [
      "{'cins': 'sarman', 'yaş': '1'}\n"
     ]
    },
    {
     "ename": "KeyError",
     "evalue": "'cinsiyet'",
     "output_type": "error",
     "traceback": [
      "\u001b[1;31m---------------------------------------------------------------------------\u001b[0m",
      "\u001b[1;31mKeyError\u001b[0m                                  Traceback (most recent call last)",
      "\u001b[1;32m~\\AppData\\Local\\Temp/ipykernel_14500/2135720129.py\u001b[0m in \u001b[0;36m<module>\u001b[1;34m\u001b[0m\n\u001b[0;32m      6\u001b[0m \u001b[0mprint\u001b[0m\u001b[1;33m(\u001b[0m\u001b[0mkedi\u001b[0m\u001b[1;33m)\u001b[0m\u001b[1;33m\u001b[0m\u001b[1;33m\u001b[0m\u001b[0m\n\u001b[0;32m      7\u001b[0m \u001b[1;33m\u001b[0m\u001b[0m\n\u001b[1;32m----> 8\u001b[1;33m \u001b[1;32mdel\u001b[0m \u001b[0mkedi\u001b[0m\u001b[1;33m[\u001b[0m\u001b[1;34m\"cinsiyet\"\u001b[0m\u001b[1;33m]\u001b[0m\u001b[1;33m\u001b[0m\u001b[1;33m\u001b[0m\u001b[0m\n\u001b[0m\u001b[0;32m      9\u001b[0m \u001b[0mprint\u001b[0m\u001b[1;33m(\u001b[0m\u001b[0mkedi\u001b[0m\u001b[1;33m)\u001b[0m\u001b[1;33m\u001b[0m\u001b[1;33m\u001b[0m\u001b[0m\n",
      "\u001b[1;31mKeyError\u001b[0m: 'cinsiyet'"
     ]
    }
   ],
   "source": [
    "kedi = {\"cins\": \"sarman\",\n",
    "        \"cinsiyet\": \"dişi\",\n",
    "        \"yaş\": \"1\"}\n",
    "\n",
    "del kedi[\"cinsiyet\"]\n",
    "print(kedi)\n",
    "\n",
    "del kedi[\"cinsiyet\"]\n",
    "print(kedi)"
   ]
  },
  {
   "cell_type": "markdown",
   "metadata": {},
   "source": [
    "Sözlüğü tamamen silmek için de kullanılır."
   ]
  },
  {
   "cell_type": "code",
   "execution_count": 10,
   "metadata": {
    "scrolled": true
   },
   "outputs": [
    {
     "ename": "NameError",
     "evalue": "name 'kedi' is not defined",
     "output_type": "error",
     "traceback": [
      "\u001b[1;31m---------------------------------------------------------------------------\u001b[0m",
      "\u001b[1;31mNameError\u001b[0m                                 Traceback (most recent call last)",
      "\u001b[1;32m~\\AppData\\Local\\Temp/ipykernel_14500/2374744252.py\u001b[0m in \u001b[0;36m<module>\u001b[1;34m\u001b[0m\n\u001b[0;32m      4\u001b[0m \u001b[1;33m\u001b[0m\u001b[0m\n\u001b[0;32m      5\u001b[0m \u001b[1;32mdel\u001b[0m \u001b[0mkedi\u001b[0m\u001b[1;33m\u001b[0m\u001b[1;33m\u001b[0m\u001b[0m\n\u001b[1;32m----> 6\u001b[1;33m \u001b[0mprint\u001b[0m\u001b[1;33m(\u001b[0m\u001b[0mkedi\u001b[0m\u001b[1;33m)\u001b[0m\u001b[1;33m\u001b[0m\u001b[1;33m\u001b[0m\u001b[0m\n\u001b[0m",
      "\u001b[1;31mNameError\u001b[0m: name 'kedi' is not defined"
     ]
    }
   ],
   "source": [
    "kedi = {\"cins\": \"sarman\",\n",
    "        \"cinsiyet\": \"dişi\",\n",
    "        \"yaş\": \"1\"}\n",
    "\n",
    "del kedi\n",
    "print(kedi)"
   ]
  },
  {
   "cell_type": "markdown",
   "metadata": {},
   "source": [
    "**clear()**"
   ]
  },
  {
   "cell_type": "markdown",
   "metadata": {},
   "source": [
    "Sözlüğün içini boşaltmak için kullanılır."
   ]
  },
  {
   "cell_type": "code",
   "execution_count": 11,
   "metadata": {},
   "outputs": [
    {
     "name": "stdout",
     "output_type": "stream",
     "text": [
      "{}\n"
     ]
    }
   ],
   "source": [
    "kedi = {\"cins\": \"sarman\",\n",
    "        \"cinsiyet\": \"dişi\",\n",
    "        \"yaş\": \"1\"}\n",
    "\n",
    "kedi.clear()\n",
    "print(kedi)"
   ]
  },
  {
   "cell_type": "markdown",
   "metadata": {},
   "source": [
    "### İç İçe Sözlükler"
   ]
  },
  {
   "cell_type": "markdown",
   "metadata": {},
   "source": [
    "Tıpkı listeler gibi sözlükler de iç içe oluşturulabilir."
   ]
  },
  {
   "cell_type": "code",
   "execution_count": 67,
   "metadata": {},
   "outputs": [
    {
     "name": "stdout",
     "output_type": "stream",
     "text": [
      "{'patates': 'yaz', 'karnabahar': 'kış'}\n",
      "kış\n"
     ]
    }
   ],
   "source": [
    "dictionary = {\"sebzeler\":{\"patates\":\"yaz\",\n",
    "                          \"karnabahar\": \"kış\"},\n",
    "              \"meyveler\":{\"kiraz\":\"yaz\",\n",
    "                          \"portakal\":\"kış\"}}\n",
    "              \n",
    "print(dictionary[\"sebzeler\"])\n",
    "              \n",
    "print(dictionary[\"meyveler\"][\"portakal\"])            "
   ]
  },
  {
   "cell_type": "markdown",
   "metadata": {},
   "source": [
    "### Temel Sözlük Metodları"
   ]
  },
  {
   "cell_type": "markdown",
   "metadata": {},
   "source": [
    "#### keys()"
   ]
  },
  {
   "cell_type": "markdown",
   "metadata": {},
   "source": [
    "Bir sözlükteki bütün anahtarları liste olarak dönmek için **keys()** metodu kullanılır."
   ]
  },
  {
   "cell_type": "code",
   "execution_count": 18,
   "metadata": {},
   "outputs": [
    {
     "name": "stdout",
     "output_type": "stream",
     "text": [
      "dict_keys(['sıfır', 'bir', 'iki', 'üç'])\n"
     ]
    }
   ],
   "source": [
    "dictionary = {\"sıfır\":0,\n",
    "              \"bir\":1,\n",
    "              \"iki\":2,\n",
    "              \"üç\":3}\n",
    "print(dictionary.keys())"
   ]
  },
  {
   "cell_type": "markdown",
   "metadata": {},
   "source": [
    "Anahtarların listesi, aslında sözlükteki anahtarların bir yansımasıdır, bu yüzden sözlükte yapılan bir değişiklik anahtar listesine de yansır."
   ]
  },
  {
   "cell_type": "code",
   "execution_count": 20,
   "metadata": {
    "scrolled": false
   },
   "outputs": [
    {
     "name": "stdout",
     "output_type": "stream",
     "text": [
      "dict_keys(['sıfır', 'bir', 'iki', 'üç'])\n",
      "dict_keys(['sıfır', 'bir', 'iki', 'üç', 'dört'])\n"
     ]
    }
   ],
   "source": [
    "dictionary = {\"sıfır\":0,\n",
    "              \"bir\":1,\n",
    "              \"iki\":2,\n",
    "              \"üç\":3}\n",
    "\n",
    "x = dictionary.keys()\n",
    "print(x)\n",
    "\n",
    "dictionary[\"dört\"] = 4\n",
    "print(x)"
   ]
  },
  {
   "cell_type": "markdown",
   "metadata": {},
   "source": [
    "#### values()"
   ]
  },
  {
   "cell_type": "markdown",
   "metadata": {},
   "source": [
    "Bir sözlükteki bütün değerleri liste olarak dönmek için **values()** metodu kullanılır."
   ]
  },
  {
   "cell_type": "code",
   "execution_count": 21,
   "metadata": {},
   "outputs": [
    {
     "name": "stdout",
     "output_type": "stream",
     "text": [
      "dict_values([0, 1, 2, 3])\n"
     ]
    }
   ],
   "source": [
    "dictionary = {\"sıfır\":0,\n",
    "              \"bir\":1,\n",
    "              \"iki\":2,\n",
    "              \"üç\":3}\n",
    "print(dictionary.values())"
   ]
  },
  {
   "cell_type": "markdown",
   "metadata": {},
   "source": [
    "Değerlerin listesi, aslında sözlükteki değerlerin bir yansımasıdır, bu yüzden sözlükte yapılan bir değişiklik değerler listesine de yansır."
   ]
  },
  {
   "cell_type": "code",
   "execution_count": 22,
   "metadata": {},
   "outputs": [
    {
     "name": "stdout",
     "output_type": "stream",
     "text": [
      "dict_values([0, 1, 2, 3])\n",
      "dict_values([0, 1, 2, 3, 4])\n"
     ]
    }
   ],
   "source": [
    "dictionary = {\"sıfır\":0,\n",
    "              \"bir\":1,\n",
    "              \"iki\":2,\n",
    "              \"üç\":3}\n",
    "\n",
    "x = dictionary.values()\n",
    "print(x)\n",
    "\n",
    "dictionary[\"dört\"] = 4\n",
    "print(x)"
   ]
  },
  {
   "cell_type": "markdown",
   "metadata": {},
   "source": [
    "#### items()"
   ]
  },
  {
   "cell_type": "markdown",
   "metadata": {},
   "source": [
    "Sözlüğün tüm anahtar-değer çiftlerini bir *liste* içindeki *demetler* olarak dönmek için **items()** metodu kullanılır."
   ]
  },
  {
   "cell_type": "code",
   "execution_count": 12,
   "metadata": {
    "scrolled": false
   },
   "outputs": [
    {
     "name": "stdout",
     "output_type": "stream",
     "text": [
      "dict_items([('sıfır', 0), ('bir', 1), ('iki', 2), ('üç', 3)])\n"
     ]
    }
   ],
   "source": [
    "dictionary = {\"sıfır\":0,\n",
    "              \"bir\":1,\n",
    "              \"iki\":2,\n",
    "              \"üç\":3}\n",
    "\n",
    "print(dictionary.items())"
   ]
  },
  {
   "cell_type": "markdown",
   "metadata": {},
   "source": [
    "Anahtar-değer çiftlerinin listesi, aslında sözlüktekilerin bir yansımasıdır, bu yüzden sözlükte yapılan bir değişiklik anahtar-değer listesine de yansır."
   ]
  },
  {
   "cell_type": "code",
   "execution_count": 13,
   "metadata": {},
   "outputs": [
    {
     "name": "stdout",
     "output_type": "stream",
     "text": [
      "dict_items([('sıfır', 0), ('bir', 1), ('iki', 2), ('üç', 3)])\n",
      "dict_items([('sıfır', 0), ('bir', 1), ('iki', 2), ('üç', 3), ('dört', 4)])\n"
     ]
    }
   ],
   "source": [
    "dictionary = {\"sıfır\":0,\n",
    "              \"bir\":1,\n",
    "              \"iki\":2,\n",
    "              \"üç\":3}\n",
    "\n",
    "x = dictionary.items()\n",
    "print(x)\n",
    "\n",
    "dictionary[\"dört\"] = 4\n",
    "print(x)"
   ]
  },
  {
   "cell_type": "markdown",
   "metadata": {},
   "source": [
    "### Sözlükte Döngüler"
   ]
  },
  {
   "cell_type": "markdown",
   "metadata": {},
   "source": [
    "Sözlüğün içinde gezerken dönülen değer anahtarlardır."
   ]
  },
  {
   "cell_type": "code",
   "execution_count": 14,
   "metadata": {},
   "outputs": [
    {
     "name": "stdout",
     "output_type": "stream",
     "text": [
      "sıfır\n",
      "bir\n",
      "iki\n",
      "üç\n",
      "dört\n"
     ]
    }
   ],
   "source": [
    "dictionary = {\"sıfır\":0,\n",
    "              \"bir\":1,\n",
    "              \"iki\":2,\n",
    "              \"üç\":3,\n",
    "              \"dört\":4}\n",
    "\n",
    "for x in dictionary:\n",
    "    print(x)"
   ]
  },
  {
   "cell_type": "markdown",
   "metadata": {},
   "source": [
    "Değerleri dönmek için köşeli parantez içine anahtar yazılır."
   ]
  },
  {
   "cell_type": "code",
   "execution_count": 15,
   "metadata": {
    "scrolled": true
   },
   "outputs": [
    {
     "name": "stdout",
     "output_type": "stream",
     "text": [
      "0\n",
      "1\n",
      "2\n",
      "3\n",
      "4\n"
     ]
    }
   ],
   "source": [
    "for x in dictionary:\n",
    "    print(dictionary[x])"
   ]
  },
  {
   "cell_type": "markdown",
   "metadata": {},
   "source": [
    "Değerlerei dönmek için **values()**, anahtarları dönmek için **keys()**, anahtar-değer çiftlerini dönmek için **items()** metodlarını kullanabilirsiniz."
   ]
  },
  {
   "cell_type": "code",
   "execution_count": 28,
   "metadata": {},
   "outputs": [
    {
     "name": "stdout",
     "output_type": "stream",
     "text": [
      "0 1 2 3 4 "
     ]
    }
   ],
   "source": [
    "for x in dictionary.values():\n",
    "    print(x, end=\" \")"
   ]
  },
  {
   "cell_type": "code",
   "execution_count": 29,
   "metadata": {
    "scrolled": true
   },
   "outputs": [
    {
     "name": "stdout",
     "output_type": "stream",
     "text": [
      "sıfır bir iki üç dört "
     ]
    }
   ],
   "source": [
    "for x in dictionary.keys():\n",
    "    print(x, end=\" \")"
   ]
  },
  {
   "cell_type": "code",
   "execution_count": 30,
   "metadata": {
    "scrolled": true
   },
   "outputs": [
    {
     "name": "stdout",
     "output_type": "stream",
     "text": [
      "sıfır 0\n",
      "bir 1\n",
      "iki 2\n",
      "üç 3\n",
      "dört 4\n"
     ]
    }
   ],
   "source": [
    "for x, y in dictionary.items():\n",
    "    print(x, y)"
   ]
  }
 ],
 "metadata": {
  "kernelspec": {
   "display_name": "Python 3 (ipykernel)",
   "language": "python",
   "name": "python3"
  },
  "language_info": {
   "codemirror_mode": {
    "name": "ipython",
    "version": 3
   },
   "file_extension": ".py",
   "mimetype": "text/x-python",
   "name": "python",
   "nbconvert_exporter": "python",
   "pygments_lexer": "ipython3",
   "version": "3.9.7"
  }
 },
 "nbformat": 4,
 "nbformat_minor": 4
}
